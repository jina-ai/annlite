{
 "cells": [
  {
   "cell_type": "markdown",
   "metadata": {
    "toc": true
   },
   "source": [
    "<h1>Table of Contents<span class=\"tocSkip\"></span></h1>\n",
    "<div class=\"toc\"><ul class=\"toc-item\"><li><span><a href=\"#PQLite-explained\" data-toc-modified-id=\"PQLite-explained-1\"><span class=\"toc-item-num\">1&nbsp;&nbsp;</span>PQLite explained</a></span><ul class=\"toc-item\"><li><ul class=\"toc-item\"><li><span><a href=\"#How-does-pqlite-works\" data-toc-modified-id=\"How-does-pqlite-works-1.0.1\"><span class=\"toc-item-num\">1.0.1&nbsp;&nbsp;</span>How does pqlite works</a></span></li></ul></li></ul></li><li><span><a href=\"#Understanding-pq.fit\" data-toc-modified-id=\"Understanding-pq.fit-2\"><span class=\"toc-item-num\">2&nbsp;&nbsp;</span>Understanding <code>pq.fit</code></a></span></li><li><span><a href=\"#Understanding-pq.add\" data-toc-modified-id=\"Understanding-pq.add-3\"><span class=\"toc-item-num\">3&nbsp;&nbsp;</span>Understanding <code>pq.add</code></a></span></li><li><span><a href=\"#Understanding-pq.search\" data-toc-modified-id=\"Understanding-pq.search-4\"><span class=\"toc-item-num\">4&nbsp;&nbsp;</span>Understanding <code>pq.search</code></a></span><ul class=\"toc-item\"><li><ul class=\"toc-item\"><li><span><a href=\"#How-does-pqlite-works\" data-toc-modified-id=\"How-does-pqlite-works-4.0.1\"><span class=\"toc-item-num\">4.0.1&nbsp;&nbsp;</span>How does pqlite works</a></span></li></ul></li><li><span><a href=\"#Time\" data-toc-modified-id=\"Time-4.1\"><span class=\"toc-item-num\">4.1&nbsp;&nbsp;</span>Time</a></span></li><li><span><a href=\"#Quality\" data-toc-modified-id=\"Quality-4.2\"><span class=\"toc-item-num\">4.2&nbsp;&nbsp;</span>Quality</a></span><ul class=\"toc-item\"><li><span><a href=\"#Plotting-pq-neighbors-vs-true-neighbors\" data-toc-modified-id=\"Plotting-pq-neighbors-vs-true-neighbors-4.2.1\"><span class=\"toc-item-num\">4.2.1&nbsp;&nbsp;</span>Plotting <code>pq neighbors</code> vs <code>true neighbors</code></a></span></li></ul></li><li><span><a href=\"#precision,-recall,-query_time-vs-n_subvectors-&amp;--n_cells\" data-toc-modified-id=\"precision,-recall,-query_time-vs-n_subvectors-&amp;--n_cells-4.3\"><span class=\"toc-item-num\">4.3&nbsp;&nbsp;</span><code>precision, recall, query_time</code> vs <code>n_subvectors</code> &amp;  <code>n_cells</code></a></span></li></ul></li></ul></div>"
   ]
  },
  {
   "cell_type": "markdown",
   "metadata": {
    "ExecuteTime": {
     "end_time": "2021-11-15T10:56:27.351656Z",
     "start_time": "2021-11-15T10:56:27.349773Z"
    }
   },
   "source": [
    "## PQLite explained"
   ]
  },
  {
   "cell_type": "code",
   "execution_count": 1,
   "metadata": {
    "ExecuteTime": {
     "end_time": "2021-11-22T14:07:36.685648Z",
     "start_time": "2021-11-22T14:07:36.670363Z"
    }
   },
   "outputs": [],
   "source": [
    "%load_ext autoreload\n",
    "\n",
    "%autoreload 2"
   ]
  },
  {
   "cell_type": "code",
   "execution_count": 2,
   "metadata": {
    "ExecuteTime": {
     "end_time": "2021-11-22T14:07:37.578755Z",
     "start_time": "2021-11-22T14:07:36.951533Z"
    },
    "scrolled": false
   },
   "outputs": [],
   "source": [
    "import pyximport\n",
    "pyximport.install()\n",
    "\n",
    "import pqlite\n",
    "pqlite.__path__\n",
    "import time\n",
    "\n",
    "import jina\n",
    "from jina.math.distance import cdist\n",
    "\n",
    "import sklearn\n",
    "from sklearn.datasets import make_blobs\n",
    "from sklearn.model_selection import train_test_split\n",
    "\n",
    "import random\n",
    "import numpy as np\n",
    "from pqlite import PQLite\n"
   ]
  },
  {
   "cell_type": "markdown",
   "metadata": {},
   "source": [
    "#### How does pqlite works\n",
    "\n",
    "Pqlite has a first coarse search step.\n",
    "\n",
    "When adding elements to PQLite elements are stored in cells.\n",
    "\n",
    "The number `n_datapoints / n_cells` will be roughly the number of elements in each cell."
   ]
  },
  {
   "cell_type": "code",
   "execution_count": 3,
   "metadata": {
    "ExecuteTime": {
     "end_time": "2021-11-22T14:07:37.656973Z",
     "start_time": "2021-11-22T14:07:37.639457Z"
    }
   },
   "outputs": [],
   "source": [
    "Nq = 1\n",
    "D = 128 \n",
    "top_k = 100\n",
    "n_cells = 10\n",
    "n_subvectors = 32"
   ]
  },
  {
   "cell_type": "markdown",
   "metadata": {},
   "source": [
    "## Understanding `pq.fit`\n",
    "\n",
    "Internally, when doing `pq.fit(Xtr)` the `pq` class learns a quantizer stored in `pq.pq_codec`.\n",
    "\n",
    "The `pq` does not add data unitl `pq.add()` is called.\n",
    "\n",
    "We can see that the cells in `pq` are empty"
   ]
  },
  {
   "cell_type": "markdown",
   "metadata": {
    "ExecuteTime": {
     "end_time": "2021-11-19T14:15:38.807942Z",
     "start_time": "2021-11-19T14:15:38.790512Z"
    }
   },
   "source": [
    "Let us see what we have after adding to PQLIte with 500 examples\n"
   ]
  },
  {
   "cell_type": "code",
   "execution_count": 4,
   "metadata": {
    "ExecuteTime": {
     "end_time": "2021-11-22T14:07:39.130275Z",
     "start_time": "2021-11-22T14:07:37.948060Z"
    }
   },
   "outputs": [
    {
     "name": "stderr",
     "output_type": "stream",
     "text": [
      "2021-11-22 15:07:37.972 | INFO     | pqlite.index:fit:96 - => start training VQ codec with 480 data...\n",
      "2021-11-22 15:07:37.990 | INFO     | pqlite.index:fit:99 - => start training PQ codec with 480 data...\n",
      "2021-11-22 15:07:39.128 | INFO     | pqlite.index:fit:102 - => pqlite is successfully trained!\n"
     ]
    }
   ],
   "source": [
    "\n",
    "Nt = 500\n",
    "\n",
    "np.random.seed(1234)\n",
    "Xtr, Xte = train_test_split(make_blobs(n_samples = Nt, n_features = D)[0].astype(np.float32), test_size=20)\n",
    "\n",
    "# the column schema: (name:str, dtype:type, create_index: bool)\n",
    "pq = PQLite(d_vector=D, \n",
    "            n_cells=n_cells,\n",
    "            n_subvectors=n_subvectors, \n",
    "            columns=[('x', float, True)])\n",
    "\n",
    "pq.fit(Xtr)\n"
   ]
  },
  {
   "cell_type": "markdown",
   "metadata": {},
   "source": [
    "Information about hyperparams"
   ]
  },
  {
   "cell_type": "code",
   "execution_count": 5,
   "metadata": {
    "ExecuteTime": {
     "end_time": "2021-11-22T14:07:40.315210Z",
     "start_time": "2021-11-22T14:07:39.198879Z"
    }
   },
   "outputs": [
    {
     "name": "stderr",
     "output_type": "stream",
     "text": [
      "\u001b[1;33mUserWarning: One of the clusters is empty. Re-run kmeans with a different initialization.\u001b[0m \u001b[1;30m(raised from /Users/davidbuchaca1/opt/anaconda3/lib/python3.8/site-packages/scipy/cluster/vq.py:607)\u001b[0m\n"
     ]
    }
   ],
   "source": [
    "pq.pq_codec.fit(Xtr)"
   ]
  },
  {
   "cell_type": "code",
   "execution_count": 6,
   "metadata": {
    "ExecuteTime": {
     "end_time": "2021-11-22T14:07:40.400190Z",
     "start_time": "2021-11-22T14:07:40.381581Z"
    },
    "scrolled": true
   },
   "outputs": [
    {
     "name": "stdout",
     "output_type": "stream",
     "text": [
      "pq.code_size = 32\n",
      "pq.d_subvector = 4\n",
      "pq.code_size = 32\n",
      "pq.n_subvectors = 32\n"
     ]
    }
   ],
   "source": [
    "print(f'pq.code_size = {pq.code_size}')\n",
    "print(f'pq.d_subvector = {pq.d_subvector}')\n",
    "print(f'pq.code_size = {pq.code_size}')\n",
    "print(f'pq.n_subvectors = {pq.n_subvectors }')"
   ]
  },
  {
   "cell_type": "code",
   "execution_count": 7,
   "metadata": {
    "ExecuteTime": {
     "end_time": "2021-11-22T14:07:40.485918Z",
     "start_time": "2021-11-22T14:07:40.464580Z"
    }
   },
   "outputs": [
    {
     "data": {
      "text/plain": [
       "array([0, 0, 0, 0, 0, 0, 0, 0, 0, 0])"
      ]
     },
     "execution_count": 7,
     "metadata": {},
     "output_type": "execute_result"
    }
   ],
   "source": [
    "pq._cell_size"
   ]
  },
  {
   "cell_type": "markdown",
   "metadata": {},
   "source": [
    "Nevertheless we can use the current `quantizer` stored in `pq.pq_codec` to encode data "
   ]
  },
  {
   "cell_type": "code",
   "execution_count": 8,
   "metadata": {
    "ExecuteTime": {
     "end_time": "2021-11-22T14:07:40.566863Z",
     "start_time": "2021-11-22T14:07:40.546564Z"
    }
   },
   "outputs": [
    {
     "data": {
      "text/plain": [
       "array([[132,  40,  25,  30, 160,  92,   9,  47, 131, 255,  17, 178,  41,\n",
       "         53,   5,  52, 255, 153, 163,  80, 203, 164, 231, 106,   8,  98,\n",
       "        243,  35, 201,  25,  74, 222]], dtype=uint8)"
      ]
     },
     "execution_count": 8,
     "metadata": {},
     "output_type": "execute_result"
    }
   ],
   "source": [
    "pq.encode(Xte[[0]])"
   ]
  },
  {
   "cell_type": "markdown",
   "metadata": {},
   "source": [
    "This quantizer uses a codebook for each of the subspaces in the Product space. \n",
    "\n",
    "Since we have code_size = 32 this means we will have 32 different subspaces, which will have been trained with the corresponding columns from the training data.\n",
    "\n",
    "In this case since `pq.d_subvector` is 4 each of the slices `Xtr[:,0:4],Xtr[:,4:8],Xtr[:,8:12],....` will have a corresponding codebook. This matches because `128/32=4`.\n",
    "\n",
    "All codebooks are stored in `pq.pq_codec.codebooks`"
   ]
  },
  {
   "cell_type": "code",
   "execution_count": 9,
   "metadata": {
    "ExecuteTime": {
     "end_time": "2021-11-22T14:07:40.652071Z",
     "start_time": "2021-11-22T14:07:40.633333Z"
    }
   },
   "outputs": [
    {
     "data": {
      "text/plain": [
       "(32, 256, 4)"
      ]
     },
     "execution_count": 9,
     "metadata": {},
     "output_type": "execute_result"
    }
   ],
   "source": [
    "pq.pq_codec.codebooks.shape"
   ]
  },
  {
   "cell_type": "markdown",
   "metadata": {},
   "source": [
    "And one of the codebooks contains a matrix of shape `(K,d_subvector)` where `K` is the number of prototypes for each subspace. "
   ]
  },
  {
   "cell_type": "code",
   "execution_count": 10,
   "metadata": {
    "ExecuteTime": {
     "end_time": "2021-11-22T14:07:40.736910Z",
     "start_time": "2021-11-22T14:07:40.718692Z"
    }
   },
   "outputs": [
    {
     "data": {
      "text/plain": [
       "(256, 4)"
      ]
     },
     "execution_count": 10,
     "metadata": {},
     "output_type": "execute_result"
    }
   ],
   "source": [
    "pq.pq_codec.codebooks[0].shape"
   ]
  },
  {
   "cell_type": "markdown",
   "metadata": {},
   "source": [
    "##### Understanding the encoding"
   ]
  },
  {
   "cell_type": "markdown",
   "metadata": {},
   "source": [
    "Once we have fitted a `pq.codec` we can encode the data.\n",
    "This process takes a real valued vector, splits it in slices of size `pq.d_subvector` and each of the slices is assigned to the closest prototype stored in the codebook of the corresponding slice.\n",
    "\n",
    "For example we can take an slice of a vector and look where it should be matched\n"
   ]
  },
  {
   "cell_type": "code",
   "execution_count": 11,
   "metadata": {
    "ExecuteTime": {
     "end_time": "2021-11-22T14:07:40.823574Z",
     "start_time": "2021-11-22T14:07:40.804146Z"
    }
   },
   "outputs": [
    {
     "data": {
      "text/plain": [
       "array([-5.496039 ,  6.284065 ,  1.7528343,  2.411145 ], dtype=float32)"
      ]
     },
     "execution_count": 11,
     "metadata": {},
     "output_type": "execute_result"
    }
   ],
   "source": [
    "slice_0 = Xte[0][0:4]\n",
    "slice_0"
   ]
  },
  {
   "cell_type": "code",
   "execution_count": 12,
   "metadata": {
    "ExecuteTime": {
     "end_time": "2021-11-22T14:07:40.905828Z",
     "start_time": "2021-11-22T14:07:40.886776Z"
    }
   },
   "outputs": [
    {
     "name": "stdout",
     "output_type": "stream",
     "text": [
      "(256,)\n",
      "132\n"
     ]
    }
   ],
   "source": [
    "dists_to_prototypes_slice_0 = np.sum((pq.pq_codec.codebooks[0] - slice_0)**2, axis=1)\n",
    "print(dists_to_prototypes_slice_0.shape)\n",
    "print(dists_to_prototypes_slice_0.argmin())"
   ]
  },
  {
   "cell_type": "markdown",
   "metadata": {
    "ExecuteTime": {
     "end_time": "2021-11-19T15:25:52.398867Z",
     "start_time": "2021-11-19T15:25:52.380987Z"
    }
   },
   "source": [
    "Repeating this process for each slice will encode our vector in the PQ space.\n",
    "\n",
    "This can be done using `pq.encode`"
   ]
  },
  {
   "cell_type": "code",
   "execution_count": 13,
   "metadata": {
    "ExecuteTime": {
     "end_time": "2021-11-22T14:07:41.126943Z",
     "start_time": "2021-11-22T14:07:41.104650Z"
    }
   },
   "outputs": [
    {
     "data": {
      "text/plain": [
       "array([[132,  40,  25,  30, 160,  92,   9,  47, 131, 255,  17, 178,  41,\n",
       "         53,   5,  52, 255, 153, 163,  80, 203, 164, 231, 106,   8,  98,\n",
       "        243,  35, 201,  25,  74, 222]], dtype=uint8)"
      ]
     },
     "execution_count": 13,
     "metadata": {},
     "output_type": "execute_result"
    }
   ],
   "source": [
    "pq.encode(Xte[[0]])"
   ]
  },
  {
   "cell_type": "markdown",
   "metadata": {},
   "source": [
    "This method will internally call the stored `pq_codec` and call the `.encode` method of the internal `pq_codec`"
   ]
  },
  {
   "cell_type": "code",
   "execution_count": 14,
   "metadata": {
    "ExecuteTime": {
     "end_time": "2021-11-22T14:07:41.443804Z",
     "start_time": "2021-11-22T14:07:41.423795Z"
    },
    "scrolled": true
   },
   "outputs": [
    {
     "data": {
      "text/plain": [
       "array([[132,  40,  25,  30, 160,  92,   9,  47, 131, 255,  17, 178,  41,\n",
       "         53,   5,  52, 255, 153, 163,  80, 203, 164, 231, 106,   8,  98,\n",
       "        243,  35, 201,  25,  74, 222]], dtype=uint8)"
      ]
     },
     "execution_count": 14,
     "metadata": {},
     "output_type": "execute_result"
    }
   ],
   "source": [
    "pq.pq_codec.encode(Xte[[0]])"
   ]
  },
  {
   "cell_type": "markdown",
   "metadata": {},
   "source": [
    "##### pq._vecs_storage\n",
    "\n",
    "pq stores the quantized data in `pq._vecs_storage`. This is a list of `n_cells` elements containing matrices with the quantized data added to `pq`. Note that if no data is added this matrices will contain only 0 values.\n"
   ]
  },
  {
   "cell_type": "code",
   "execution_count": 15,
   "metadata": {
    "ExecuteTime": {
     "end_time": "2021-11-22T14:07:41.786477Z",
     "start_time": "2021-11-22T14:07:41.767642Z"
    }
   },
   "outputs": [
    {
     "data": {
      "text/plain": [
       "True"
      ]
     },
     "execution_count": 15,
     "metadata": {},
     "output_type": "execute_result"
    }
   ],
   "source": [
    "len(pq._vecs_storage) == pq.n_cells"
   ]
  },
  {
   "cell_type": "code",
   "execution_count": 16,
   "metadata": {
    "ExecuteTime": {
     "end_time": "2021-11-22T14:07:42.057600Z",
     "start_time": "2021-11-22T14:07:42.038229Z"
    }
   },
   "outputs": [
    {
     "data": {
      "text/plain": [
       "10"
      ]
     },
     "execution_count": 16,
     "metadata": {},
     "output_type": "execute_result"
    }
   ],
   "source": [
    "len(pq._vecs_storage) "
   ]
  },
  {
   "cell_type": "markdown",
   "metadata": {},
   "source": [
    "If we look inside `_vecs_storage[k]` we will see that everything is zero because we have not added data yet"
   ]
  },
  {
   "cell_type": "code",
   "execution_count": 17,
   "metadata": {
    "ExecuteTime": {
     "end_time": "2021-11-22T14:07:42.401304Z",
     "start_time": "2021-11-22T14:07:42.382129Z"
    },
    "scrolled": true
   },
   "outputs": [
    {
     "data": {
      "text/plain": [
       "array([[0, 0, 0, ..., 0, 0, 0],\n",
       "       [0, 0, 0, ..., 0, 0, 0],\n",
       "       [0, 0, 0, ..., 0, 0, 0],\n",
       "       ...,\n",
       "       [0, 0, 0, ..., 0, 0, 0],\n",
       "       [0, 0, 0, ..., 0, 0, 0],\n",
       "       [0, 0, 0, ..., 0, 0, 0]], dtype=uint8)"
      ]
     },
     "execution_count": 17,
     "metadata": {},
     "output_type": "execute_result"
    }
   ],
   "source": [
    "pq._vecs_storage[0]"
   ]
  },
  {
   "cell_type": "markdown",
   "metadata": {
    "ExecuteTime": {
     "end_time": "2021-11-19T15:48:22.761657Z",
     "start_time": "2021-11-19T15:48:22.742022Z"
    }
   },
   "source": [
    "This matrices will start with shape `pq.expand_step_size` and will grow once cells allocate all the possible rows"
   ]
  },
  {
   "cell_type": "code",
   "execution_count": 18,
   "metadata": {
    "ExecuteTime": {
     "end_time": "2021-11-22T14:07:42.672314Z",
     "start_time": "2021-11-22T14:07:42.653299Z"
    }
   },
   "outputs": [
    {
     "name": "stdout",
     "output_type": "stream",
     "text": [
      "pq.expand_step_size = 1024\n",
      "pq._vecs_storage[0].shape = (1024, 32)\n"
     ]
    }
   ],
   "source": [
    "print(f'pq.expand_step_size = {pq.expand_step_size}')\n",
    "print(f'pq._vecs_storage[0].shape = {pq._vecs_storage[0].shape}')"
   ]
  },
  {
   "cell_type": "markdown",
   "metadata": {},
   "source": [
    "Note that matrices have as many columns as `pq.n_subvectors`. \n",
    "\n",
    "A vector is partitioned into subvectors each of which is represented as a single integer."
   ]
  },
  {
   "cell_type": "code",
   "execution_count": 19,
   "metadata": {
    "ExecuteTime": {
     "end_time": "2021-11-22T14:07:43.053242Z",
     "start_time": "2021-11-22T14:07:43.034822Z"
    }
   },
   "outputs": [
    {
     "name": "stdout",
     "output_type": "stream",
     "text": [
      "pq._vecs_storage[0].shape[1] = 32\n",
      "pq.n_subvectors = 32\n"
     ]
    }
   ],
   "source": [
    "print(f'pq._vecs_storage[0].shape[1] = {pq._vecs_storage[0].shape[1]}')\n",
    "print(f'pq.n_subvectors = {pq.n_subvectors}')"
   ]
  },
  {
   "cell_type": "markdown",
   "metadata": {},
   "source": [
    "## Understanding `pq.add`"
   ]
  },
  {
   "cell_type": "markdown",
   "metadata": {},
   "source": [
    "We have seen that `pq` has not stored a single example"
   ]
  },
  {
   "cell_type": "code",
   "execution_count": 20,
   "metadata": {
    "ExecuteTime": {
     "end_time": "2021-11-22T14:07:43.580821Z",
     "start_time": "2021-11-22T14:07:43.562456Z"
    }
   },
   "outputs": [
    {
     "data": {
      "text/plain": [
       "array([0, 0, 0, 0, 0, 0, 0, 0, 0, 0])"
      ]
     },
     "execution_count": 20,
     "metadata": {},
     "output_type": "execute_result"
    }
   ],
   "source": [
    "pq._cell_size"
   ]
  },
  {
   "cell_type": "markdown",
   "metadata": {},
   "source": [
    "To add examples we have to do "
   ]
  },
  {
   "cell_type": "code",
   "execution_count": 21,
   "metadata": {
    "ExecuteTime": {
     "end_time": "2021-11-22T14:07:43.977360Z",
     "start_time": "2021-11-22T14:07:43.927965Z"
    }
   },
   "outputs": [
    {
     "name": "stderr",
     "output_type": "stream",
     "text": [
      "2021-11-22 15:07:43.974 | DEBUG    | pqlite.storage.cell:_expand:148 - => total storage capacity is expanded by 0 for 10 cells\n",
      "2021-11-22 15:07:43.975 | DEBUG    | pqlite.storage.cell:insert:90 - => 480 new items added\n"
     ]
    }
   ],
   "source": [
    "pq.add(Xtr, ids=list(range(len(Xtr))))"
   ]
  },
  {
   "cell_type": "markdown",
   "metadata": {
    "ExecuteTime": {
     "end_time": "2021-11-19T15:24:02.856444Z",
     "start_time": "2021-11-19T15:24:02.838800Z"
    }
   },
   "source": [
    "Now can see that each example is added to a cell. "
   ]
  },
  {
   "cell_type": "code",
   "execution_count": 22,
   "metadata": {
    "ExecuteTime": {
     "end_time": "2021-11-22T14:07:44.329262Z",
     "start_time": "2021-11-22T14:07:44.310540Z"
    }
   },
   "outputs": [
    {
     "data": {
      "text/plain": [
       "array([62, 72, 76, 38, 41, 78, 29, 50,  6, 28])"
      ]
     },
     "execution_count": 22,
     "metadata": {},
     "output_type": "execute_result"
    }
   ],
   "source": [
    "pq._cell_size"
   ]
  },
  {
   "cell_type": "markdown",
   "metadata": {},
   "source": [
    "The cell information is "
   ]
  },
  {
   "cell_type": "code",
   "execution_count": 23,
   "metadata": {
    "ExecuteTime": {
     "end_time": "2021-11-22T14:07:44.731406Z",
     "start_time": "2021-11-22T14:07:44.712611Z"
    }
   },
   "outputs": [
    {
     "name": "stdout",
     "output_type": "stream",
     "text": [
      "The number of cells is n_cells=10\n",
      "\n",
      "Cells can be accessed in pq.cell_tables\n",
      "\twe have len(pq.cell_tables)=10 cells\n",
      "\n",
      "We have added len(Xtr)=480 elements to pq\n"
     ]
    }
   ],
   "source": [
    "print(f'The number of cells is n_cells={pq.n_cells}')\n",
    "\n",
    "print('\\nCells can be accessed in pq.cell_tables')\n",
    "print(f'\\twe have len(pq.cell_tables)={len(pq.cell_tables)} cells')\n",
    "print(f'\\nWe have added len(Xtr)={len(Xtr)} elements to pq')"
   ]
  },
  {
   "cell_type": "markdown",
   "metadata": {},
   "source": [
    "Note that `pq.cell_tables` is a list of  `CellTable` objects"
   ]
  },
  {
   "cell_type": "code",
   "execution_count": 24,
   "metadata": {
    "ExecuteTime": {
     "end_time": "2021-11-22T14:07:45.076348Z",
     "start_time": "2021-11-22T14:07:45.057221Z"
    }
   },
   "outputs": [
    {
     "data": {
      "text/plain": [
       "<pqlite.storage.table.CellTable at 0x7fea58930f10>"
      ]
     },
     "execution_count": 24,
     "metadata": {},
     "output_type": "execute_result"
    }
   ],
   "source": [
    "pq.cell_tables[0]"
   ]
  },
  {
   "cell_type": "markdown",
   "metadata": {},
   "source": [
    "\n",
    "Each CellTable allows you to `insert`, `query` and `delete` vectors\n",
    "\n",
    "We can inspect how many elements are in a cell using `.count()`"
   ]
  },
  {
   "cell_type": "code",
   "execution_count": 25,
   "metadata": {
    "ExecuteTime": {
     "end_time": "2021-11-22T14:07:45.466760Z",
     "start_time": "2021-11-22T14:07:45.448010Z"
    },
    "scrolled": true
   },
   "outputs": [
    {
     "data": {
      "text/plain": [
       "62"
      ]
     },
     "execution_count": 25,
     "metadata": {},
     "output_type": "execute_result"
    }
   ],
   "source": [
    "pq.cell_tables[0].count()"
   ]
  },
  {
   "cell_type": "markdown",
   "metadata": {
    "ExecuteTime": {
     "end_time": "2021-11-19T14:45:53.586529Z",
     "start_time": "2021-11-19T14:45:53.566589Z"
    }
   },
   "source": [
    "Not all `cell_tables` will contain the same number of elements because not all of them are assigned to the same prototype. Nevertheless the sum of the elements across cells equalts the number of added elements"
   ]
  },
  {
   "cell_type": "code",
   "execution_count": 26,
   "metadata": {
    "ExecuteTime": {
     "end_time": "2021-11-22T14:07:45.829763Z",
     "start_time": "2021-11-22T14:07:45.811157Z"
    },
    "scrolled": true
   },
   "outputs": [
    {
     "name": "stdout",
     "output_type": "stream",
     "text": [
      "elements_per_cell = [62, 72, 76, 38, 41, 78, 29, 50, 6, 28]\n",
      "total number of elements added = 480\n",
      "np.sum(elements_per_cell) == len(Xtr) is  True\n"
     ]
    }
   ],
   "source": [
    "elements_per_cell = [pq_cell_table.count() for pq_cell_table in pq.cell_tables]\n",
    "print('elements_per_cell =', elements_per_cell)\n",
    "print('total number of elements added =', np.sum(elements_per_cell))\n",
    "print('np.sum(elements_per_cell) == len(Xtr) is ',np.sum(elements_per_cell) == len(Xtr))"
   ]
  },
  {
   "cell_type": "markdown",
   "metadata": {},
   "source": [
    "## Understanding `pq.search`\n",
    "\n",
    "\n",
    "Internally `pq.search` first computes the distance between each query and the prototypes that define the cells. Then the cells whose prototypes are closest to a query are selected as search space. The best  `pq.n_probe` cells are selected (this is a hyperparameter of the algorithm).\n",
    "\n",
    "Since `pq.n_probe` in this case is bigger than `pq.n_cells` all the cells will be searched."
   ]
  },
  {
   "cell_type": "code",
   "execution_count": 27,
   "metadata": {
    "ExecuteTime": {
     "end_time": "2021-11-22T14:07:46.215266Z",
     "start_time": "2021-11-22T14:07:46.196847Z"
    }
   },
   "outputs": [
    {
     "data": {
      "text/plain": [
       "(16, 10)"
      ]
     },
     "execution_count": 27,
     "metadata": {},
     "output_type": "execute_result"
    }
   ],
   "source": [
    "pq.n_probe, pq.n_cells"
   ]
  },
  {
   "cell_type": "markdown",
   "metadata": {},
   "source": [
    "Note that  `pq.search` can be called with a batch of vectors. Once called it will end up calling `pq.search_cells` with the full batch of queries but with an array of arrays containing at each position a list of the ids of the cells that best batch the query. So if 5 queries are passed into the `pq.search` it will pass to `self.search_cells` an array of size `(len(queries), max(pq.n_probe, pq.n_cells)`.\n",
    "\n",
    "The `.search_cells` method iterates over the queries and comptues the distance between each query and all retrieved elements in the activated cells.\n",
    "\n",
    "For each query in the batch  the Asymetric Distance Computation is performed using `pq.pq_codec.precompute_adc` which returns a table of shape `(pq.n_subvectors, pq.pq_codec.n_clusters)`.  In our case a matrix of shape `(32, 256)`.\n"
   ]
  },
  {
   "cell_type": "code",
   "execution_count": 28,
   "metadata": {
    "ExecuteTime": {
     "end_time": "2021-11-22T14:07:46.609968Z",
     "start_time": "2021-11-22T14:07:46.592473Z"
    }
   },
   "outputs": [],
   "source": [
    "query = Xtr[[10]]"
   ]
  },
  {
   "cell_type": "code",
   "execution_count": 29,
   "metadata": {
    "ExecuteTime": {
     "end_time": "2021-11-22T14:07:46.874836Z",
     "start_time": "2021-11-22T14:07:46.855327Z"
    }
   },
   "outputs": [
    {
     "data": {
      "text/plain": [
       "(32, 256)"
      ]
     },
     "execution_count": 29,
     "metadata": {},
     "output_type": "execute_result"
    }
   ],
   "source": [
    "dtable = pq.pq_codec.precompute_adc(query[0])\n",
    "dtable.dtable.shape"
   ]
  },
  {
   "cell_type": "markdown",
   "metadata": {},
   "source": [
    "We can do this faster with a cython function as follows"
   ]
  },
  {
   "cell_type": "code",
   "execution_count": 30,
   "metadata": {
    "ExecuteTime": {
     "end_time": "2021-11-22T14:07:47.247369Z",
     "start_time": "2021-11-22T14:07:47.229859Z"
    }
   },
   "outputs": [],
   "source": [
    "from pqlite.utils.asymmetric_distance import precompute_adc_table"
   ]
  },
  {
   "cell_type": "code",
   "execution_count": 31,
   "metadata": {
    "ExecuteTime": {
     "end_time": "2021-11-22T14:07:47.503380Z",
     "start_time": "2021-11-22T14:07:47.484937Z"
    }
   },
   "outputs": [],
   "source": [
    "dt = precompute_adc_table(query[0], \n",
    "                          pq.d_subvector,\n",
    "                          pq.pq_codec.n_clusters,\n",
    "                          pq.pq_codec.codebooks)"
   ]
  },
  {
   "cell_type": "code",
   "execution_count": 32,
   "metadata": {
    "ExecuteTime": {
     "end_time": "2021-11-22T14:07:47.769509Z",
     "start_time": "2021-11-22T14:07:47.751401Z"
    }
   },
   "outputs": [
    {
     "data": {
      "text/plain": [
       "-3.0230967e-07"
      ]
     },
     "execution_count": 32,
     "metadata": {},
     "output_type": "execute_result"
    }
   ],
   "source": [
    "np.mean(np.asarray(dt) - dtable.dtable)"
   ]
  },
  {
   "cell_type": "code",
   "execution_count": 33,
   "metadata": {
    "ExecuteTime": {
     "end_time": "2021-11-22T14:07:52.170598Z",
     "start_time": "2021-11-22T14:07:48.058006Z"
    }
   },
   "outputs": [
    {
     "name": "stdout",
     "output_type": "stream",
     "text": [
      "50.4 µs ± 820 ns per loop (mean ± std. dev. of 7 runs, 10000 loops each)\n"
     ]
    }
   ],
   "source": [
    "%%timeit \n",
    "precompute_adc_table(query[0], \n",
    "                     pq.d_subvector,\n",
    "                     pq.pq_codec.n_clusters,\n",
    "                     pq.pq_codec.codebooks)"
   ]
  },
  {
   "cell_type": "code",
   "execution_count": 34,
   "metadata": {
    "ExecuteTime": {
     "end_time": "2021-11-22T14:07:56.548081Z",
     "start_time": "2021-11-22T14:07:52.813351Z"
    }
   },
   "outputs": [
    {
     "name": "stdout",
     "output_type": "stream",
     "text": [
      "458 µs ± 6.47 µs per loop (mean ± std. dev. of 7 runs, 1000 loops each)\n"
     ]
    }
   ],
   "source": [
    "%%timeit \n",
    "pq.pq_codec.precompute_adc(query[0])"
   ]
  },
  {
   "cell_type": "markdown",
   "metadata": {},
   "source": [
    "We can make sure that both tables are almost equal"
   ]
  },
  {
   "cell_type": "code",
   "execution_count": 35,
   "metadata": {
    "ExecuteTime": {
     "end_time": "2021-11-22T14:07:56.642731Z",
     "start_time": "2021-11-22T14:07:56.619776Z"
    }
   },
   "outputs": [],
   "source": [
    "np_dtable_1 = np.asarray(precompute_adc_table(query[0], \n",
    "                         pq.d_subvector,\n",
    "                         pq.pq_codec.n_clusters,\n",
    "                         pq.pq_codec.codebooks))\n",
    "\n",
    "np_dtable_2 = pq.pq_codec.precompute_adc(query[0]).dtable\n",
    "\n",
    "np.testing.assert_array_almost_equal(np_dtable_1, np_dtable_2,decimal=4)\n",
    "np.testing.assert_array_almost_equal_nulp(np_dtable_1, np_dtable_2)"
   ]
  },
  {
   "cell_type": "markdown",
   "metadata": {},
   "source": [
    "This table contains the distance between each possible subvector in que query and each possible subvector from any subcodevector.\n",
    "\n",
    "Therefore we go from `search` -> `search_cells` -> `search_cells` -> `precomputed_k = pq_codec.precompute_adc(query_k)` -> `ivfpq_topk`\n",
    "\n",
    "Therefore for `query_k` we compute the ADC table. Then this table is used to compute the distance between the query and all the database. \n",
    "\n",
    "In this case, since there is filtering, the computations are done only on a subset of the database. Distances are computed between the query and the exapmles that come from the selected cells and verify the conditions specified by the provided filter.\n",
    "\n",
    "```\n",
    "self.ivfpq_topk(precomputed, cells=cell_idx,conditions=conditions,k=k )\n",
    "```"
   ]
  },
  {
   "cell_type": "code",
   "execution_count": 36,
   "metadata": {
    "ExecuteTime": {
     "end_time": "2021-11-22T14:07:58.118537Z",
     "start_time": "2021-11-22T14:07:58.099970Z"
    }
   },
   "outputs": [
    {
     "data": {
      "text/plain": [
       "(32, 256, 4)"
      ]
     },
     "execution_count": 36,
     "metadata": {},
     "output_type": "execute_result"
    }
   ],
   "source": [
    "pq.pq_codec.codebooks.shape"
   ]
  },
  {
   "cell_type": "code",
   "execution_count": 37,
   "metadata": {
    "ExecuteTime": {
     "end_time": "2021-11-22T14:07:58.472069Z",
     "start_time": "2021-11-22T14:07:58.452634Z"
    }
   },
   "outputs": [
    {
     "data": {
      "text/plain": [
       "(32, 256)"
      ]
     },
     "execution_count": 37,
     "metadata": {},
     "output_type": "execute_result"
    }
   ],
   "source": [
    "precomputed = pq.pq_codec.precompute_adc(query[0])\n",
    "precomputed.dtable.shape"
   ]
  },
  {
   "cell_type": "markdown",
   "metadata": {},
   "source": [
    "Given a bunch of datapoint candidates from the database (from which we already have the pqcode) we want to find distances between the query and the candidates. This is done with `precomputed.adist(codes)` which returns the distance between each code in codes and the pqcode of the query."
   ]
  },
  {
   "cell_type": "code",
   "execution_count": 38,
   "metadata": {
    "ExecuteTime": {
     "end_time": "2021-11-22T14:07:59.051303Z",
     "start_time": "2021-11-22T14:07:59.033527Z"
    }
   },
   "outputs": [
    {
     "data": {
      "text/plain": [
       "(4, 256)"
      ]
     },
     "execution_count": 38,
     "metadata": {},
     "output_type": "execute_result"
    }
   ],
   "source": [
    "pq.pq_codec.d_subvector, pq.pq_codec.n_clusters"
   ]
  },
  {
   "cell_type": "code",
   "execution_count": 39,
   "metadata": {
    "ExecuteTime": {
     "end_time": "2021-11-22T14:07:59.295098Z",
     "start_time": "2021-11-22T14:07:59.277715Z"
    }
   },
   "outputs": [],
   "source": [
    "indices = list(range(200))\n",
    "codes = pq.vecs_storage[0][indices]"
   ]
  },
  {
   "cell_type": "code",
   "execution_count": null,
   "metadata": {},
   "outputs": [],
   "source": []
  },
  {
   "cell_type": "code",
   "execution_count": null,
   "metadata": {},
   "outputs": [],
   "source": []
  },
  {
   "cell_type": "code",
   "execution_count": null,
   "metadata": {},
   "outputs": [],
   "source": []
  },
  {
   "cell_type": "code",
   "execution_count": null,
   "metadata": {},
   "outputs": [],
   "source": [
    "\n",
    "Nt = 500\n",
    "\n",
    "np.random.seed(1234)\n",
    "Xtr, Xte = train_test_split(make_blobs(n_samples = Nt, n_features = D)[0].astype(np.float32), test_size=20)\n",
    "\n",
    "# the column schema: (name:str, dtype:type, create_index: bool)\n",
    "pq = PQLite(d_vector=D, \n",
    "            n_cells=n_cells,\n",
    "            n_subvectors=n_subvectors, \n",
    "            columns=[('x', float, True)])\n",
    "\n",
    "pq.fit(Xtr)"
   ]
  },
  {
   "cell_type": "code",
   "execution_count": null,
   "metadata": {},
   "outputs": [],
   "source": []
  },
  {
   "cell_type": "code",
   "execution_count": null,
   "metadata": {
    "ExecuteTime": {
     "end_time": "2021-11-19T16:10:35.730396Z",
     "start_time": "2021-11-19T16:10:35.702819Z"
    }
   },
   "outputs": [],
   "source": [
    "Nq = 1\n",
    "query = Xtr[[10,4]] \n",
    "pq_dists, ids = pq.search(query, k=5)"
   ]
  },
  {
   "cell_type": "markdown",
   "metadata": {},
   "source": [
    "Then the best `k` matches are returned as well as the distances to those matches.\n",
    "\n",
    "Note that, because distances are computed using the reconstruction values of the quantized vectors an expected distance of 0  in the original space will not be zero.\n",
    "\n",
    "For example here we would expect the distance between the query and the best match to be 0 because it has been added to pq, but this is not the case because of the quantization error.\n",
    "\n",
    "The search process for a given query is based on computing the distance between the query and all datapoints. This is done precomputing the distance between the query (all n_subvectors from the query) and all the subcodevectors of the Product space."
   ]
  },
  {
   "cell_type": "code",
   "execution_count": null,
   "metadata": {
    "ExecuteTime": {
     "end_time": "2021-11-19T17:19:14.147490Z",
     "start_time": "2021-11-19T17:19:14.122481Z"
    }
   },
   "outputs": [],
   "source": [
    "adc_for_query = pq.pq_codec.precompute_adc(Xtr[10])\n",
    "adc_for_query.dtable.shape"
   ]
  },
  {
   "cell_type": "code",
   "execution_count": null,
   "metadata": {
    "ExecuteTime": {
     "end_time": "2021-11-19T17:30:31.696031Z",
     "start_time": "2021-11-19T17:30:31.674912Z"
    }
   },
   "outputs": [],
   "source": [
    "#pqlite.core.codec.pq.DistanceTable()"
   ]
  },
  {
   "cell_type": "code",
   "execution_count": null,
   "metadata": {
    "ExecuteTime": {
     "end_time": "2021-11-19T17:30:32.147331Z",
     "start_time": "2021-11-19T17:30:32.124075Z"
    }
   },
   "outputs": [],
   "source": [
    "pq.pq_codec.codebooks.shape"
   ]
  },
  {
   "cell_type": "code",
   "execution_count": null,
   "metadata": {},
   "outputs": [],
   "source": []
  },
  {
   "cell_type": "code",
   "execution_count": null,
   "metadata": {
    "ExecuteTime": {
     "start_time": "2021-11-19T17:30:33.068Z"
    }
   },
   "outputs": [],
   "source": [
    "Nq = 1\n",
    "query = Xtr[[10]] \n",
    "pq_dists, ids = pq.search(query, k=5)\n",
    "\n",
    "print(pq_dists)\n",
    "print(ids)"
   ]
  },
  {
   "cell_type": "code",
   "execution_count": null,
   "metadata": {
    "ExecuteTime": {
     "end_time": "2021-11-19T16:53:57.191823Z",
     "start_time": "2021-11-19T16:53:57.172279Z"
    }
   },
   "outputs": [],
   "source": [
    "print(pq.pq_codec.codebooks.shape)\n",
    "print((pq.n_subvectors, pq.pq_codec.n_clusters, pq.d_subvector))"
   ]
  },
  {
   "cell_type": "code",
   "execution_count": null,
   "metadata": {
    "ExecuteTime": {
     "end_time": "2021-11-19T17:15:03.738021Z",
     "start_time": "2021-11-19T17:15:03.625573Z"
    }
   },
   "outputs": [],
   "source": [
    "codes"
   ]
  },
  {
   "cell_type": "code",
   "execution_count": null,
   "metadata": {},
   "outputs": [],
   "source": []
  },
  {
   "cell_type": "code",
   "execution_count": null,
   "metadata": {},
   "outputs": [],
   "source": []
  },
  {
   "cell_type": "code",
   "execution_count": null,
   "metadata": {},
   "outputs": [],
   "source": []
  },
  {
   "cell_type": "code",
   "execution_count": null,
   "metadata": {},
   "outputs": [],
   "source": []
  },
  {
   "cell_type": "code",
   "execution_count": null,
   "metadata": {},
   "outputs": [],
   "source": []
  },
  {
   "cell_type": "markdown",
   "metadata": {},
   "source": [
    "#### How does pqlite works\n",
    "\n",
    "Pqlite has a first coarse search step.\n",
    "\n",
    "When adding elements to PQLite elements are stored in cells.\n"
   ]
  },
  {
   "cell_type": "code",
   "execution_count": null,
   "metadata": {},
   "outputs": [],
   "source": []
  },
  {
   "cell_type": "code",
   "execution_count": null,
   "metadata": {
    "ExecuteTime": {
     "end_time": "2021-11-19T13:42:57.003940Z",
     "start_time": "2021-11-19T13:42:53.283117Z"
    }
   },
   "outputs": [],
   "source": [
    "#current search\n",
    "%timeit pq_dists, ids = pq.search(query, k=100)"
   ]
  },
  {
   "cell_type": "code",
   "execution_count": null,
   "metadata": {
    "ExecuteTime": {
     "end_time": "2021-11-19T13:42:57.068892Z",
     "start_time": "2021-11-19T13:42:57.050845Z"
    }
   },
   "outputs": [],
   "source": [
    "from pqlite.utils import asymmetric_distance"
   ]
  },
  {
   "cell_type": "code",
   "execution_count": null,
   "metadata": {
    "ExecuteTime": {
     "end_time": "2021-11-19T13:42:57.136013Z",
     "start_time": "2021-11-19T13:42:57.114124Z"
    }
   },
   "outputs": [],
   "source": [
    "asymmetric_distance.dist_pqcodes_to_codebooks"
   ]
  },
  {
   "cell_type": "code",
   "execution_count": null,
   "metadata": {
    "ExecuteTime": {
     "end_time": "2021-11-19T13:42:57.205410Z",
     "start_time": "2021-11-19T13:42:57.182941Z"
    }
   },
   "outputs": [],
   "source": [
    "query_pqcodes = pq.encode(query)"
   ]
  },
  {
   "cell_type": "code",
   "execution_count": null,
   "metadata": {
    "ExecuteTime": {
     "end_time": "2021-11-19T13:42:57.269758Z",
     "start_time": "2021-11-19T13:42:57.250588Z"
    }
   },
   "outputs": [],
   "source": [
    "query_pqcodes"
   ]
  },
  {
   "cell_type": "code",
   "execution_count": null,
   "metadata": {
    "ExecuteTime": {
     "end_time": "2021-11-19T13:42:58.667801Z",
     "start_time": "2021-11-19T13:42:58.651080Z"
    }
   },
   "outputs": [],
   "source": [
    "query_pqcodes_int32 = query_pqcodes.astype('int32')"
   ]
  },
  {
   "cell_type": "code",
   "execution_count": null,
   "metadata": {
    "ExecuteTime": {
     "end_time": "2021-11-19T13:42:59.165645Z",
     "start_time": "2021-11-19T13:42:59.148097Z"
    }
   },
   "outputs": [],
   "source": [
    "print(pq.pq_codec.codebooks.shape)\n",
    "M = pq.pq_codec.codebooks.shape[0]"
   ]
  },
  {
   "cell_type": "code",
   "execution_count": null,
   "metadata": {
    "ExecuteTime": {
     "end_time": "2021-11-19T14:07:58.034656Z",
     "start_time": "2021-11-19T14:07:58.017025Z"
    }
   },
   "outputs": [],
   "source": [
    "pq.pq_codec.codebooks.shape[0:2]"
   ]
  },
  {
   "cell_type": "code",
   "execution_count": null,
   "metadata": {},
   "outputs": [],
   "source": []
  },
  {
   "cell_type": "code",
   "execution_count": null,
   "metadata": {
    "ExecuteTime": {
     "end_time": "2021-11-19T14:05:27.450644Z",
     "start_time": "2021-11-19T14:05:27.433667Z"
    }
   },
   "outputs": [],
   "source": [
    "cell_0_pq_codebook = pq.vecs_storage[0]"
   ]
  },
  {
   "cell_type": "code",
   "execution_count": null,
   "metadata": {
    "ExecuteTime": {
     "end_time": "2021-11-19T14:06:43.817734Z",
     "start_time": "2021-11-19T14:06:43.800108Z"
    }
   },
   "outputs": [],
   "source": [
    "len(pq.vecs_storage)"
   ]
  },
  {
   "cell_type": "code",
   "execution_count": null,
   "metadata": {},
   "outputs": [],
   "source": []
  },
  {
   "cell_type": "code",
   "execution_count": null,
   "metadata": {
    "ExecuteTime": {
     "end_time": "2021-11-19T14:03:07.952238Z",
     "start_time": "2021-11-19T14:03:07.932312Z"
    }
   },
   "outputs": [],
   "source": [
    "dtable = pq.pq_codec.precompute_adc(query[0]).dtable\n",
    "print(dtable.shape)\n",
    "pqlite.utils.asymmetric_distance.dist_pqcodes_to_codebooks(M, \n",
    "                                                           dtable,\n",
    "                                                           query_pqcodes_int32)"
   ]
  },
  {
   "cell_type": "code",
   "execution_count": null,
   "metadata": {},
   "outputs": [],
   "source": []
  },
  {
   "cell_type": "code",
   "execution_count": null,
   "metadata": {},
   "outputs": [],
   "source": []
  },
  {
   "cell_type": "code",
   "execution_count": null,
   "metadata": {
    "ExecuteTime": {
     "end_time": "2021-11-19T13:53:04.942442Z",
     "start_time": "2021-11-19T13:53:04.924203Z"
    }
   },
   "outputs": [],
   "source": []
  },
  {
   "cell_type": "code",
   "execution_count": null,
   "metadata": {},
   "outputs": [],
   "source": []
  },
  {
   "cell_type": "code",
   "execution_count": null,
   "metadata": {},
   "outputs": [],
   "source": []
  },
  {
   "cell_type": "code",
   "execution_count": null,
   "metadata": {},
   "outputs": [],
   "source": []
  },
  {
   "cell_type": "markdown",
   "metadata": {},
   "source": [
    "### Time"
   ]
  },
  {
   "cell_type": "code",
   "execution_count": null,
   "metadata": {
    "ExecuteTime": {
     "end_time": "2021-11-18T17:13:06.845211Z",
     "start_time": "2021-11-18T17:13:04.686324Z"
    }
   },
   "outputs": [],
   "source": [
    "%timeit  pq.search(query,  k=top_k)"
   ]
  },
  {
   "cell_type": "code",
   "execution_count": null,
   "metadata": {
    "ExecuteTime": {
     "end_time": "2021-11-18T17:19:40.279848Z",
     "start_time": "2021-11-18T17:19:40.277935Z"
    }
   },
   "outputs": [],
   "source": [
    "from pqlite.utils import asymmetric_distance"
   ]
  },
  {
   "cell_type": "code",
   "execution_count": null,
   "metadata": {
    "ExecuteTime": {
     "end_time": "2021-11-18T17:19:49.306779Z",
     "start_time": "2021-11-18T17:19:49.300898Z"
    }
   },
   "outputs": [],
   "source": [
    "asymmetric_distance.dist_pqcode_to_codebooks"
   ]
  },
  {
   "cell_type": "code",
   "execution_count": null,
   "metadata": {},
   "outputs": [],
   "source": []
  },
  {
   "cell_type": "code",
   "execution_count": null,
   "metadata": {},
   "outputs": [],
   "source": []
  },
  {
   "cell_type": "code",
   "execution_count": null,
   "metadata": {
    "ExecuteTime": {
     "end_time": "2021-11-15T11:07:17.068357Z",
     "start_time": "2021-11-15T11:07:15.349864Z"
    }
   },
   "outputs": [],
   "source": [
    "%timeit res = cdist(query, Xtr, metric='euclidean')"
   ]
  },
  {
   "cell_type": "markdown",
   "metadata": {},
   "source": [
    "### Quality\n",
    "\n",
    "Manually observing slices of a high dimensional space it seems that the\n",
    "retrieved items from pqlite are nearby the query and the best values from the exact and exhaustive distance computations."
   ]
  },
  {
   "cell_type": "code",
   "execution_count": null,
   "metadata": {
    "ExecuteTime": {
     "end_time": "2021-11-15T11:07:17.112059Z",
     "start_time": "2021-11-15T11:07:17.107346Z"
    },
    "code_folding": []
   },
   "outputs": [],
   "source": [
    "def _precision(predicted, relevant, eval_at):\n",
    "    \"\"\"\n",
    "    fraction of retrieved documents that are relevant to the query\n",
    "    \"\"\"\n",
    "    if eval_at == 0:\n",
    "        return 0.0\n",
    "    predicted_at_k = predicted[:eval_at]\n",
    "    n_predicted_and_relevant = len(set(predicted_at_k).intersection(set(relevant)))\n",
    "\n",
    "    return n_predicted_and_relevant / len(predicted)\n",
    "\n",
    "def _recall(predicted, relevant, eval_at):\n",
    "    \"\"\"\n",
    "    fraction of the relevant documents that are successfully retrieved\n",
    "    \"\"\"\n",
    "    if eval_at == 0:\n",
    "        return 0.0\n",
    "    predicted_at_k = predicted[:eval_at]\n",
    "    n_predicted_and_relevant = len(set(predicted_at_k).intersection(set(relevant)))\n",
    "    return n_predicted_and_relevant/ len(relevant)\n"
   ]
  },
  {
   "cell_type": "code",
   "execution_count": null,
   "metadata": {
    "ExecuteTime": {
     "end_time": "2021-11-15T11:07:17.157128Z",
     "start_time": "2021-11-15T11:07:17.150924Z"
    }
   },
   "outputs": [],
   "source": [
    "query = Xte[[11]]  \n",
    "true_distances = cdist(query, Xtr, metric='euclidean').flatten()\n",
    "\n",
    "true_ids = np.argsort(true_distances)[0:top_k]\n",
    "true_dists = true_distances[true_ids]"
   ]
  },
  {
   "cell_type": "code",
   "execution_count": null,
   "metadata": {
    "ExecuteTime": {
     "end_time": "2021-11-15T11:07:17.210980Z",
     "start_time": "2021-11-15T11:07:17.206314Z"
    }
   },
   "outputs": [],
   "source": [
    "true_ids.sort()\n",
    "true_ids"
   ]
  },
  {
   "cell_type": "code",
   "execution_count": null,
   "metadata": {
    "ExecuteTime": {
     "end_time": "2021-11-15T11:07:17.267968Z",
     "start_time": "2021-11-15T11:07:17.253367Z"
    }
   },
   "outputs": [],
   "source": [
    "pq_dists, pq_ids = pq.search(query,  k=top_k)\n",
    "pq_ids = np.array([int(x) for x in pq_ids[0]])"
   ]
  },
  {
   "cell_type": "code",
   "execution_count": null,
   "metadata": {
    "ExecuteTime": {
     "end_time": "2021-11-15T11:07:17.313398Z",
     "start_time": "2021-11-15T11:07:17.309275Z"
    },
    "scrolled": true
   },
   "outputs": [],
   "source": [
    "pq_ids.sort()\n",
    "pq_ids"
   ]
  },
  {
   "cell_type": "code",
   "execution_count": null,
   "metadata": {
    "ExecuteTime": {
     "end_time": "2021-11-15T11:07:17.407892Z",
     "start_time": "2021-11-15T11:07:17.404495Z"
    }
   },
   "outputs": [],
   "source": [
    "print(_precision(true_ids, pq_ids, top_k))\n",
    "print(_recall(true_ids, pq_ids, top_k))"
   ]
  },
  {
   "cell_type": "markdown",
   "metadata": {},
   "source": [
    "#### Plotting `pq neighbors` vs `true neighbors`"
   ]
  },
  {
   "cell_type": "code",
   "execution_count": null,
   "metadata": {
    "ExecuteTime": {
     "end_time": "2021-11-15T11:04:45.207285Z",
     "start_time": "2021-11-15T11:04:45.204068Z"
    }
   },
   "outputs": [],
   "source": [
    "import matplotlib.pyplot as plt\n",
    "\n",
    "def paint_slice(Xtr, query, feat1, feat2):\n",
    "    plt.scatter(Xtr[:,feat1], Xtr[:,feat2], color='blue', alpha=0.2)\n",
    "\n",
    "    for pq_id in pq_ids:\n",
    "        plt.scatter(Xtr[pq_id, feat1], Xtr[pq_id, feat2], color='black')\n",
    "\n",
    "    for true_id in true_ids:\n",
    "        plt.scatter(Xtr[true_id, feat1], Xtr[true_id, feat2], color='orange')\n",
    "\n",
    "    plt.scatter(query[:, feat1], query[:, feat2], color='red')\n",
    "    "
   ]
  },
  {
   "cell_type": "code",
   "execution_count": null,
   "metadata": {
    "ExecuteTime": {
     "end_time": "2021-11-15T11:04:48.289905Z",
     "start_time": "2021-11-15T11:04:46.914397Z"
    }
   },
   "outputs": [],
   "source": [
    "feat1, feat2 = 0, 1\n",
    "paint_slice(Xtr, query, feat1, feat2)"
   ]
  },
  {
   "cell_type": "code",
   "execution_count": null,
   "metadata": {
    "ExecuteTime": {
     "end_time": "2021-11-15T11:04:49.773728Z",
     "start_time": "2021-11-15T11:04:48.319030Z"
    }
   },
   "outputs": [],
   "source": [
    "feat1, feat2 = 8, 100\n",
    "paint_slice(Xtr, query, feat1, feat2)"
   ]
  },
  {
   "cell_type": "code",
   "execution_count": null,
   "metadata": {
    "ExecuteTime": {
     "end_time": "2021-11-15T11:04:51.227962Z",
     "start_time": "2021-11-15T11:04:49.805941Z"
    }
   },
   "outputs": [],
   "source": [
    "feat1, feat2 = 3,4\n",
    "paint_slice(Xtr, query, feat1, feat2)"
   ]
  },
  {
   "cell_type": "markdown",
   "metadata": {},
   "source": [
    "\n",
    "###  `precision, recall, query_time` vs `n_subvectors` &  `n_cells` "
   ]
  },
  {
   "cell_type": "code",
   "execution_count": null,
   "metadata": {
    "ExecuteTime": {
     "end_time": "2021-11-15T08:00:55.572927Z",
     "start_time": "2021-11-15T07:34:42.431045Z"
    },
    "code_folding": [],
    "scrolled": false
   },
   "outputs": [],
   "source": [
    "import time\n",
    "import numpy as np\n",
    "from pqlite import PQLite\n",
    "\n",
    "from jina.math.distance import cdist\n",
    "from jina.math.helper import top_k as _top_k\n",
    "import pandas as pd\n",
    "from sklearn.datasets import make_blobs\n",
    "from sklearn.model_selection import train_test_split\n",
    "\n",
    "def _precision(predicted, relevant, eval_at):\n",
    "    \"\"\"\n",
    "    fraction of retrieved documents that are relevant to the query\n",
    "    \"\"\"\n",
    "    if eval_at == 0:\n",
    "        return 0.0\n",
    "    predicted_at_k = predicted[:eval_at]\n",
    "    n_predicted_and_relevant = len(set(predicted_at_k).intersection(set(relevant)))\n",
    "\n",
    "    return n_predicted_and_relevant / len(predicted)\n",
    "\n",
    "def _recall(predicted, relevant, eval_at):\n",
    "    \"\"\"\n",
    "    fraction of the relevant documents that are successfully retrieved\n",
    "    \"\"\"\n",
    "    if eval_at == 0:\n",
    "        return 0.0\n",
    "    predicted_at_k = predicted[:eval_at]\n",
    "    n_predicted_and_relevant = len(set(predicted_at_k).intersection(set(relevant)))\n",
    "    return n_predicted_and_relevant/ len(relevant)\n",
    "\n",
    "def evaluate(predicts, relevants, eval_at):\n",
    "    recall = 0\n",
    "    precision = 0\n",
    "    for _predict, _relevant in zip(predicts, relevants):\n",
    "        _predict = np.array([int(x) for x in _predict])\n",
    "        recall += _recall(_predict, _relevant, top_k)\n",
    "        precision += _precision(_predict, _relevant, top_k)\n",
    "\n",
    "    return recall / len(predicts), precision / len(predicts)\n",
    "\n",
    "\n",
    "#N = 100_000 # number of data points\n",
    "Nt = 125_000\n",
    "Nq = 1\n",
    "D = 128 # dimentionality / number of features\n",
    "top_k = 10\n",
    "n_cells = 64\n",
    "n_subvectors = 64\n",
    "n_queries = 1000\n",
    "\n",
    "# 2,000 128-dim vectors for training\n",
    "np.random.seed(123)\n",
    "Xtr, Xte = train_test_split(make_blobs(n_samples = Nt, n_features = D)[0].astype(np.float32), test_size=20)\n",
    "print(f'Xtr: {Xtr.shape} vs Xte: {Xte.shape}')\n",
    "\n",
    "precision_per_query = []\n",
    "recall_per_query = []\n",
    "results = []\n",
    "\n",
    "for n_cells in [8, 16, 32, 64, 128]:\n",
    "    for n_subvectors in [32, 64, 128]:\n",
    "\n",
    "        pq = PQLite(d_vector=D,\n",
    "                    n_cells=n_cells,\n",
    "                    n_subvectors=n_subvectors)\n",
    "\n",
    "        t0 = time.time()\n",
    "        pq.fit(Xtr[:20480])\n",
    "        train_time = abs(time.time() - t0)\n",
    "\n",
    "        t0 = time.time()\n",
    "        pq.add(Xtr, ids=list(range(len(Xtr))))\n",
    "        index_time = abs(t0 - time.time())\n",
    "\n",
    "        dists = cdist(Xte, Xtr, metric='euclidean')\n",
    "        true_dists, true_ids = _top_k(dists, top_k, descending=False)\n",
    "\n",
    "        t0 = time.time()\n",
    "        pq_dists, pq_ids = pq.search(Xte, k=top_k)\n",
    "        query_time = abs(t0 - time.time())\n",
    "\n",
    "        recall, precision = evaluate(pq_ids, true_ids, top_k)\n",
    "\n",
    "        results_dict = {'precision': precision,\n",
    "                        'recall': recall,\n",
    "                        'train_time': train_time,\n",
    "                        'index_time': index_time,\n",
    "                        'query_time': query_time,\n",
    "                        'indexer_hyperparams': {'n_cells': n_cells,\n",
    "                                                'n_subvectors': n_subvectors}\n",
    "                        }\n",
    "        print(results_dict)\n",
    "\n",
    "        results.append(results_dict)"
   ]
  },
  {
   "cell_type": "code",
   "execution_count": null,
   "metadata": {
    "ExecuteTime": {
     "end_time": "2021-11-15T08:02:17.927767Z",
     "start_time": "2021-11-15T08:02:17.916723Z"
    }
   },
   "outputs": [],
   "source": [
    "import pandas as pd\n",
    "results_df = pd.DataFrame(results)\n",
    "results_df.sort_values('recall', ascending=False)"
   ]
  },
  {
   "cell_type": "code",
   "execution_count": null,
   "metadata": {},
   "outputs": [],
   "source": []
  },
  {
   "cell_type": "code",
   "execution_count": null,
   "metadata": {},
   "outputs": [],
   "source": []
  }
 ],
 "metadata": {
  "kernelspec": {
   "display_name": "Python 3 (ipykernel)",
   "language": "python",
   "name": "python3"
  },
  "language_info": {
   "codemirror_mode": {
    "name": "ipython",
    "version": 3
   },
   "file_extension": ".py",
   "mimetype": "text/x-python",
   "name": "python",
   "nbconvert_exporter": "python",
   "pygments_lexer": "ipython3",
   "version": "3.8.5"
  },
  "toc": {
   "base_numbering": 1,
   "nav_menu": {},
   "number_sections": true,
   "sideBar": true,
   "skip_h1_title": false,
   "title_cell": "Table of Contents",
   "title_sidebar": "Contents",
   "toc_cell": true,
   "toc_position": {
    "height": "calc(100% - 180px)",
    "left": "10px",
    "top": "150px",
    "width": "165px"
   },
   "toc_section_display": true,
   "toc_window_display": true
  },
  "varInspector": {
   "cols": {
    "lenName": 16,
    "lenType": 16,
    "lenVar": 40
   },
   "kernels_config": {
    "python": {
     "delete_cmd_postfix": "",
     "delete_cmd_prefix": "del ",
     "library": "var_list.py",
     "varRefreshCmd": "print(var_dic_list())"
    },
    "r": {
     "delete_cmd_postfix": ") ",
     "delete_cmd_prefix": "rm(",
     "library": "var_list.r",
     "varRefreshCmd": "cat(var_dic_list()) "
    }
   },
   "types_to_exclude": [
    "module",
    "function",
    "builtin_function_or_method",
    "instance",
    "_Feature"
   ],
   "window_display": false
  }
 },
 "nbformat": 4,
 "nbformat_minor": 4
}
