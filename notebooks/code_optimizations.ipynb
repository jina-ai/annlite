{
 "cells": [
  {
   "cell_type": "markdown",
   "id": "9454e1c0",
   "metadata": {
    "toc": true
   },
   "source": [
    "<h1>Table of Contents<span class=\"tocSkip\"></span></h1>\n",
    "<div class=\"toc\"><ul class=\"toc-item\"><li><span><a href=\"#Asymmetric-Distance-computation\" data-toc-modified-id=\"Asymmetric-Distance-computation-1\"><span class=\"toc-item-num\">1&nbsp;&nbsp;</span>Asymmetric Distance computation</a></span><ul class=\"toc-item\"><li><span><a href=\"#cython-version\" data-toc-modified-id=\"cython-version-1.1\"><span class=\"toc-item-num\">1.1&nbsp;&nbsp;</span>cython version</a></span></li></ul></li><li><span><a href=\"#Speed-up-precompute_adc-function\" data-toc-modified-id=\"Speed-up-precompute_adc-function-2\"><span class=\"toc-item-num\">2&nbsp;&nbsp;</span>Speed up <code>precompute_adc</code> function</a></span></li></ul></div>"
   ]
  },
  {
   "cell_type": "code",
   "execution_count": 1,
   "id": "53c2c054",
   "metadata": {
    "ExecuteTime": {
     "end_time": "2021-11-18T17:31:01.332915Z",
     "start_time": "2021-11-18T17:31:01.330890Z"
    }
   },
   "outputs": [],
   "source": [
    "import numpy as np"
   ]
  },
  {
   "cell_type": "code",
   "execution_count": 2,
   "id": "7691c3f3",
   "metadata": {
    "ExecuteTime": {
     "end_time": "2021-11-19T11:25:48.581452Z",
     "start_time": "2021-11-19T11:25:48.205480Z"
    }
   },
   "outputs": [],
   "source": [
    "%load_ext cython\n",
    "import Cython"
   ]
  },
  {
   "cell_type": "markdown",
   "id": "b5119825",
   "metadata": {},
   "source": [
    "## Asymmetric Distance computation\n",
    "\n",
    "Currently the code performs\n",
    "\n",
    "```\n",
    "dists = np.sum(self.dtable[range(M), codes], axis=1)\n",
    "```\n",
    "which is equivalent to \n",
    "\n",
    "```python\n",
    "dists = np.zeros((N, )).astype(np.float32)\n",
    "for n in range(N):\n",
    "    for m in range(M):\n",
    "        dists[n] += self.dtable[m][codes[n][m]]\n",
    "\n",
    "```"
   ]
  },
  {
   "cell_type": "code",
   "execution_count": 3,
   "id": "9a77f9c3",
   "metadata": {
    "ExecuteTime": {
     "end_time": "2021-11-18T17:31:01.714186Z",
     "start_time": "2021-11-18T17:31:01.711149Z"
    }
   },
   "outputs": [],
   "source": [
    "M = 32\n",
    "np.random.seed(123)\n",
    "\n",
    "n_cluster = 256\n",
    "dtable = np.array(np.random.random((M, n_cluster)), 'float32')\n",
    "\n",
    "np.random.seed(123)\n",
    "pq_codes_batch = np.array([np.random.randint([M]*M)])\n",
    "N, M = pq_codes_batch.shape\n"
   ]
  },
  {
   "cell_type": "code",
   "execution_count": 4,
   "id": "000da9d9",
   "metadata": {
    "ExecuteTime": {
     "end_time": "2021-11-18T17:31:02.513139Z",
     "start_time": "2021-11-18T17:31:02.510267Z"
    }
   },
   "outputs": [
    {
     "data": {
      "text/plain": [
       "array([[30, 13, 30,  2, 28,  2,  6, 17, 19, 10, 27, 25, 22,  1,  0, 17,\n",
       "        30, 15,  9,  0, 14,  0, 15, 25, 19, 14, 29,  4,  0, 16,  4, 17]])"
      ]
     },
     "execution_count": 4,
     "metadata": {},
     "output_type": "execute_result"
    }
   ],
   "source": [
    "pq_codes_batch"
   ]
  },
  {
   "cell_type": "code",
   "execution_count": 5,
   "id": "bf24829c",
   "metadata": {
    "ExecuteTime": {
     "end_time": "2021-11-18T17:31:02.727354Z",
     "start_time": "2021-11-18T17:31:02.724226Z"
    }
   },
   "outputs": [
    {
     "data": {
      "text/plain": [
       "array([17.402649], dtype=float32)"
      ]
     },
     "execution_count": 5,
     "metadata": {},
     "output_type": "execute_result"
    }
   ],
   "source": [
    "dtable[range(M),pq_codes_batch].sum(axis=1)"
   ]
  },
  {
   "cell_type": "code",
   "execution_count": 6,
   "id": "13b0a42f",
   "metadata": {
    "ExecuteTime": {
     "end_time": "2021-11-18T17:31:02.885526Z",
     "start_time": "2021-11-18T17:31:02.882622Z"
    }
   },
   "outputs": [],
   "source": [
    "def distances_loop_py(N,M, dtable):\n",
    "    dists = np.zeros((N, )).astype(np.float32)\n",
    "    for n in range(N):\n",
    "        for m in range(M):\n",
    "            dists[n] += dtable[m, pq_codes_batch[n,m]]\n",
    "    return dists"
   ]
  },
  {
   "cell_type": "code",
   "execution_count": 7,
   "id": "1f723f2a",
   "metadata": {
    "ExecuteTime": {
     "end_time": "2021-11-18T17:31:12.964800Z",
     "start_time": "2021-11-18T17:31:12.961648Z"
    }
   },
   "outputs": [
    {
     "data": {
      "text/plain": [
       "array([17.402647], dtype=float32)"
      ]
     },
     "execution_count": 7,
     "metadata": {},
     "output_type": "execute_result"
    }
   ],
   "source": [
    "distances_loop_py(1,M,dtable)"
   ]
  },
  {
   "cell_type": "code",
   "execution_count": 8,
   "id": "0c69e46b",
   "metadata": {
    "ExecuteTime": {
     "end_time": "2021-11-18T17:31:13.392431Z",
     "start_time": "2021-11-18T17:31:13.389272Z"
    }
   },
   "outputs": [
    {
     "data": {
      "text/plain": [
       "(32, 256)"
      ]
     },
     "execution_count": 8,
     "metadata": {},
     "output_type": "execute_result"
    }
   ],
   "source": [
    "dtable.shape"
   ]
  },
  {
   "cell_type": "code",
   "execution_count": 9,
   "id": "12d04729",
   "metadata": {
    "ExecuteTime": {
     "end_time": "2021-11-18T17:31:29.278960Z",
     "start_time": "2021-11-18T17:31:19.037974Z"
    }
   },
   "outputs": [
    {
     "name": "stdout",
     "output_type": "stream",
     "text": [
      "12.8 µs ± 403 ns per loop (mean ± std. dev. of 7 runs, 100000 loops each)\n"
     ]
    }
   ],
   "source": [
    "%timeit distances_loop_py(1,M,dtable)"
   ]
  },
  {
   "cell_type": "code",
   "execution_count": 10,
   "id": "bf83633b",
   "metadata": {
    "ExecuteTime": {
     "end_time": "2021-11-16T15:54:00.829687Z",
     "start_time": "2021-11-16T15:53:55.286773Z"
    }
   },
   "outputs": [
    {
     "name": "stdout",
     "output_type": "stream",
     "text": [
      "6.29 µs ± 106 ns per loop (mean ± std. dev. of 7 runs, 100000 loops each)\n"
     ]
    }
   ],
   "source": [
    "%timeit dtable[range(M),pq_codes_batch].sum(axis=1)"
   ]
  },
  {
   "cell_type": "markdown",
   "id": "6dfc1938",
   "metadata": {},
   "source": [
    "There are more complicated cases where pq_codes_batch will produce"
   ]
  },
  {
   "cell_type": "code",
   "execution_count": 27,
   "id": "b4e2c909",
   "metadata": {},
   "outputs": [
    {
     "data": {
      "text/plain": [
       "(32, 256, 4)"
      ]
     },
     "execution_count": 27,
     "metadata": {},
     "output_type": "execute_result"
    }
   ],
   "source": [
    "M = 32\n",
    "np.random.seed(123)\n",
    "\n",
    "n_cluster = 256\n",
    "dtable = np.array(np.random.random((M, n_cluster, 4)), 'float32')\n",
    "\n",
    "np.random.seed(123)\n",
    "pq_codes_batch = np.array([np.random.randint([M]*M)])\n",
    "N, M = pq_codes_batch.shape\n",
    "\n",
    "dtable.shape"
   ]
  },
  {
   "cell_type": "code",
   "execution_count": null,
   "id": "1af26987",
   "metadata": {},
   "outputs": [],
   "source": []
  },
  {
   "cell_type": "code",
   "execution_count": 11,
   "id": "3ea32c81",
   "metadata": {},
   "outputs": [],
   "source": [
    "def distances_loop_py_3dtable(N,M, dtable):\n",
    "    dists = np.zeros((N, )).astype(np.float32)\n",
    "    for n in range(N):\n",
    "        for m in range(M):\n",
    "            dists[n] += dtable[m][pq_codes_batch[n][m]]\n",
    "    return dists\n",
    "\n",
    "        # dists = np.zeros((N, )).astype(np.float32)\n",
    "        # for n in range(N):\n",
    "        #     for m in range(M):\n",
    "        #         dists[n] += self.dtable[m][codes[n][m]]"
   ]
  },
  {
   "cell_type": "code",
   "execution_count": 12,
   "id": "978f7cf1",
   "metadata": {
    "scrolled": true
   },
   "outputs": [
    {
     "data": {
      "text/plain": [
       "0.82181364"
      ]
     },
     "execution_count": 12,
     "metadata": {},
     "output_type": "execute_result"
    }
   ],
   "source": [
    "dtable[4][pq_codes_batch[0][4]]"
   ]
  },
  {
   "cell_type": "code",
   "execution_count": null,
   "id": "a9bf0218",
   "metadata": {},
   "outputs": [],
   "source": []
  },
  {
   "cell_type": "code",
   "execution_count": null,
   "id": "8d4c4c50",
   "metadata": {},
   "outputs": [],
   "source": []
  },
  {
   "cell_type": "code",
   "execution_count": null,
   "id": "141d77d7",
   "metadata": {},
   "outputs": [],
   "source": []
  },
  {
   "cell_type": "markdown",
   "id": "345d7a5b",
   "metadata": {},
   "source": [
    "### cython version"
   ]
  },
  {
   "cell_type": "code",
   "execution_count": null,
   "id": "200a13a9",
   "metadata": {
    "ExecuteTime": {
     "end_time": "2021-11-18T17:33:33.742623Z",
     "start_time": "2021-11-18T17:33:30.945126Z"
    },
    "scrolled": true
   },
   "outputs": [],
   "source": [
    "%%cython\n",
    "cimport numpy as cnp\n",
    "cimport cython\n",
    "             \n",
    "@cython.boundscheck(False)\n",
    "@cython.wraparound(False)\n",
    "cpdef dist_pqcode_to_codebook(long M, float[:,:] dtable, long[:] pq_code):\n",
    "    cdef float dist = 0\n",
    "    cdef int m\n",
    "    \n",
    "    for m in range(M):\n",
    "        dist += dtable[m, pq_code[m]]\n",
    "\n",
    "    return dist"
   ]
  },
  {
   "cell_type": "code",
   "execution_count": null,
   "id": "8bafd3ac",
   "metadata": {
    "ExecuteTime": {
     "end_time": "2021-11-18T17:33:35.086832Z",
     "start_time": "2021-11-18T17:33:35.084818Z"
    }
   },
   "outputs": [],
   "source": [
    "pq_code = pq_codes_batch.flatten()"
   ]
  },
  {
   "cell_type": "code",
   "execution_count": null,
   "id": "d613a4aa",
   "metadata": {
    "ExecuteTime": {
     "end_time": "2021-11-18T17:33:40.620452Z",
     "start_time": "2021-11-18T17:33:36.693627Z"
    }
   },
   "outputs": [],
   "source": [
    "%timeit dist_pqcode_to_codebook(M, dtable, pq_code)"
   ]
  },
  {
   "cell_type": "markdown",
   "id": "b1928cb8",
   "metadata": {},
   "source": [
    "We can make the method work for generic types but this will have a penalty when called from python "
   ]
  },
  {
   "cell_type": "code",
   "execution_count": null,
   "id": "4848aeb5",
   "metadata": {
    "ExecuteTime": {
     "end_time": "2021-11-16T15:04:04.764194Z",
     "start_time": "2021-11-16T15:04:04.760248Z"
    },
    "scrolled": true
   },
   "outputs": [],
   "source": [
    "%%cython\n",
    "cimport numpy as cnp\n",
    "cimport cython\n",
    "from cython cimport integral, floating\n",
    "             \n",
    "@cython.boundscheck(False)\n",
    "@cython.wraparound(False)\n",
    "cpdef floating distances_loop_cy2(integral M,\n",
    "                                  floating[:,:] dtable,\n",
    "                                  integral[:] pq_code):\n",
    "    cdef floating dist = 0\n",
    "    cdef integral m \n",
    "    \n",
    "    for m in range(M):\n",
    "        dist += dtable[m, pq_code[m]]\n",
    "\n",
    "    return dist"
   ]
  },
  {
   "cell_type": "code",
   "execution_count": null,
   "id": "9381ecdb",
   "metadata": {
    "ExecuteTime": {
     "end_time": "2021-11-16T15:03:42.861064Z",
     "start_time": "2021-11-16T15:03:27.926096Z"
    }
   },
   "outputs": [],
   "source": [
    "%timeit distances_loop_cy2(M, dtable, pq_code)"
   ]
  },
  {
   "cell_type": "markdown",
   "id": "d83d15d1",
   "metadata": {},
   "source": [
    "##### Batched version of dist_pqcodes_to_codebooks"
   ]
  },
  {
   "cell_type": "code",
   "execution_count": null,
   "id": "2e876bda",
   "metadata": {
    "ExecuteTime": {
     "end_time": "2021-11-18T17:58:44.499790Z",
     "start_time": "2021-11-18T17:58:44.495981Z"
    }
   },
   "outputs": [],
   "source": [
    "%%cython \n",
    "\n",
    "# distutils: language = c++\n",
    "\n",
    "from libcpp.vector cimport vector\n",
    "\n",
    "cimport numpy as np\n",
    "cimport cython\n",
    "import numpy as np\n",
    "\n",
    "from cpython.array cimport array, clone\n",
    "\n",
    "@cython.boundscheck(False)\n",
    "@cython.wraparound(False)\n",
    "cdef inline float dist_pqcode_to_codebook(long M, float[:,:] dtable,long[:] pq_code):\n",
    "    cdef float dist = 0\n",
    "    cdef int m\n",
    "    \n",
    "    for m in range(M):\n",
    "        dist += dtable[m, pq_code[m]]\n",
    "\n",
    "    return dist\n",
    "\n",
    "@cython.boundscheck(False)\n",
    "@cython.wraparound(False)\n",
    "cpdef dist_pqcodes_to_codebooks(long M, float[:,:] dtable, long[:,:] pq_codes):\n",
    "    cdef:\n",
    "        int m, loops\n",
    "        int N = pq_codes.shape[0] \n",
    "        float[:] dists = np.empty(N, dtype=np.float32)\n",
    "    \n",
    "    for n in range(N):\n",
    "        dists[n] = dist_pqcode_to_codebook(M, dtable, pq_codes[n,:])\n",
    "\n",
    "    return np.array(dists) \n",
    "             "
   ]
  },
  {
   "cell_type": "code",
   "execution_count": null,
   "id": "e9b9ccc4",
   "metadata": {
    "ExecuteTime": {
     "end_time": "2021-11-18T17:58:45.791800Z",
     "start_time": "2021-11-18T17:58:45.788567Z"
    },
    "scrolled": true
   },
   "outputs": [],
   "source": [
    "dist_pqcodes_to_codebooks(M, dtable, pq_codes_batch)"
   ]
  },
  {
   "cell_type": "code",
   "execution_count": null,
   "id": "aaa0e16b",
   "metadata": {
    "ExecuteTime": {
     "end_time": "2021-11-18T17:58:49.052723Z",
     "start_time": "2021-11-18T17:58:47.161073Z"
    }
   },
   "outputs": [],
   "source": [
    "%timeit dist_pqcodes_to_codebooks(M, dtable, pq_codes_batch)"
   ]
  },
  {
   "cell_type": "markdown",
   "id": "3d1ca69c",
   "metadata": {},
   "source": [
    "Iin the batched problem we have the problem that we have to create a numpy array at runtime to store the distances. oreover we need to slice `pq_codes[n,:]` to call `dist_pqcode_to_codebook`.\n",
    "\n",
    "We can improve this by instead of defining a numpy vector at runtime we can use a C++ vector and append the results."
   ]
  },
  {
   "cell_type": "code",
   "execution_count": null,
   "id": "694cb4d7",
   "metadata": {
    "ExecuteTime": {
     "end_time": "2021-11-18T18:11:47.432468Z",
     "start_time": "2021-11-18T18:11:43.974994Z"
    }
   },
   "outputs": [],
   "source": [
    "%%cython -a\n",
    "\n",
    "# distutils: language = c++\n",
    "\n",
    "from libcpp.vector cimport vector\n",
    "\n",
    "cimport numpy as np\n",
    "cimport cython\n",
    "import numpy as np\n",
    "\n",
    "from cpython.array cimport array, clone\n",
    "\n",
    "@cython.boundscheck(False)\n",
    "@cython.wraparound(False)\n",
    "cdef inline float dist_pqcode_to_codebook(long M, float[:,:] dtable,long[:] pq_code):\n",
    "    cdef float dist = 0\n",
    "    cdef int m\n",
    "    \n",
    "    for m in range(M):\n",
    "        dist += dtable[m, pq_code[m]]\n",
    "\n",
    "    return dist\n",
    "\n",
    "@cython.boundscheck(False)\n",
    "@cython.wraparound(False)\n",
    "cpdef dist_pqcodes_to_codebooks(long M, float[:,:] dtable, long[:,:] pq_codes):\n",
    "    cdef:\n",
    "        int m, loops\n",
    "        int N = pq_codes.shape[0] \n",
    "        #float[:] dists = np.empty(N, dtype=np.float32)\n",
    "        vector[float] dists\n",
    "    \n",
    "    for n in range(N):\n",
    "        dists.push_back(dist_pqcode_to_codebook(M, dtable, pq_codes[n,:]))\n",
    "\n",
    "    return np.asarray(dists)\n",
    "             "
   ]
  },
  {
   "cell_type": "code",
   "execution_count": null,
   "id": "6a5b5949",
   "metadata": {
    "ExecuteTime": {
     "end_time": "2021-11-18T18:11:49.354914Z",
     "start_time": "2021-11-18T18:11:49.351989Z"
    }
   },
   "outputs": [],
   "source": [
    "dist_pqcodes_to_codebooks(M, dtable, pq_codes_batch)"
   ]
  },
  {
   "cell_type": "code",
   "execution_count": null,
   "id": "17252aa1",
   "metadata": {
    "ExecuteTime": {
     "end_time": "2021-11-18T18:12:05.880641Z",
     "start_time": "2021-11-18T18:11:50.870183Z"
    }
   },
   "outputs": [],
   "source": [
    "%timeit dist_pqcodes_to_codebooks(M, dtable, pq_codes_batch)"
   ]
  },
  {
   "cell_type": "code",
   "execution_count": null,
   "id": "77f3c6f7",
   "metadata": {
    "ExecuteTime": {
     "end_time": "2021-11-18T18:12:45.649897Z",
     "start_time": "2021-11-18T18:12:45.647756Z"
    }
   },
   "outputs": [],
   "source": [
    "pq_codes_batch_50 = np.vstack([pq_codes_batch for i in range(50)])"
   ]
  },
  {
   "cell_type": "code",
   "execution_count": null,
   "id": "a0ba743e",
   "metadata": {
    "ExecuteTime": {
     "end_time": "2021-11-18T18:12:52.212505Z",
     "start_time": "2021-11-18T18:12:46.479124Z"
    }
   },
   "outputs": [],
   "source": [
    "%timeit dist_pqcodes_to_codebooks(M, dtable, pq_codes_batch_50)"
   ]
  },
  {
   "cell_type": "code",
   "execution_count": null,
   "id": "b81a7668",
   "metadata": {
    "ExecuteTime": {
     "end_time": "2021-11-18T18:13:04.108634Z",
     "start_time": "2021-11-18T18:12:52.223888Z"
    }
   },
   "outputs": [],
   "source": [
    "%timeit dtable[range(M),pq_codes_batch_50].sum(axis=1)"
   ]
  },
  {
   "cell_type": "markdown",
   "id": "57637e32",
   "metadata": {},
   "source": [
    "If we don't need an output as a numpy array (a list is fine) we can go with the following implementation which is 2x faster"
   ]
  },
  {
   "cell_type": "code",
   "execution_count": null,
   "id": "099f5829",
   "metadata": {
    "ExecuteTime": {
     "end_time": "2021-11-18T18:17:10.267049Z",
     "start_time": "2021-11-18T18:17:10.263269Z"
    }
   },
   "outputs": [],
   "source": [
    "%%cython\n",
    "\n",
    "# distutils: language = c++\n",
    "\n",
    "from libcpp.vector cimport vector\n",
    "\n",
    "cimport numpy as np\n",
    "cimport cython\n",
    "import numpy as np\n",
    "\n",
    "from cpython.array cimport array, clone\n",
    "\n",
    "@cython.boundscheck(False)\n",
    "@cython.wraparound(False)\n",
    "cdef inline float dist_pqcode_to_codebook(long M, float[:,:] dtable,long[:] pq_code):\n",
    "    cdef float dist = 0\n",
    "    cdef int m\n",
    "    \n",
    "    for m in range(M):\n",
    "        dist += dtable[m, pq_code[m]]\n",
    "\n",
    "    return dist\n",
    "\n",
    "@cython.boundscheck(False)\n",
    "@cython.wraparound(False)\n",
    "cpdef dist_pqcodes_to_codebooks(long M, float[:,:] dtable, long[:,:] pq_codes):\n",
    "    cdef:\n",
    "        int m, loops\n",
    "        int N = pq_codes.shape[0] \n",
    "        #float[:] dists = np.empty(N, dtype=np.float32)\n",
    "        vector[float] dists\n",
    "    \n",
    "    for n in range(N):\n",
    "        dists.push_back(dist_pqcode_to_codebook(M, dtable, pq_codes[n,:]))\n",
    "\n",
    "    return dists\n",
    "             "
   ]
  },
  {
   "cell_type": "code",
   "execution_count": null,
   "id": "fb0757b6",
   "metadata": {
    "ExecuteTime": {
     "end_time": "2021-11-18T18:17:24.391025Z",
     "start_time": "2021-11-18T18:17:19.071236Z"
    }
   },
   "outputs": [],
   "source": [
    "%timeit dist_pqcodes_to_codebooks(M, dtable, pq_codes_batch)"
   ]
  },
  {
   "cell_type": "code",
   "execution_count": null,
   "id": "1ce32ac3",
   "metadata": {
    "ExecuteTime": {
     "end_time": "2021-11-18T18:17:17.317021Z",
     "start_time": "2021-11-18T18:17:14.447851Z"
    }
   },
   "outputs": [],
   "source": [
    "%timeit dist_pqcodes_to_codebooks(M, dtable, pq_codes_batch_50)"
   ]
  },
  {
   "cell_type": "code",
   "execution_count": null,
   "id": "5e2856a2",
   "metadata": {},
   "outputs": [],
   "source": []
  },
  {
   "cell_type": "code",
   "execution_count": null,
   "id": "0a6fc9bf",
   "metadata": {},
   "outputs": [],
   "source": []
  },
  {
   "cell_type": "markdown",
   "id": "cd80a9c3",
   "metadata": {},
   "source": [
    "## Speed up `precompute_adc` function"
   ]
  },
  {
   "cell_type": "code",
   "execution_count": null,
   "id": "5f173456",
   "metadata": {
    "ExecuteTime": {
     "end_time": "2021-11-17T16:37:00.181878Z",
     "start_time": "2021-11-17T16:37:00.152685Z"
    }
   },
   "outputs": [],
   "source": [
    "\n",
    "import sklearn\n",
    "from sklearn.datasets import make_blobs\n",
    "from sklearn.model_selection import train_test_split\n",
    "\n",
    "from pqlite.core.codec.pq import PQCodec\n",
    "\n",
    "D = 128\n",
    "n_clusters = 256\n",
    "M = 32\n",
    "\n",
    "D = 128 # dimentionality / number of features\n",
    "top_k = 100\n",
    "n_cells = 18\n",
    "Nt = 5000\n",
    "d_subvector = int(D/M)\n",
    "n_subvectors = M\n",
    "\n",
    "\n",
    "np.random.seed(123)\n",
    "Xtr, Xte =train_test_split(make_blobs(n_samples = Nt, n_features = D)[0].astype(np.float32), test_size=20)\n",
    "\n",
    "pq = PQCodec(D, M, n_clusters)"
   ]
  },
  {
   "cell_type": "code",
   "execution_count": null,
   "id": "3d8602d9",
   "metadata": {
    "ExecuteTime": {
     "end_time": "2021-11-17T16:37:00.853937Z",
     "start_time": "2021-11-17T16:37:00.849972Z"
    }
   },
   "outputs": [],
   "source": [
    "D, M, d_subvector, n_subvectors"
   ]
  },
  {
   "cell_type": "code",
   "execution_count": null,
   "id": "47dc78ce",
   "metadata": {
    "ExecuteTime": {
     "end_time": "2021-11-17T16:37:11.427695Z",
     "start_time": "2021-11-17T16:37:01.502023Z"
    }
   },
   "outputs": [],
   "source": [
    "pq.fit(Xtr)"
   ]
  },
  {
   "cell_type": "code",
   "execution_count": null,
   "id": "42749577",
   "metadata": {
    "ExecuteTime": {
     "end_time": "2021-11-17T16:37:11.446181Z",
     "start_time": "2021-11-17T16:37:11.443326Z"
    }
   },
   "outputs": [],
   "source": [
    "codebooks = pq.codebooks\n",
    "codebooks.shape"
   ]
  },
  {
   "cell_type": "code",
   "execution_count": null,
   "id": "1d41bbc9",
   "metadata": {
    "ExecuteTime": {
     "end_time": "2021-11-17T16:37:11.464583Z",
     "start_time": "2021-11-17T16:37:11.461801Z"
    }
   },
   "outputs": [],
   "source": [
    "codebooks[0].shape"
   ]
  },
  {
   "cell_type": "code",
   "execution_count": null,
   "id": "ff4ad9c6",
   "metadata": {
    "ExecuteTime": {
     "end_time": "2021-11-16T16:29:36.704177Z",
     "start_time": "2021-11-16T16:29:32.523892Z"
    }
   },
   "outputs": [],
   "source": [
    "%timeit pq.precompute_adc(Xtr[4,:])"
   ]
  },
  {
   "cell_type": "code",
   "execution_count": null,
   "id": "837e1a82",
   "metadata": {
    "ExecuteTime": {
     "end_time": "2021-11-17T16:37:11.488336Z",
     "start_time": "2021-11-17T16:37:11.486296Z"
    },
    "scrolled": false
   },
   "outputs": [],
   "source": [
    "query = Xtr[4,:]\n",
    "#distance_table_from_class = pq.precompute_adc(query)\n",
    "#distance_table_from_class.dtable.shape"
   ]
  },
  {
   "cell_type": "code",
   "execution_count": null,
   "id": "436e9dbf",
   "metadata": {
    "ExecuteTime": {
     "end_time": "2021-11-17T16:37:11.508571Z",
     "start_time": "2021-11-17T16:37:11.503858Z"
    }
   },
   "outputs": [],
   "source": [
    "dtable = pq.precompute_adc(Xtr[4,:])\n",
    "dtable.dtable.shape"
   ]
  },
  {
   "cell_type": "code",
   "execution_count": null,
   "id": "917f435e",
   "metadata": {
    "ExecuteTime": {
     "end_time": "2021-11-17T18:18:22.467109Z",
     "start_time": "2021-11-17T18:18:22.455197Z"
    }
   },
   "outputs": [],
   "source": [
    "\n",
    "def precompute_adc3(query, \n",
    "                    d_subvector,\n",
    "                    n_clusters,\n",
    "                    codebooks):\n",
    "    n_subvectors = int(D/d_subvector)\n",
    "    dtable = np.empty((int(D/d_subvector), n_clusters), dtype=np.float32)\n",
    "\n",
    "    for m in range(n_subvectors):\n",
    "        query_sub = query[m * d_subvector : (m + 1) * d_subvector]\n",
    "        print(query_sub)\n",
    "        dtable[m, :] = np.linalg.norm(codebooks[m] - query_sub, axis=1) ** 2\n",
    "\n",
    "    return dtable\n",
    "\n",
    "dtable_custom = precompute_adc3(query, d_subvector, n_clusters, codebooks)\n",
    "dtable_custom.shape"
   ]
  },
  {
   "cell_type": "code",
   "execution_count": null,
   "id": "f6b6e904",
   "metadata": {
    "ExecuteTime": {
     "end_time": "2021-11-17T17:05:10.872007Z",
     "start_time": "2021-11-17T17:05:10.869575Z"
    }
   },
   "outputs": [],
   "source": [
    "np.testing.asserts_almost_equal(dtable_custom, dtable.dtable)"
   ]
  },
  {
   "cell_type": "code",
   "execution_count": null,
   "id": "df7b6d9d",
   "metadata": {
    "ExecuteTime": {
     "end_time": "2021-11-17T17:07:57.469095Z",
     "start_time": "2021-11-17T17:07:57.466382Z"
    }
   },
   "outputs": [],
   "source": [
    "codebooks.shape"
   ]
  },
  {
   "cell_type": "code",
   "execution_count": null,
   "id": "9c006e18",
   "metadata": {
    "ExecuteTime": {
     "end_time": "2021-11-17T17:43:25.698855Z",
     "start_time": "2021-11-17T17:43:25.695948Z"
    }
   },
   "outputs": [],
   "source": [
    "codebooks[0][]"
   ]
  },
  {
   "cell_type": "markdown",
   "id": "98afae63",
   "metadata": {},
   "source": [
    "We can avoid slices to use less memory and improve speed"
   ]
  },
  {
   "cell_type": "code",
   "execution_count": null,
   "id": "072b5bbf",
   "metadata": {
    "ExecuteTime": {
     "end_time": "2021-11-17T18:10:15.194782Z",
     "start_time": "2021-11-17T18:10:15.192079Z"
    }
   },
   "outputs": [],
   "source": [
    "codebooks[0].shape"
   ]
  },
  {
   "cell_type": "code",
   "execution_count": null,
   "id": "b2f0f05e",
   "metadata": {
    "ExecuteTime": {
     "end_time": "2021-11-17T18:10:21.133305Z",
     "start_time": "2021-11-17T18:10:21.130861Z"
    },
    "scrolled": true
   },
   "outputs": [],
   "source": [
    "codebooks.shape, M"
   ]
  },
  {
   "cell_type": "code",
   "execution_count": null,
   "id": "e9b2bdb6",
   "metadata": {
    "ExecuteTime": {
     "end_time": "2021-11-17T18:33:43.816390Z",
     "start_time": "2021-11-17T18:33:43.775564Z"
    }
   },
   "outputs": [],
   "source": [
    "def precompute_adc3(query, \n",
    "                    d_subvector,\n",
    "                    n_clusters,\n",
    "                    codebooks):\n",
    "    \n",
    "    n_subvectors = int(D/d_subvector)\n",
    "    dtable = np.empty((int(D/d_subvector), n_clusters), dtype=np.float32)\n",
    "    query_subvec = np.empty(d_subvector, dtype=np.float32)\n",
    "    query_subcodeword = np.empty(d_subvector, dtype=np.float32)\n",
    "    \n",
    "    for m in range(n_subvectors):\n",
    "        \n",
    "        # load m'th subquery\n",
    "        i = 0\n",
    "        for k in range(m * d_subvector, (m + 1) * d_subvector):\n",
    "            query_subvec[i] = query[k]\n",
    "            i += 1\n",
    "            \n",
    "        for ind_prototype in range(n_clusters):\n",
    "            \n",
    "            # load prototype ind_prototype for the m'th subspace\n",
    "            for i in range(d_subvector):\n",
    "                query_subcodeword[i] = codebooks[m, ind_prototype, i]\n",
    "            \n",
    "            # load prototype ind_prototype for the m'th subspace\n",
    "            dist_subprototype_to_subquery = 0\n",
    "            for k in range(d_subvector):\n",
    "                coord_k = query_subcodeword[k] - query_subvec[k]\n",
    "                dist_subprototype_to_subquery += coord_k * coord_k\n",
    "            \n",
    "            dtable[m, ind_prototype] = dist_subprototype_to_subquery\n",
    "            \n",
    "    return dtable\n",
    "\n",
    "dtable_custom2 = precompute_adc3(query, d_subvector, n_clusters, codebooks)\n",
    "dtable_custom2.shape"
   ]
  },
  {
   "cell_type": "code",
   "execution_count": null,
   "id": "c87f1555",
   "metadata": {
    "ExecuteTime": {
     "end_time": "2021-11-17T18:25:23.799452Z",
     "start_time": "2021-11-17T18:25:23.796419Z"
    }
   },
   "outputs": [],
   "source": [
    "#np.testing.assert_array_almost_equal(dtable_custom, dtable_custom2)\n",
    "np.mean(dtable_custom - dtable_custom2)"
   ]
  },
  {
   "cell_type": "markdown",
   "id": "42efe2bc",
   "metadata": {},
   "source": [
    "We can cythonize the previous function"
   ]
  },
  {
   "cell_type": "code",
   "execution_count": null,
   "id": "faf26010",
   "metadata": {
    "ExecuteTime": {
     "start_time": "2021-11-17T18:56:48.761Z"
    },
    "scrolled": false
   },
   "outputs": [],
   "source": [
    "%%cython -a \n",
    "cimport numpy as cnp\n",
    "import numpy as np\n",
    "cimport cython\n",
    "from cython.cimports.libc.stdlib import malloc, free\n",
    "from cpython.mem cimport PyMem_Malloc, PyMem_Realloc, PyMem_Free\n",
    "\n",
    "             \n",
    "@cython.boundscheck(False)\n",
    "@cython.wraparound(False)\n",
    "cpdef float[:,:] precompute_adc_cy(float[:] query, \n",
    "                        long d_subvector,\n",
    "                        long n_clusters,\n",
    "                        float[::,:,:] codebooks):\n",
    "            \n",
    "    cdef int D = len(query)\n",
    "    cdef int M = int(D/d_subvector) \n",
    "    cdef int n_subvectors = int(D/d_subvector)\n",
    "    cdef int m,i,k,ind_prototype,j\n",
    "    \n",
    "    cdef float[::,:] dtable = np.empty((M, n_clusters), dtype=np.float32)\n",
    "    cdef float[::] query_subvec = np.empty(d_subvector, dtype=np.float32)\n",
    "    cdef float[::] query_subcodeword = np.empty(d_subvector, dtype=np.float32)\n",
    "    \n",
    "    #cdef double* query_subcodeword = <double*> PyMem_Malloc( d_subvector * sizeof(double))\n",
    "        \n",
    "    cdef float dist_subprototype_to_subquery, coord_j\n",
    "    \n",
    "    for m in range(n_subvectors):\n",
    "        \n",
    "        # load m'th subquery\n",
    "        i = 0\n",
    "        for k in range(m * d_subvector, (m + 1) * d_subvector):\n",
    "            query_subvec[i] = query[k]\n",
    "            i += 1\n",
    "            \n",
    "        for ind_prototype in range(n_clusters):\n",
    "            \n",
    "            # load prototype ind_prototype for the m'th subspace\n",
    "            for i in range(d_subvector):\n",
    "                query_subcodeword[i] = codebooks[m, ind_prototype, i]\n",
    "            \n",
    "            # load prototype ind_prototype for the m'th subspace\n",
    "            dist_subprototype_to_subquery = 0.\n",
    "            for j in range(d_subvector):\n",
    "                coord_j = query_subcodeword[j] - query_subvec[j]\n",
    "                dist_subprototype_to_subquery += coord_j * coord_j\n",
    "            \n",
    "            dtable[m, ind_prototype] = dist_subprototype_to_subquery\n",
    "    \n",
    "    free(query_subcodeword)\n",
    "    \n",
    "    return dtable\n"
   ]
  },
  {
   "cell_type": "code",
   "execution_count": null,
   "id": "42a5f94b",
   "metadata": {
    "ExecuteTime": {
     "end_time": "2021-11-17T18:48:53.313319Z",
     "start_time": "2021-11-17T18:48:49.426745Z"
    },
    "scrolled": false
   },
   "outputs": [],
   "source": [
    "%timeit dtable_custom3 = precompute_adc_cy(query, d_subvector, n_clusters, codebooks)"
   ]
  },
  {
   "cell_type": "markdown",
   "id": "a73d7f9b",
   "metadata": {},
   "source": [
    "This is around a factor of 10x over the 'numpy vectorized' version"
   ]
  },
  {
   "cell_type": "code",
   "execution_count": null,
   "id": "14464049",
   "metadata": {
    "ExecuteTime": {
     "end_time": "2021-11-17T18:39:24.839780Z",
     "start_time": "2021-11-17T18:39:21.023851Z"
    }
   },
   "outputs": [],
   "source": [
    "%timeit pq.precompute_adc(Xtr[4,:])"
   ]
  },
  {
   "cell_type": "code",
   "execution_count": null,
   "id": "5ec8ffbc",
   "metadata": {},
   "outputs": [],
   "source": []
  },
  {
   "cell_type": "code",
   "execution_count": null,
   "id": "aa59cda3",
   "metadata": {},
   "outputs": [],
   "source": []
  },
  {
   "cell_type": "code",
   "execution_count": null,
   "id": "c703f94a",
   "metadata": {},
   "outputs": [],
   "source": []
  }
 ],
 "metadata": {
  "kernelspec": {
   "display_name": "Python 3 (ipykernel)",
   "language": "python",
   "name": "python3"
  },
  "language_info": {
   "codemirror_mode": {
    "name": "ipython",
    "version": 3
   },
   "file_extension": ".py",
   "mimetype": "text/x-python",
   "name": "python",
   "nbconvert_exporter": "python",
   "pygments_lexer": "ipython3",
   "version": "3.8.8"
  },
  "toc": {
   "base_numbering": 1,
   "nav_menu": {},
   "number_sections": true,
   "sideBar": true,
   "skip_h1_title": false,
   "title_cell": "Table of Contents",
   "title_sidebar": "Contents",
   "toc_cell": true,
   "toc_position": {},
   "toc_section_display": true,
   "toc_window_display": false
  },
  "varInspector": {
   "cols": {
    "lenName": 16,
    "lenType": 16,
    "lenVar": 40
   },
   "kernels_config": {
    "python": {
     "delete_cmd_postfix": "",
     "delete_cmd_prefix": "del ",
     "library": "var_list.py",
     "varRefreshCmd": "print(var_dic_list())"
    },
    "r": {
     "delete_cmd_postfix": ") ",
     "delete_cmd_prefix": "rm(",
     "library": "var_list.r",
     "varRefreshCmd": "cat(var_dic_list()) "
    }
   },
   "types_to_exclude": [
    "module",
    "function",
    "builtin_function_or_method",
    "instance",
    "_Feature"
   ],
   "window_display": false
  }
 },
 "nbformat": 4,
 "nbformat_minor": 5
}
