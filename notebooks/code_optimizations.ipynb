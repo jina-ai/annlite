{
 "cells": [
  {
   "cell_type": "markdown",
   "metadata": {
    "toc": true
   },
   "source": [
    "<h1>Table of Contents<span class=\"tocSkip\"></span></h1>\n",
    "<div class=\"toc\"><ul class=\"toc-item\"><li><span><a href=\"#Asymmetric-Distance-computation\" data-toc-modified-id=\"Asymmetric-Distance-computation-1\"><span class=\"toc-item-num\">1&nbsp;&nbsp;</span>Asymmetric Distance computation</a></span><ul class=\"toc-item\"><li><span><a href=\"#cython-version\" data-toc-modified-id=\"cython-version-1.1\"><span class=\"toc-item-num\">1.1&nbsp;&nbsp;</span>cython version</a></span></li></ul></li><li><span><a href=\"#Speed-up-precompute_adc-function\" data-toc-modified-id=\"Speed-up-precompute_adc-function-2\"><span class=\"toc-item-num\">2&nbsp;&nbsp;</span>Speed up <code>precompute_adc</code> function</a></span></li></ul></div>"
   ]
  },
  {
   "cell_type": "code",
   "execution_count": 1,
   "metadata": {
    "ExecuteTime": {
     "end_time": "2021-11-19T11:25:48.581452Z",
     "start_time": "2021-11-19T11:25:48.205480Z"
    }
   },
   "outputs": [],
   "source": [
    "%load_ext cython\n",
    "%timeit\n",
    "\n",
    "import Cython"
   ]
  },
  {
   "cell_type": "code",
   "execution_count": 2,
   "metadata": {
    "ExecuteTime": {
     "end_time": "2021-11-18T17:31:00.997480Z",
     "start_time": "2021-11-18T17:31:00.991291Z"
    }
   },
   "outputs": [
    {
     "data": {
      "text/plain": [
       "'0.29.24'"
      ]
     },
     "execution_count": 2,
     "metadata": {},
     "output_type": "execute_result"
    }
   ],
   "source": [
    "Cython.__version__"
   ]
  },
  {
   "cell_type": "code",
   "execution_count": 3,
   "metadata": {
    "ExecuteTime": {
     "end_time": "2021-11-18T17:31:01.332915Z",
     "start_time": "2021-11-18T17:31:01.330890Z"
    }
   },
   "outputs": [],
   "source": [
    "import numpy as np"
   ]
  },
  {
   "cell_type": "markdown",
   "metadata": {},
   "source": [
    "## Asymmetric Distance computation\n",
    "\n",
    "Currently the code performs\n",
    "\n",
    "```\n",
    "dists = np.sum(self.dtable[range(M), codes], axis=1)\n",
    "```\n",
    "which is equivalent to \n",
    "\n",
    "```python\n",
    "dists = np.zeros((N, )).astype(np.float32)\n",
    "for n in range(N):\n",
    "    for m in range(M):\n",
    "        dists[n] += self.dtable[m][codes[n][m]]\n",
    "\n",
    "```"
   ]
  },
  {
   "cell_type": "code",
   "execution_count": 4,
   "metadata": {
    "ExecuteTime": {
     "end_time": "2021-11-18T17:31:01.714186Z",
     "start_time": "2021-11-18T17:31:01.711149Z"
    }
   },
   "outputs": [],
   "source": [
    "M = 32\n",
    "np.random.seed(123)\n",
    "\n",
    "n_cluster = 256\n",
    "dtable = np.array(np.random.random((M, n_cluster)), 'float32')\n",
    "\n",
    "np.random.seed(123)\n",
    "pq_codes_batch = np.array([np.random.randint([M]*M)])\n",
    "N, M = pq_codes_batch.shape\n"
   ]
  },
  {
   "cell_type": "code",
   "execution_count": 5,
   "metadata": {
    "ExecuteTime": {
     "end_time": "2021-11-18T17:31:02.513139Z",
     "start_time": "2021-11-18T17:31:02.510267Z"
    }
   },
   "outputs": [
    {
     "data": {
      "text/plain": [
       "array([[30, 13, 30,  2, 28,  2,  6, 17, 19, 10, 27, 25, 22,  1,  0, 17,\n",
       "        30, 15,  9,  0, 14,  0, 15, 25, 19, 14, 29,  4,  0, 16,  4, 17]])"
      ]
     },
     "execution_count": 5,
     "metadata": {},
     "output_type": "execute_result"
    }
   ],
   "source": [
    "pq_codes_batch"
   ]
  },
  {
   "cell_type": "code",
   "execution_count": 6,
   "metadata": {
    "ExecuteTime": {
     "end_time": "2021-11-18T17:31:02.727354Z",
     "start_time": "2021-11-18T17:31:02.724226Z"
    }
   },
   "outputs": [
    {
     "data": {
      "text/plain": [
       "array([17.402649], dtype=float32)"
      ]
     },
     "execution_count": 6,
     "metadata": {},
     "output_type": "execute_result"
    }
   ],
   "source": [
    "dtable[range(M),pq_codes_batch].sum(axis=1)"
   ]
  },
  {
   "cell_type": "code",
   "execution_count": 7,
   "metadata": {
    "ExecuteTime": {
     "end_time": "2021-11-18T17:31:02.885526Z",
     "start_time": "2021-11-18T17:31:02.882622Z"
    }
   },
   "outputs": [],
   "source": [
    "def distances_loop_py(N,M, dtable):\n",
    "    dists = np.zeros((N, )).astype(np.float32)\n",
    "    for n in range(N):\n",
    "        for m in range(M):\n",
    "            dists[n] += dtable[m, pq_codes_batch[n,m]]\n",
    "    return dists"
   ]
  },
  {
   "cell_type": "code",
   "execution_count": 10,
   "metadata": {
    "ExecuteTime": {
     "end_time": "2021-11-18T17:31:12.964800Z",
     "start_time": "2021-11-18T17:31:12.961648Z"
    }
   },
   "outputs": [
    {
     "data": {
      "text/plain": [
       "array([17.402647], dtype=float32)"
      ]
     },
     "execution_count": 10,
     "metadata": {},
     "output_type": "execute_result"
    }
   ],
   "source": [
    "distances_loop_py(1,M,dtable)"
   ]
  },
  {
   "cell_type": "code",
   "execution_count": 11,
   "metadata": {
    "ExecuteTime": {
     "end_time": "2021-11-18T17:31:13.392431Z",
     "start_time": "2021-11-18T17:31:13.389272Z"
    }
   },
   "outputs": [
    {
     "data": {
      "text/plain": [
       "(32, 256)"
      ]
     },
     "execution_count": 11,
     "metadata": {},
     "output_type": "execute_result"
    }
   ],
   "source": [
    "dtable.shape"
   ]
  },
  {
   "cell_type": "code",
   "execution_count": 12,
   "metadata": {
    "ExecuteTime": {
     "end_time": "2021-11-18T17:31:29.278960Z",
     "start_time": "2021-11-18T17:31:19.037974Z"
    }
   },
   "outputs": [
    {
     "name": "stdout",
     "output_type": "stream",
     "text": [
      "12.5 µs ± 184 ns per loop (mean ± std. dev. of 7 runs, 100000 loops each)\n"
     ]
    }
   ],
   "source": [
    "%timeit distances_loop_py(1,M,dtable)"
   ]
  },
  {
   "cell_type": "code",
   "execution_count": 52,
   "metadata": {
    "ExecuteTime": {
     "end_time": "2021-11-16T15:54:00.829687Z",
     "start_time": "2021-11-16T15:53:55.286773Z"
    }
   },
   "outputs": [
    {
     "name": "stdout",
     "output_type": "stream",
     "text": [
      "6.81 µs ± 28.3 ns per loop (mean ± std. dev. of 7 runs, 100000 loops each)\n"
     ]
    }
   ],
   "source": [
    "%timeit dtable[range(M),pq_codes_batch].sum(axis=1)"
   ]
  },
  {
   "cell_type": "markdown",
   "metadata": {},
   "source": [
    "### cython version"
   ]
  },
  {
   "cell_type": "code",
   "execution_count": 21,
   "metadata": {
    "ExecuteTime": {
     "end_time": "2021-11-18T17:33:33.742623Z",
     "start_time": "2021-11-18T17:33:30.945126Z"
    },
    "scrolled": true
   },
   "outputs": [
    {
     "name": "stderr",
     "output_type": "stream",
     "text": [
      "In file included from /Users/davidbuchaca1/.ipython/cython/_cython_magic_8006e507a74b416c5d19d9789a3b7999.c:649:\n",
      "In file included from /Users/davidbuchaca1/opt/anaconda3/lib/python3.8/site-packages/numpy/core/include/numpy/arrayobject.h:4:\n",
      "In file included from /Users/davidbuchaca1/opt/anaconda3/lib/python3.8/site-packages/numpy/core/include/numpy/ndarrayobject.h:12:\n",
      "In file included from /Users/davidbuchaca1/opt/anaconda3/lib/python3.8/site-packages/numpy/core/include/numpy/ndarraytypes.h:1944:\n",
      "/Users/davidbuchaca1/opt/anaconda3/lib/python3.8/site-packages/numpy/core/include/numpy/npy_1_7_deprecated_api.h:17:2: warning: \"Using deprecated NumPy API, disable it with \"          \"#define NPY_NO_DEPRECATED_API NPY_1_7_API_VERSION\" [-W#warnings]\n",
      "#warning \"Using deprecated NumPy API, disable it with \" \\\n",
      " ^\n",
      "/Users/davidbuchaca1/.ipython/cython/_cython_magic_8006e507a74b416c5d19d9789a3b7999.c:16899:3: warning: 'tp_print' is deprecated [-Wdeprecated-declarations]\n",
      "  0, /*tp_print*/\n",
      "  ^\n",
      "/Users/davidbuchaca1/opt/anaconda3/include/python3.8/cpython/object.h:260:5: note: 'tp_print' has been explicitly marked deprecated here\n",
      "    Py_DEPRECATED(3.8) int (*tp_print)(PyObject *, FILE *, int);\n",
      "    ^\n",
      "/Users/davidbuchaca1/opt/anaconda3/include/python3.8/pyport.h:515:54: note: expanded from macro 'Py_DEPRECATED'\n",
      "#define Py_DEPRECATED(VERSION_UNUSED) __attribute__((__deprecated__))\n",
      "                                                     ^\n",
      "/Users/davidbuchaca1/.ipython/cython/_cython_magic_8006e507a74b416c5d19d9789a3b7999.c:17018:3: warning: 'tp_print' is deprecated [-Wdeprecated-declarations]\n",
      "  0, /*tp_print*/\n",
      "  ^\n",
      "/Users/davidbuchaca1/opt/anaconda3/include/python3.8/cpython/object.h:260:5: note: 'tp_print' has been explicitly marked deprecated here\n",
      "    Py_DEPRECATED(3.8) int (*tp_print)(PyObject *, FILE *, int);\n",
      "    ^\n",
      "/Users/davidbuchaca1/opt/anaconda3/include/python3.8/pyport.h:515:54: note: expanded from macro 'Py_DEPRECATED'\n",
      "#define Py_DEPRECATED(VERSION_UNUSED) __attribute__((__deprecated__))\n",
      "                                                     ^\n",
      "/Users/davidbuchaca1/.ipython/cython/_cython_magic_8006e507a74b416c5d19d9789a3b7999.c:17279:3: warning: 'tp_print' is deprecated [-Wdeprecated-declarations]\n",
      "  0, /*tp_print*/\n",
      "  ^\n",
      "/Users/davidbuchaca1/opt/anaconda3/include/python3.8/cpython/object.h:260:5: note: 'tp_print' has been explicitly marked deprecated here\n",
      "    Py_DEPRECATED(3.8) int (*tp_print)(PyObject *, FILE *, int);\n",
      "    ^\n",
      "/Users/davidbuchaca1/opt/anaconda3/include/python3.8/pyport.h:515:54: note: expanded from macro 'Py_DEPRECATED'\n",
      "#define Py_DEPRECATED(VERSION_UNUSED) __attribute__((__deprecated__))\n",
      "                                                     ^\n",
      "/Users/davidbuchaca1/.ipython/cython/_cython_magic_8006e507a74b416c5d19d9789a3b7999.c:17425:3: warning: 'tp_print' is deprecated [-Wdeprecated-declarations]\n",
      "  0, /*tp_print*/\n",
      "  ^\n",
      "/Users/davidbuchaca1/opt/anaconda3/include/python3.8/cpython/object.h:260:5: note: 'tp_print' has been explicitly marked deprecated here\n",
      "    Py_DEPRECATED(3.8) int (*tp_print)(PyObject *, FILE *, int);\n",
      "    ^\n",
      "/Users/davidbuchaca1/opt/anaconda3/include/python3.8/pyport.h:515:54: note: expanded from macro 'Py_DEPRECATED'\n",
      "#define Py_DEPRECATED(VERSION_UNUSED) __attribute__((__deprecated__))\n",
      "                                                     ^\n",
      "5 warnings generated.\n"
     ]
    }
   ],
   "source": [
    "%%cython\n",
    "cimport numpy as cnp\n",
    "cimport cython\n",
    "             \n",
    "@cython.boundscheck(False)\n",
    "@cython.wraparound(False)\n",
    "cpdef dist_pqcode_to_codebook(long M,float[:,:] dtable,long[:] pq_code):\n",
    "    cdef float dist = 0\n",
    "    cdef int m\n",
    "    \n",
    "    for m in range(M):\n",
    "        dist += dtable[m, pq_code[m]]\n",
    "\n",
    "    return dist"
   ]
  },
  {
   "cell_type": "code",
   "execution_count": 22,
   "metadata": {
    "ExecuteTime": {
     "end_time": "2021-11-18T17:33:35.086832Z",
     "start_time": "2021-11-18T17:33:35.084818Z"
    }
   },
   "outputs": [],
   "source": [
    "pq_code = pq_codes_batch.flatten()"
   ]
  },
  {
   "cell_type": "code",
   "execution_count": 23,
   "metadata": {
    "ExecuteTime": {
     "end_time": "2021-11-18T17:33:40.620452Z",
     "start_time": "2021-11-18T17:33:36.693627Z"
    }
   },
   "outputs": [
    {
     "name": "stdout",
     "output_type": "stream",
     "text": [
      "483 ns ± 3.6 ns per loop (mean ± std. dev. of 7 runs, 1000000 loops each)\n"
     ]
    }
   ],
   "source": [
    "%timeit dist_pqcode_to_codebook(M, dtable, pq_code)"
   ]
  },
  {
   "cell_type": "markdown",
   "metadata": {},
   "source": [
    "We can make the method work for generic types but this will have a penalty when called from python "
   ]
  },
  {
   "cell_type": "code",
   "execution_count": 39,
   "metadata": {
    "ExecuteTime": {
     "end_time": "2021-11-16T15:04:04.764194Z",
     "start_time": "2021-11-16T15:04:04.760248Z"
    },
    "scrolled": true
   },
   "outputs": [],
   "source": [
    "%%cython\n",
    "cimport numpy as cnp\n",
    "cimport cython\n",
    "from cython cimport integral, floating\n",
    "             \n",
    "@cython.boundscheck(False)\n",
    "@cython.wraparound(False)\n",
    "cpdef floating distances_loop_cy2(integral M,\n",
    "                                  floating[:,:] dtable,\n",
    "                                  integral[:] pq_code):\n",
    "    cdef floating dist = 0\n",
    "    cdef integral m \n",
    "    \n",
    "    for m in range(M):\n",
    "        dist += dtable[m, pq_code[m]]\n",
    "\n",
    "    return dist"
   ]
  },
  {
   "cell_type": "code",
   "execution_count": 36,
   "metadata": {
    "ExecuteTime": {
     "end_time": "2021-11-16T15:03:42.861064Z",
     "start_time": "2021-11-16T15:03:27.926096Z"
    }
   },
   "outputs": [
    {
     "name": "stdout",
     "output_type": "stream",
     "text": [
      "1.84 µs ± 5.78 ns per loop (mean ± std. dev. of 7 runs, 1000000 loops each)\n"
     ]
    }
   ],
   "source": [
    "%timeit distances_loop_cy2(M, dtable, pq_code)"
   ]
  },
  {
   "cell_type": "markdown",
   "metadata": {},
   "source": [
    "##### Batched version of dist_pqcodes_to_codebooks"
   ]
  },
  {
   "cell_type": "code",
   "execution_count": 90,
   "metadata": {
    "ExecuteTime": {
     "end_time": "2021-11-18T17:58:44.499790Z",
     "start_time": "2021-11-18T17:58:44.495981Z"
    }
   },
   "outputs": [],
   "source": [
    "%%cython \n",
    "\n",
    "# distutils: language = c++\n",
    "\n",
    "from libcpp.vector cimport vector\n",
    "\n",
    "cimport numpy as np\n",
    "cimport cython\n",
    "import numpy as np\n",
    "\n",
    "from cpython.array cimport array, clone\n",
    "\n",
    "@cython.boundscheck(False)\n",
    "@cython.wraparound(False)\n",
    "cdef inline float dist_pqcode_to_codebook(long M, float[:,:] dtable,long[:] pq_code):\n",
    "    cdef float dist = 0\n",
    "    cdef int m\n",
    "    \n",
    "    for m in range(M):\n",
    "        dist += dtable[m, pq_code[m]]\n",
    "\n",
    "    return dist\n",
    "\n",
    "@cython.boundscheck(False)\n",
    "@cython.wraparound(False)\n",
    "cpdef dist_pqcodes_to_codebooks(long M, float[:,:] dtable, long[:,:] pq_codes):\n",
    "    cdef:\n",
    "        int m, loops\n",
    "        int N = pq_codes.shape[0] \n",
    "        float[:] dists = np.empty(N, dtype=np.float32)\n",
    "    \n",
    "    for n in range(N):\n",
    "        dists[n] = dist_pqcode_to_codebook(M, dtable, pq_codes[n,:])\n",
    "\n",
    "    return np.array(dists) \n",
    "             "
   ]
  },
  {
   "cell_type": "code",
   "execution_count": 91,
   "metadata": {
    "ExecuteTime": {
     "end_time": "2021-11-18T17:58:45.791800Z",
     "start_time": "2021-11-18T17:58:45.788567Z"
    },
    "scrolled": true
   },
   "outputs": [
    {
     "data": {
      "text/plain": [
       "array([17.402647], dtype=float32)"
      ]
     },
     "execution_count": 91,
     "metadata": {},
     "output_type": "execute_result"
    }
   ],
   "source": [
    "dist_pqcodes_to_codebooks(M, dtable, pq_codes_batch)"
   ]
  },
  {
   "cell_type": "code",
   "execution_count": 92,
   "metadata": {
    "ExecuteTime": {
     "end_time": "2021-11-18T17:58:49.052723Z",
     "start_time": "2021-11-18T17:58:47.161073Z"
    }
   },
   "outputs": [
    {
     "name": "stdout",
     "output_type": "stream",
     "text": [
      "2.33 µs ± 15.6 ns per loop (mean ± std. dev. of 7 runs, 100000 loops each)\n"
     ]
    }
   ],
   "source": [
    "%timeit dist_pqcodes_to_codebooks(M, dtable, pq_codes_batch)"
   ]
  },
  {
   "cell_type": "markdown",
   "metadata": {},
   "source": [
    "Iin the batched problem we have the problem that we have to create a numpy array at runtime to store the distances. oreover we need to slice `pq_codes[n,:]` to call `dist_pqcode_to_codebook`.\n",
    "\n",
    "We can improve this by instead of defining a numpy vector at runtime we can use a C++ vector and append the results."
   ]
  },
  {
   "cell_type": "code",
   "execution_count": 108,
   "metadata": {
    "ExecuteTime": {
     "end_time": "2021-11-18T18:11:47.432468Z",
     "start_time": "2021-11-18T18:11:43.974994Z"
    }
   },
   "outputs": [
    {
     "name": "stderr",
     "output_type": "stream",
     "text": [
      "In file included from /Users/davidbuchaca1/.ipython/cython/_cython_magic_3b75e4a9e53a02e8c58a6c123a0a9526.cpp:703:\n",
      "In file included from /Users/davidbuchaca1/opt/anaconda3/lib/python3.8/site-packages/numpy/core/include/numpy/arrayobject.h:4:\n",
      "In file included from /Users/davidbuchaca1/opt/anaconda3/lib/python3.8/site-packages/numpy/core/include/numpy/ndarrayobject.h:12:\n",
      "In file included from /Users/davidbuchaca1/opt/anaconda3/lib/python3.8/site-packages/numpy/core/include/numpy/ndarraytypes.h:1944:\n",
      "/Users/davidbuchaca1/opt/anaconda3/lib/python3.8/site-packages/numpy/core/include/numpy/npy_1_7_deprecated_api.h:17:2: warning: \"Using deprecated NumPy API, disable it with \"          \"#define NPY_NO_DEPRECATED_API NPY_1_7_API_VERSION\" [-W#warnings]\n",
      "#warning \"Using deprecated NumPy API, disable it with \" \\\n",
      " ^\n",
      "/Users/davidbuchaca1/.ipython/cython/_cython_magic_3b75e4a9e53a02e8c58a6c123a0a9526.cpp:17981:3: warning: 'tp_print' is deprecated [-Wdeprecated-declarations]\n",
      "  0, /*tp_print*/\n",
      "  ^\n",
      "/Users/davidbuchaca1/opt/anaconda3/include/python3.8/cpython/object.h:260:5: note: 'tp_print' has been explicitly marked deprecated here\n",
      "    Py_DEPRECATED(3.8) int (*tp_print)(PyObject *, FILE *, int);\n",
      "    ^\n",
      "/Users/davidbuchaca1/opt/anaconda3/include/python3.8/pyport.h:515:54: note: expanded from macro 'Py_DEPRECATED'\n",
      "#define Py_DEPRECATED(VERSION_UNUSED) __attribute__((__deprecated__))\n",
      "                                                     ^\n",
      "/Users/davidbuchaca1/.ipython/cython/_cython_magic_3b75e4a9e53a02e8c58a6c123a0a9526.cpp:18100:3: warning: 'tp_print' is deprecated [-Wdeprecated-declarations]\n",
      "  0, /*tp_print*/\n",
      "  ^\n",
      "/Users/davidbuchaca1/opt/anaconda3/include/python3.8/cpython/object.h:260:5: note: 'tp_print' has been explicitly marked deprecated here\n",
      "    Py_DEPRECATED(3.8) int (*tp_print)(PyObject *, FILE *, int);\n",
      "    ^\n",
      "/Users/davidbuchaca1/opt/anaconda3/include/python3.8/pyport.h:515:54: note: expanded from macro 'Py_DEPRECATED'\n",
      "#define Py_DEPRECATED(VERSION_UNUSED) __attribute__((__deprecated__))\n",
      "                                                     ^\n",
      "/Users/davidbuchaca1/.ipython/cython/_cython_magic_3b75e4a9e53a02e8c58a6c123a0a9526.cpp:18361:3: warning: 'tp_print' is deprecated [-Wdeprecated-declarations]\n",
      "  0, /*tp_print*/\n",
      "  ^\n",
      "/Users/davidbuchaca1/opt/anaconda3/include/python3.8/cpython/object.h:260:5: note: 'tp_print' has been explicitly marked deprecated here\n",
      "    Py_DEPRECATED(3.8) int (*tp_print)(PyObject *, FILE *, int);\n",
      "    ^\n",
      "/Users/davidbuchaca1/opt/anaconda3/include/python3.8/pyport.h:515:54: note: expanded from macro 'Py_DEPRECATED'\n",
      "#define Py_DEPRECATED(VERSION_UNUSED) __attribute__((__deprecated__))\n",
      "                                                     ^\n",
      "/Users/davidbuchaca1/.ipython/cython/_cython_magic_3b75e4a9e53a02e8c58a6c123a0a9526.cpp:18507:3: warning: 'tp_print' is deprecated [-Wdeprecated-declarations]\n",
      "  0, /*tp_print*/\n",
      "  ^\n",
      "/Users/davidbuchaca1/opt/anaconda3/include/python3.8/cpython/object.h:260:5: note: 'tp_print' has been explicitly marked deprecated here\n",
      "    Py_DEPRECATED(3.8) int (*tp_print)(PyObject *, FILE *, int);\n",
      "    ^\n",
      "/Users/davidbuchaca1/opt/anaconda3/include/python3.8/pyport.h:515:54: note: expanded from macro 'Py_DEPRECATED'\n",
      "#define Py_DEPRECATED(VERSION_UNUSED) __attribute__((__deprecated__))\n",
      "                                                     ^\n",
      "5 warnings generated.\n"
     ]
    },
    {
     "data": {
      "text/html": [
       "<!DOCTYPE html>\n",
       "<!-- Generated by Cython 0.29.24 -->\n",
       "<html>\n",
       "<head>\n",
       "    <meta http-equiv=\"Content-Type\" content=\"text/html; charset=utf-8\" />\n",
       "    <title>Cython: _cython_magic_3b75e4a9e53a02e8c58a6c123a0a9526.pyx</title>\n",
       "    <style type=\"text/css\">\n",
       "    \n",
       "body.cython { font-family: courier; font-size: 12; }\n",
       "\n",
       ".cython.tag  {  }\n",
       ".cython.line { margin: 0em }\n",
       ".cython.code { font-size: 9; color: #444444; display: none; margin: 0px 0px 0px 8px; border-left: 8px none; }\n",
       "\n",
       ".cython.line .run { background-color: #B0FFB0; }\n",
       ".cython.line .mis { background-color: #FFB0B0; }\n",
       ".cython.code.run  { border-left: 8px solid #B0FFB0; }\n",
       ".cython.code.mis  { border-left: 8px solid #FFB0B0; }\n",
       "\n",
       ".cython.code .py_c_api  { color: red; }\n",
       ".cython.code .py_macro_api  { color: #FF7000; }\n",
       ".cython.code .pyx_c_api  { color: #FF3000; }\n",
       ".cython.code .pyx_macro_api  { color: #FF7000; }\n",
       ".cython.code .refnanny  { color: #FFA000; }\n",
       ".cython.code .trace  { color: #FFA000; }\n",
       ".cython.code .error_goto  { color: #FFA000; }\n",
       "\n",
       ".cython.code .coerce  { color: #008000; border: 1px dotted #008000 }\n",
       ".cython.code .py_attr { color: #FF0000; font-weight: bold; }\n",
       ".cython.code .c_attr  { color: #0000FF; }\n",
       ".cython.code .py_call { color: #FF0000; font-weight: bold; }\n",
       ".cython.code .c_call  { color: #0000FF; }\n",
       "\n",
       ".cython.score-0 {background-color: #FFFFff;}\n",
       ".cython.score-1 {background-color: #FFFFe7;}\n",
       ".cython.score-2 {background-color: #FFFFd4;}\n",
       ".cython.score-3 {background-color: #FFFFc4;}\n",
       ".cython.score-4 {background-color: #FFFFb6;}\n",
       ".cython.score-5 {background-color: #FFFFaa;}\n",
       ".cython.score-6 {background-color: #FFFF9f;}\n",
       ".cython.score-7 {background-color: #FFFF96;}\n",
       ".cython.score-8 {background-color: #FFFF8d;}\n",
       ".cython.score-9 {background-color: #FFFF86;}\n",
       ".cython.score-10 {background-color: #FFFF7f;}\n",
       ".cython.score-11 {background-color: #FFFF79;}\n",
       ".cython.score-12 {background-color: #FFFF73;}\n",
       ".cython.score-13 {background-color: #FFFF6e;}\n",
       ".cython.score-14 {background-color: #FFFF6a;}\n",
       ".cython.score-15 {background-color: #FFFF66;}\n",
       ".cython.score-16 {background-color: #FFFF62;}\n",
       ".cython.score-17 {background-color: #FFFF5e;}\n",
       ".cython.score-18 {background-color: #FFFF5b;}\n",
       ".cython.score-19 {background-color: #FFFF57;}\n",
       ".cython.score-20 {background-color: #FFFF55;}\n",
       ".cython.score-21 {background-color: #FFFF52;}\n",
       ".cython.score-22 {background-color: #FFFF4f;}\n",
       ".cython.score-23 {background-color: #FFFF4d;}\n",
       ".cython.score-24 {background-color: #FFFF4b;}\n",
       ".cython.score-25 {background-color: #FFFF48;}\n",
       ".cython.score-26 {background-color: #FFFF46;}\n",
       ".cython.score-27 {background-color: #FFFF44;}\n",
       ".cython.score-28 {background-color: #FFFF43;}\n",
       ".cython.score-29 {background-color: #FFFF41;}\n",
       ".cython.score-30 {background-color: #FFFF3f;}\n",
       ".cython.score-31 {background-color: #FFFF3e;}\n",
       ".cython.score-32 {background-color: #FFFF3c;}\n",
       ".cython.score-33 {background-color: #FFFF3b;}\n",
       ".cython.score-34 {background-color: #FFFF39;}\n",
       ".cython.score-35 {background-color: #FFFF38;}\n",
       ".cython.score-36 {background-color: #FFFF37;}\n",
       ".cython.score-37 {background-color: #FFFF36;}\n",
       ".cython.score-38 {background-color: #FFFF35;}\n",
       ".cython.score-39 {background-color: #FFFF34;}\n",
       ".cython.score-40 {background-color: #FFFF33;}\n",
       ".cython.score-41 {background-color: #FFFF32;}\n",
       ".cython.score-42 {background-color: #FFFF31;}\n",
       ".cython.score-43 {background-color: #FFFF30;}\n",
       ".cython.score-44 {background-color: #FFFF2f;}\n",
       ".cython.score-45 {background-color: #FFFF2e;}\n",
       ".cython.score-46 {background-color: #FFFF2d;}\n",
       ".cython.score-47 {background-color: #FFFF2c;}\n",
       ".cython.score-48 {background-color: #FFFF2b;}\n",
       ".cython.score-49 {background-color: #FFFF2b;}\n",
       ".cython.score-50 {background-color: #FFFF2a;}\n",
       ".cython.score-51 {background-color: #FFFF29;}\n",
       ".cython.score-52 {background-color: #FFFF29;}\n",
       ".cython.score-53 {background-color: #FFFF28;}\n",
       ".cython.score-54 {background-color: #FFFF27;}\n",
       ".cython.score-55 {background-color: #FFFF27;}\n",
       ".cython.score-56 {background-color: #FFFF26;}\n",
       ".cython.score-57 {background-color: #FFFF26;}\n",
       ".cython.score-58 {background-color: #FFFF25;}\n",
       ".cython.score-59 {background-color: #FFFF24;}\n",
       ".cython.score-60 {background-color: #FFFF24;}\n",
       ".cython.score-61 {background-color: #FFFF23;}\n",
       ".cython.score-62 {background-color: #FFFF23;}\n",
       ".cython.score-63 {background-color: #FFFF22;}\n",
       ".cython.score-64 {background-color: #FFFF22;}\n",
       ".cython.score-65 {background-color: #FFFF22;}\n",
       ".cython.score-66 {background-color: #FFFF21;}\n",
       ".cython.score-67 {background-color: #FFFF21;}\n",
       ".cython.score-68 {background-color: #FFFF20;}\n",
       ".cython.score-69 {background-color: #FFFF20;}\n",
       ".cython.score-70 {background-color: #FFFF1f;}\n",
       ".cython.score-71 {background-color: #FFFF1f;}\n",
       ".cython.score-72 {background-color: #FFFF1f;}\n",
       ".cython.score-73 {background-color: #FFFF1e;}\n",
       ".cython.score-74 {background-color: #FFFF1e;}\n",
       ".cython.score-75 {background-color: #FFFF1e;}\n",
       ".cython.score-76 {background-color: #FFFF1d;}\n",
       ".cython.score-77 {background-color: #FFFF1d;}\n",
       ".cython.score-78 {background-color: #FFFF1c;}\n",
       ".cython.score-79 {background-color: #FFFF1c;}\n",
       ".cython.score-80 {background-color: #FFFF1c;}\n",
       ".cython.score-81 {background-color: #FFFF1c;}\n",
       ".cython.score-82 {background-color: #FFFF1b;}\n",
       ".cython.score-83 {background-color: #FFFF1b;}\n",
       ".cython.score-84 {background-color: #FFFF1b;}\n",
       ".cython.score-85 {background-color: #FFFF1a;}\n",
       ".cython.score-86 {background-color: #FFFF1a;}\n",
       ".cython.score-87 {background-color: #FFFF1a;}\n",
       ".cython.score-88 {background-color: #FFFF1a;}\n",
       ".cython.score-89 {background-color: #FFFF19;}\n",
       ".cython.score-90 {background-color: #FFFF19;}\n",
       ".cython.score-91 {background-color: #FFFF19;}\n",
       ".cython.score-92 {background-color: #FFFF19;}\n",
       ".cython.score-93 {background-color: #FFFF18;}\n",
       ".cython.score-94 {background-color: #FFFF18;}\n",
       ".cython.score-95 {background-color: #FFFF18;}\n",
       ".cython.score-96 {background-color: #FFFF18;}\n",
       ".cython.score-97 {background-color: #FFFF17;}\n",
       ".cython.score-98 {background-color: #FFFF17;}\n",
       ".cython.score-99 {background-color: #FFFF17;}\n",
       ".cython.score-100 {background-color: #FFFF17;}\n",
       ".cython.score-101 {background-color: #FFFF16;}\n",
       ".cython.score-102 {background-color: #FFFF16;}\n",
       ".cython.score-103 {background-color: #FFFF16;}\n",
       ".cython.score-104 {background-color: #FFFF16;}\n",
       ".cython.score-105 {background-color: #FFFF16;}\n",
       ".cython.score-106 {background-color: #FFFF15;}\n",
       ".cython.score-107 {background-color: #FFFF15;}\n",
       ".cython.score-108 {background-color: #FFFF15;}\n",
       ".cython.score-109 {background-color: #FFFF15;}\n",
       ".cython.score-110 {background-color: #FFFF15;}\n",
       ".cython.score-111 {background-color: #FFFF15;}\n",
       ".cython.score-112 {background-color: #FFFF14;}\n",
       ".cython.score-113 {background-color: #FFFF14;}\n",
       ".cython.score-114 {background-color: #FFFF14;}\n",
       ".cython.score-115 {background-color: #FFFF14;}\n",
       ".cython.score-116 {background-color: #FFFF14;}\n",
       ".cython.score-117 {background-color: #FFFF14;}\n",
       ".cython.score-118 {background-color: #FFFF13;}\n",
       ".cython.score-119 {background-color: #FFFF13;}\n",
       ".cython.score-120 {background-color: #FFFF13;}\n",
       ".cython.score-121 {background-color: #FFFF13;}\n",
       ".cython.score-122 {background-color: #FFFF13;}\n",
       ".cython.score-123 {background-color: #FFFF13;}\n",
       ".cython.score-124 {background-color: #FFFF13;}\n",
       ".cython.score-125 {background-color: #FFFF12;}\n",
       ".cython.score-126 {background-color: #FFFF12;}\n",
       ".cython.score-127 {background-color: #FFFF12;}\n",
       ".cython.score-128 {background-color: #FFFF12;}\n",
       ".cython.score-129 {background-color: #FFFF12;}\n",
       ".cython.score-130 {background-color: #FFFF12;}\n",
       ".cython.score-131 {background-color: #FFFF12;}\n",
       ".cython.score-132 {background-color: #FFFF11;}\n",
       ".cython.score-133 {background-color: #FFFF11;}\n",
       ".cython.score-134 {background-color: #FFFF11;}\n",
       ".cython.score-135 {background-color: #FFFF11;}\n",
       ".cython.score-136 {background-color: #FFFF11;}\n",
       ".cython.score-137 {background-color: #FFFF11;}\n",
       ".cython.score-138 {background-color: #FFFF11;}\n",
       ".cython.score-139 {background-color: #FFFF11;}\n",
       ".cython.score-140 {background-color: #FFFF11;}\n",
       ".cython.score-141 {background-color: #FFFF10;}\n",
       ".cython.score-142 {background-color: #FFFF10;}\n",
       ".cython.score-143 {background-color: #FFFF10;}\n",
       ".cython.score-144 {background-color: #FFFF10;}\n",
       ".cython.score-145 {background-color: #FFFF10;}\n",
       ".cython.score-146 {background-color: #FFFF10;}\n",
       ".cython.score-147 {background-color: #FFFF10;}\n",
       ".cython.score-148 {background-color: #FFFF10;}\n",
       ".cython.score-149 {background-color: #FFFF10;}\n",
       ".cython.score-150 {background-color: #FFFF0f;}\n",
       ".cython.score-151 {background-color: #FFFF0f;}\n",
       ".cython.score-152 {background-color: #FFFF0f;}\n",
       ".cython.score-153 {background-color: #FFFF0f;}\n",
       ".cython.score-154 {background-color: #FFFF0f;}\n",
       ".cython.score-155 {background-color: #FFFF0f;}\n",
       ".cython.score-156 {background-color: #FFFF0f;}\n",
       ".cython.score-157 {background-color: #FFFF0f;}\n",
       ".cython.score-158 {background-color: #FFFF0f;}\n",
       ".cython.score-159 {background-color: #FFFF0f;}\n",
       ".cython.score-160 {background-color: #FFFF0f;}\n",
       ".cython.score-161 {background-color: #FFFF0e;}\n",
       ".cython.score-162 {background-color: #FFFF0e;}\n",
       ".cython.score-163 {background-color: #FFFF0e;}\n",
       ".cython.score-164 {background-color: #FFFF0e;}\n",
       ".cython.score-165 {background-color: #FFFF0e;}\n",
       ".cython.score-166 {background-color: #FFFF0e;}\n",
       ".cython.score-167 {background-color: #FFFF0e;}\n",
       ".cython.score-168 {background-color: #FFFF0e;}\n",
       ".cython.score-169 {background-color: #FFFF0e;}\n",
       ".cython.score-170 {background-color: #FFFF0e;}\n",
       ".cython.score-171 {background-color: #FFFF0e;}\n",
       ".cython.score-172 {background-color: #FFFF0e;}\n",
       ".cython.score-173 {background-color: #FFFF0d;}\n",
       ".cython.score-174 {background-color: #FFFF0d;}\n",
       ".cython.score-175 {background-color: #FFFF0d;}\n",
       ".cython.score-176 {background-color: #FFFF0d;}\n",
       ".cython.score-177 {background-color: #FFFF0d;}\n",
       ".cython.score-178 {background-color: #FFFF0d;}\n",
       ".cython.score-179 {background-color: #FFFF0d;}\n",
       ".cython.score-180 {background-color: #FFFF0d;}\n",
       ".cython.score-181 {background-color: #FFFF0d;}\n",
       ".cython.score-182 {background-color: #FFFF0d;}\n",
       ".cython.score-183 {background-color: #FFFF0d;}\n",
       ".cython.score-184 {background-color: #FFFF0d;}\n",
       ".cython.score-185 {background-color: #FFFF0d;}\n",
       ".cython.score-186 {background-color: #FFFF0d;}\n",
       ".cython.score-187 {background-color: #FFFF0c;}\n",
       ".cython.score-188 {background-color: #FFFF0c;}\n",
       ".cython.score-189 {background-color: #FFFF0c;}\n",
       ".cython.score-190 {background-color: #FFFF0c;}\n",
       ".cython.score-191 {background-color: #FFFF0c;}\n",
       ".cython.score-192 {background-color: #FFFF0c;}\n",
       ".cython.score-193 {background-color: #FFFF0c;}\n",
       ".cython.score-194 {background-color: #FFFF0c;}\n",
       ".cython.score-195 {background-color: #FFFF0c;}\n",
       ".cython.score-196 {background-color: #FFFF0c;}\n",
       ".cython.score-197 {background-color: #FFFF0c;}\n",
       ".cython.score-198 {background-color: #FFFF0c;}\n",
       ".cython.score-199 {background-color: #FFFF0c;}\n",
       ".cython.score-200 {background-color: #FFFF0c;}\n",
       ".cython.score-201 {background-color: #FFFF0c;}\n",
       ".cython.score-202 {background-color: #FFFF0c;}\n",
       ".cython.score-203 {background-color: #FFFF0b;}\n",
       ".cython.score-204 {background-color: #FFFF0b;}\n",
       ".cython.score-205 {background-color: #FFFF0b;}\n",
       ".cython.score-206 {background-color: #FFFF0b;}\n",
       ".cython.score-207 {background-color: #FFFF0b;}\n",
       ".cython.score-208 {background-color: #FFFF0b;}\n",
       ".cython.score-209 {background-color: #FFFF0b;}\n",
       ".cython.score-210 {background-color: #FFFF0b;}\n",
       ".cython.score-211 {background-color: #FFFF0b;}\n",
       ".cython.score-212 {background-color: #FFFF0b;}\n",
       ".cython.score-213 {background-color: #FFFF0b;}\n",
       ".cython.score-214 {background-color: #FFFF0b;}\n",
       ".cython.score-215 {background-color: #FFFF0b;}\n",
       ".cython.score-216 {background-color: #FFFF0b;}\n",
       ".cython.score-217 {background-color: #FFFF0b;}\n",
       ".cython.score-218 {background-color: #FFFF0b;}\n",
       ".cython.score-219 {background-color: #FFFF0b;}\n",
       ".cython.score-220 {background-color: #FFFF0b;}\n",
       ".cython.score-221 {background-color: #FFFF0b;}\n",
       ".cython.score-222 {background-color: #FFFF0a;}\n",
       ".cython.score-223 {background-color: #FFFF0a;}\n",
       ".cython.score-224 {background-color: #FFFF0a;}\n",
       ".cython.score-225 {background-color: #FFFF0a;}\n",
       ".cython.score-226 {background-color: #FFFF0a;}\n",
       ".cython.score-227 {background-color: #FFFF0a;}\n",
       ".cython.score-228 {background-color: #FFFF0a;}\n",
       ".cython.score-229 {background-color: #FFFF0a;}\n",
       ".cython.score-230 {background-color: #FFFF0a;}\n",
       ".cython.score-231 {background-color: #FFFF0a;}\n",
       ".cython.score-232 {background-color: #FFFF0a;}\n",
       ".cython.score-233 {background-color: #FFFF0a;}\n",
       ".cython.score-234 {background-color: #FFFF0a;}\n",
       ".cython.score-235 {background-color: #FFFF0a;}\n",
       ".cython.score-236 {background-color: #FFFF0a;}\n",
       ".cython.score-237 {background-color: #FFFF0a;}\n",
       ".cython.score-238 {background-color: #FFFF0a;}\n",
       ".cython.score-239 {background-color: #FFFF0a;}\n",
       ".cython.score-240 {background-color: #FFFF0a;}\n",
       ".cython.score-241 {background-color: #FFFF0a;}\n",
       ".cython.score-242 {background-color: #FFFF0a;}\n",
       ".cython.score-243 {background-color: #FFFF0a;}\n",
       ".cython.score-244 {background-color: #FFFF0a;}\n",
       ".cython.score-245 {background-color: #FFFF0a;}\n",
       ".cython.score-246 {background-color: #FFFF09;}\n",
       ".cython.score-247 {background-color: #FFFF09;}\n",
       ".cython.score-248 {background-color: #FFFF09;}\n",
       ".cython.score-249 {background-color: #FFFF09;}\n",
       ".cython.score-250 {background-color: #FFFF09;}\n",
       ".cython.score-251 {background-color: #FFFF09;}\n",
       ".cython.score-252 {background-color: #FFFF09;}\n",
       ".cython.score-253 {background-color: #FFFF09;}\n",
       ".cython.score-254 {background-color: #FFFF09;}\n",
       "pre { line-height: 125%; margin: 0; }\n",
       "td.linenos pre { color: #000000; background-color: #f0f0f0; padding-left: 5px; padding-right: 5px; }\n",
       "span.linenos { color: #000000; background-color: #f0f0f0; padding-left: 5px; padding-right: 5px; }\n",
       "td.linenos pre.special { color: #000000; background-color: #ffffc0; padding-left: 5px; padding-right: 5px; }\n",
       "span.linenos.special { color: #000000; background-color: #ffffc0; padding-left: 5px; padding-right: 5px; }\n",
       ".cython .hll { background-color: #ffffcc }\n",
       ".cython { background: #f8f8f8; }\n",
       ".cython .c { color: #408080; font-style: italic } /* Comment */\n",
       ".cython .err { border: 1px solid #FF0000 } /* Error */\n",
       ".cython .k { color: #008000; font-weight: bold } /* Keyword */\n",
       ".cython .o { color: #666666 } /* Operator */\n",
       ".cython .ch { color: #408080; font-style: italic } /* Comment.Hashbang */\n",
       ".cython .cm { color: #408080; font-style: italic } /* Comment.Multiline */\n",
       ".cython .cp { color: #BC7A00 } /* Comment.Preproc */\n",
       ".cython .cpf { color: #408080; font-style: italic } /* Comment.PreprocFile */\n",
       ".cython .c1 { color: #408080; font-style: italic } /* Comment.Single */\n",
       ".cython .cs { color: #408080; font-style: italic } /* Comment.Special */\n",
       ".cython .gd { color: #A00000 } /* Generic.Deleted */\n",
       ".cython .ge { font-style: italic } /* Generic.Emph */\n",
       ".cython .gr { color: #FF0000 } /* Generic.Error */\n",
       ".cython .gh { color: #000080; font-weight: bold } /* Generic.Heading */\n",
       ".cython .gi { color: #00A000 } /* Generic.Inserted */\n",
       ".cython .go { color: #888888 } /* Generic.Output */\n",
       ".cython .gp { color: #000080; font-weight: bold } /* Generic.Prompt */\n",
       ".cython .gs { font-weight: bold } /* Generic.Strong */\n",
       ".cython .gu { color: #800080; font-weight: bold } /* Generic.Subheading */\n",
       ".cython .gt { color: #0044DD } /* Generic.Traceback */\n",
       ".cython .kc { color: #008000; font-weight: bold } /* Keyword.Constant */\n",
       ".cython .kd { color: #008000; font-weight: bold } /* Keyword.Declaration */\n",
       ".cython .kn { color: #008000; font-weight: bold } /* Keyword.Namespace */\n",
       ".cython .kp { color: #008000 } /* Keyword.Pseudo */\n",
       ".cython .kr { color: #008000; font-weight: bold } /* Keyword.Reserved */\n",
       ".cython .kt { color: #B00040 } /* Keyword.Type */\n",
       ".cython .m { color: #666666 } /* Literal.Number */\n",
       ".cython .s { color: #BA2121 } /* Literal.String */\n",
       ".cython .na { color: #7D9029 } /* Name.Attribute */\n",
       ".cython .nb { color: #008000 } /* Name.Builtin */\n",
       ".cython .nc { color: #0000FF; font-weight: bold } /* Name.Class */\n",
       ".cython .no { color: #880000 } /* Name.Constant */\n",
       ".cython .nd { color: #AA22FF } /* Name.Decorator */\n",
       ".cython .ni { color: #999999; font-weight: bold } /* Name.Entity */\n",
       ".cython .ne { color: #D2413A; font-weight: bold } /* Name.Exception */\n",
       ".cython .nf { color: #0000FF } /* Name.Function */\n",
       ".cython .nl { color: #A0A000 } /* Name.Label */\n",
       ".cython .nn { color: #0000FF; font-weight: bold } /* Name.Namespace */\n",
       ".cython .nt { color: #008000; font-weight: bold } /* Name.Tag */\n",
       ".cython .nv { color: #19177C } /* Name.Variable */\n",
       ".cython .ow { color: #AA22FF; font-weight: bold } /* Operator.Word */\n",
       ".cython .w { color: #bbbbbb } /* Text.Whitespace */\n",
       ".cython .mb { color: #666666 } /* Literal.Number.Bin */\n",
       ".cython .mf { color: #666666 } /* Literal.Number.Float */\n",
       ".cython .mh { color: #666666 } /* Literal.Number.Hex */\n",
       ".cython .mi { color: #666666 } /* Literal.Number.Integer */\n",
       ".cython .mo { color: #666666 } /* Literal.Number.Oct */\n",
       ".cython .sa { color: #BA2121 } /* Literal.String.Affix */\n",
       ".cython .sb { color: #BA2121 } /* Literal.String.Backtick */\n",
       ".cython .sc { color: #BA2121 } /* Literal.String.Char */\n",
       ".cython .dl { color: #BA2121 } /* Literal.String.Delimiter */\n",
       ".cython .sd { color: #BA2121; font-style: italic } /* Literal.String.Doc */\n",
       ".cython .s2 { color: #BA2121 } /* Literal.String.Double */\n",
       ".cython .se { color: #BB6622; font-weight: bold } /* Literal.String.Escape */\n",
       ".cython .sh { color: #BA2121 } /* Literal.String.Heredoc */\n",
       ".cython .si { color: #BB6688; font-weight: bold } /* Literal.String.Interpol */\n",
       ".cython .sx { color: #008000 } /* Literal.String.Other */\n",
       ".cython .sr { color: #BB6688 } /* Literal.String.Regex */\n",
       ".cython .s1 { color: #BA2121 } /* Literal.String.Single */\n",
       ".cython .ss { color: #19177C } /* Literal.String.Symbol */\n",
       ".cython .bp { color: #008000 } /* Name.Builtin.Pseudo */\n",
       ".cython .fm { color: #0000FF } /* Name.Function.Magic */\n",
       ".cython .vc { color: #19177C } /* Name.Variable.Class */\n",
       ".cython .vg { color: #19177C } /* Name.Variable.Global */\n",
       ".cython .vi { color: #19177C } /* Name.Variable.Instance */\n",
       ".cython .vm { color: #19177C } /* Name.Variable.Magic */\n",
       ".cython .il { color: #666666 } /* Literal.Number.Integer.Long */\n",
       "    </style>\n",
       "</head>\n",
       "<body class=\"cython\">\n",
       "<p><span style=\"border-bottom: solid 1px grey;\">Generated by Cython 0.29.24</span></p>\n",
       "<p>\n",
       "    <span style=\"background-color: #FFFF00\">Yellow lines</span> hint at Python interaction.<br />\n",
       "    Click on a line that starts with a \"<code>+</code>\" to see the C code that Cython generated for it.\n",
       "</p>\n",
       "<div class=\"cython\"><pre class=\"cython line score-0\">&#xA0;<span class=\"\">01</span>: </pre>\n",
       "<pre class=\"cython line score-8\" onclick=\"(function(s){s.display=s.display==='block'?'none':'block'})(this.nextElementSibling.style)\">+<span class=\"\">02</span>: <span class=\"c\"># distutils: language = c++</span></pre>\n",
       "<pre class='cython code score-8 '>  __pyx_t_1 = <span class='pyx_c_api'>__Pyx_PyDict_NewPresized</span>(0);<span class='error_goto'> if (unlikely(!__pyx_t_1)) __PYX_ERR(0, 2, __pyx_L1_error)</span>\n",
       "  <span class='refnanny'>__Pyx_GOTREF</span>(__pyx_t_1);\n",
       "  if (<span class='py_c_api'>PyDict_SetItem</span>(__pyx_d, __pyx_n_s_test, __pyx_t_1) &lt; 0) <span class='error_goto'>__PYX_ERR(0, 2, __pyx_L1_error)</span>\n",
       "  <span class='pyx_macro_api'>__Pyx_DECREF</span>(__pyx_t_1); __pyx_t_1 = 0;\n",
       "</pre><pre class=\"cython line score-0\">&#xA0;<span class=\"\">03</span>: </pre>\n",
       "<pre class=\"cython line score-0\">&#xA0;<span class=\"\">04</span>: <span class=\"k\">from</span> <span class=\"nn\">libcpp.vector</span> <span class=\"k\">cimport</span> <span class=\"n\">vector</span></pre>\n",
       "<pre class=\"cython line score-0\">&#xA0;<span class=\"\">05</span>: </pre>\n",
       "<pre class=\"cython line score-0\">&#xA0;<span class=\"\">06</span>: <span class=\"k\">cimport</span> <span class=\"nn\">numpy</span> <span class=\"k\">as</span> <span class=\"nn\">np</span></pre>\n",
       "<pre class=\"cython line score-0\">&#xA0;<span class=\"\">07</span>: <span class=\"k\">cimport</span> <span class=\"nn\">cython</span></pre>\n",
       "<pre class=\"cython line score-8\" onclick=\"(function(s){s.display=s.display==='block'?'none':'block'})(this.nextElementSibling.style)\">+<span class=\"\">08</span>: <span class=\"k\">import</span> <span class=\"nn\">numpy</span> <span class=\"k\">as</span> <span class=\"nn\">np</span></pre>\n",
       "<pre class='cython code score-8 '>  __pyx_t_1 = <span class='pyx_c_api'>__Pyx_Import</span>(__pyx_n_s_numpy, 0, 0);<span class='error_goto'> if (unlikely(!__pyx_t_1)) __PYX_ERR(0, 8, __pyx_L1_error)</span>\n",
       "  <span class='refnanny'>__Pyx_GOTREF</span>(__pyx_t_1);\n",
       "  if (<span class='py_c_api'>PyDict_SetItem</span>(__pyx_d, __pyx_n_s_np, __pyx_t_1) &lt; 0) <span class='error_goto'>__PYX_ERR(0, 8, __pyx_L1_error)</span>\n",
       "  <span class='pyx_macro_api'>__Pyx_DECREF</span>(__pyx_t_1); __pyx_t_1 = 0;\n",
       "</pre><pre class=\"cython line score-0\">&#xA0;<span class=\"\">09</span>: </pre>\n",
       "<pre class=\"cython line score-0\">&#xA0;<span class=\"\">10</span>: <span class=\"k\">from</span> <span class=\"nn\">cpython.array</span> <span class=\"k\">cimport</span> <span class=\"n\">array</span><span class=\"p\">,</span> <span class=\"n\">clone</span></pre>\n",
       "<pre class=\"cython line score-0\">&#xA0;<span class=\"\">11</span>: </pre>\n",
       "<pre class=\"cython line score-0\">&#xA0;<span class=\"\">12</span>: <span class=\"nd\">@cython</span><span class=\"o\">.</span><span class=\"n\">boundscheck</span><span class=\"p\">(</span><span class=\"bp\">False</span><span class=\"p\">)</span></pre>\n",
       "<pre class=\"cython line score-0\">&#xA0;<span class=\"\">13</span>: <span class=\"nd\">@cython</span><span class=\"o\">.</span><span class=\"n\">wraparound</span><span class=\"p\">(</span><span class=\"bp\">False</span><span class=\"p\">)</span></pre>\n",
       "<pre class=\"cython line score-0\" onclick=\"(function(s){s.display=s.display==='block'?'none':'block'})(this.nextElementSibling.style)\">+<span class=\"\">14</span>: <span class=\"k\">cdef</span> <span class=\"kr\">inline</span> <span class=\"kt\">float</span> <span class=\"nf\">dist_pqcode_to_codebook</span><span class=\"p\">(</span><span class=\"nb\">long</span> <span class=\"n\">M</span><span class=\"p\">,</span> <span class=\"nb\">float</span><span class=\"p\">[:,:]</span> <span class=\"n\">dtable</span><span class=\"p\">,</span><span class=\"nb\">long</span><span class=\"p\">[:]</span> <span class=\"n\">pq_code</span><span class=\"p\">):</span></pre>\n",
       "<pre class='cython code score-0 '>static CYTHON_INLINE float __pyx_f_46_cython_magic_3b75e4a9e53a02e8c58a6c123a0a9526_dist_pqcode_to_codebook(long __pyx_v_M, __Pyx_memviewslice __pyx_v_dtable, __Pyx_memviewslice __pyx_v_pq_code) {\n",
       "  float __pyx_v_dist;\n",
       "  int __pyx_v_m;\n",
       "  float __pyx_r;\n",
       "  <span class='refnanny'>__Pyx_RefNannyDeclarations</span>\n",
       "  <span class='refnanny'>__Pyx_RefNannySetupContext</span>(\"dist_pqcode_to_codebook\", 0);\n",
       "/* … */\n",
       "  /* function exit code */\n",
       "  __pyx_L0:;\n",
       "  <span class='refnanny'>__Pyx_RefNannyFinishContext</span>();\n",
       "  return __pyx_r;\n",
       "}\n",
       "</pre><pre class=\"cython line score-0\" onclick=\"(function(s){s.display=s.display==='block'?'none':'block'})(this.nextElementSibling.style)\">+<span class=\"\">15</span>:     <span class=\"k\">cdef</span> <span class=\"kt\">float</span> <span class=\"nf\">dist</span> <span class=\"o\">=</span> <span class=\"mf\">0</span></pre>\n",
       "<pre class='cython code score-0 '>  __pyx_v_dist = 0.0;\n",
       "</pre><pre class=\"cython line score-0\">&#xA0;<span class=\"\">16</span>:     <span class=\"k\">cdef</span> <span class=\"kt\">int</span> <span class=\"nf\">m</span></pre>\n",
       "<pre class=\"cython line score-0\">&#xA0;<span class=\"\">17</span>: </pre>\n",
       "<pre class=\"cython line score-0\" onclick=\"(function(s){s.display=s.display==='block'?'none':'block'})(this.nextElementSibling.style)\">+<span class=\"\">18</span>:     <span class=\"k\">for</span> <span class=\"n\">m</span> <span class=\"ow\">in</span> <span class=\"nb\">range</span><span class=\"p\">(</span><span class=\"n\">M</span><span class=\"p\">):</span></pre>\n",
       "<pre class='cython code score-0 '>  __pyx_t_1 = __pyx_v_M;\n",
       "  __pyx_t_2 = __pyx_t_1;\n",
       "  for (__pyx_t_3 = 0; __pyx_t_3 &lt; __pyx_t_2; __pyx_t_3+=1) {\n",
       "    __pyx_v_m = __pyx_t_3;\n",
       "</pre><pre class=\"cython line score-0\" onclick=\"(function(s){s.display=s.display==='block'?'none':'block'})(this.nextElementSibling.style)\">+<span class=\"\">19</span>:         <span class=\"n\">dist</span> <span class=\"o\">+=</span> <span class=\"n\">dtable</span><span class=\"p\">[</span><span class=\"n\">m</span><span class=\"p\">,</span> <span class=\"n\">pq_code</span><span class=\"p\">[</span><span class=\"n\">m</span><span class=\"p\">]]</span></pre>\n",
       "<pre class='cython code score-0 '>    __pyx_t_4 = __pyx_v_m;\n",
       "    __pyx_t_5 = __pyx_v_m;\n",
       "    __pyx_t_6 = (*((long *) ( /* dim=0 */ (__pyx_v_pq_code.data + __pyx_t_4 * __pyx_v_pq_code.strides[0]) )));\n",
       "    __pyx_v_dist = (__pyx_v_dist + (*((float *) ( /* dim=1 */ (( /* dim=0 */ (__pyx_v_dtable.data + __pyx_t_5 * __pyx_v_dtable.strides[0]) ) + __pyx_t_6 * __pyx_v_dtable.strides[1]) ))));\n",
       "  }\n",
       "</pre><pre class=\"cython line score-0\">&#xA0;<span class=\"\">20</span>: </pre>\n",
       "<pre class=\"cython line score-0\" onclick=\"(function(s){s.display=s.display==='block'?'none':'block'})(this.nextElementSibling.style)\">+<span class=\"\">21</span>:     <span class=\"k\">return</span> <span class=\"n\">dist</span></pre>\n",
       "<pre class='cython code score-0 '>  __pyx_r = __pyx_v_dist;\n",
       "  goto __pyx_L0;\n",
       "</pre><pre class=\"cython line score-0\">&#xA0;<span class=\"\">22</span>: </pre>\n",
       "<pre class=\"cython line score-0\">&#xA0;<span class=\"\">23</span>: <span class=\"nd\">@cython</span><span class=\"o\">.</span><span class=\"n\">boundscheck</span><span class=\"p\">(</span><span class=\"bp\">False</span><span class=\"p\">)</span></pre>\n",
       "<pre class=\"cython line score-0\">&#xA0;<span class=\"\">24</span>: <span class=\"nd\">@cython</span><span class=\"o\">.</span><span class=\"n\">wraparound</span><span class=\"p\">(</span><span class=\"bp\">False</span><span class=\"p\">)</span></pre>\n",
       "<pre class=\"cython line score-55\" onclick=\"(function(s){s.display=s.display==='block'?'none':'block'})(this.nextElementSibling.style)\">+<span class=\"\">25</span>: <span class=\"k\">cpdef</span> <span class=\"nf\">dist_pqcodes_to_codebooks</span><span class=\"p\">(</span><span class=\"nb\">long</span> <span class=\"n\">M</span><span class=\"p\">,</span> <span class=\"nb\">float</span><span class=\"p\">[:,:]</span> <span class=\"n\">dtable</span><span class=\"p\">,</span> <span class=\"nb\">long</span><span class=\"p\">[:,:]</span> <span class=\"n\">pq_codes</span><span class=\"p\">):</span></pre>\n",
       "<pre class='cython code score-55 '>static PyObject *__pyx_pw_46_cython_magic_3b75e4a9e53a02e8c58a6c123a0a9526_1dist_pqcodes_to_codebooks(PyObject *__pyx_self, PyObject *__pyx_args, PyObject *__pyx_kwds); /*proto*/\n",
       "static PyObject *__pyx_f_46_cython_magic_3b75e4a9e53a02e8c58a6c123a0a9526_dist_pqcodes_to_codebooks(long __pyx_v_M, __Pyx_memviewslice __pyx_v_dtable, __Pyx_memviewslice __pyx_v_pq_codes, CYTHON_UNUSED int __pyx_skip_dispatch) {\n",
       "  int __pyx_v_N;\n",
       "  std::vector&lt;float&gt;  __pyx_v_dists;\n",
       "  int __pyx_v_n;\n",
       "  PyObject *__pyx_r = NULL;\n",
       "  <span class='refnanny'>__Pyx_RefNannyDeclarations</span>\n",
       "  <span class='refnanny'>__Pyx_RefNannySetupContext</span>(\"dist_pqcodes_to_codebooks\", 0);\n",
       "/* … */\n",
       "  /* function exit code */\n",
       "  __pyx_L1_error:;\n",
       "  __PYX_XDEC_MEMVIEW(&amp;__pyx_t_4, 1);\n",
       "  <span class='pyx_macro_api'>__Pyx_XDECREF</span>(__pyx_t_5);\n",
       "  <span class='pyx_macro_api'>__Pyx_XDECREF</span>(__pyx_t_6);\n",
       "  <span class='pyx_macro_api'>__Pyx_XDECREF</span>(__pyx_t_7);\n",
       "  <span class='pyx_macro_api'>__Pyx_XDECREF</span>(__pyx_t_8);\n",
       "  <span class='pyx_c_api'>__Pyx_AddTraceback</span>(\"_cython_magic_3b75e4a9e53a02e8c58a6c123a0a9526.dist_pqcodes_to_codebooks\", __pyx_clineno, __pyx_lineno, __pyx_filename);\n",
       "  __pyx_r = 0;\n",
       "  __pyx_L0:;\n",
       "  <span class='refnanny'>__Pyx_XGIVEREF</span>(__pyx_r);\n",
       "  <span class='refnanny'>__Pyx_RefNannyFinishContext</span>();\n",
       "  return __pyx_r;\n",
       "}\n",
       "\n",
       "/* Python wrapper */\n",
       "static PyObject *__pyx_pw_46_cython_magic_3b75e4a9e53a02e8c58a6c123a0a9526_1dist_pqcodes_to_codebooks(PyObject *__pyx_self, PyObject *__pyx_args, PyObject *__pyx_kwds); /*proto*/\n",
       "static PyObject *__pyx_pw_46_cython_magic_3b75e4a9e53a02e8c58a6c123a0a9526_1dist_pqcodes_to_codebooks(PyObject *__pyx_self, PyObject *__pyx_args, PyObject *__pyx_kwds) {\n",
       "  long __pyx_v_M;\n",
       "  __Pyx_memviewslice __pyx_v_dtable = { 0, 0, { 0 }, { 0 }, { 0 } };\n",
       "  __Pyx_memviewslice __pyx_v_pq_codes = { 0, 0, { 0 }, { 0 }, { 0 } };\n",
       "  PyObject *__pyx_r = 0;\n",
       "  <span class='refnanny'>__Pyx_RefNannyDeclarations</span>\n",
       "  <span class='refnanny'>__Pyx_RefNannySetupContext</span>(\"dist_pqcodes_to_codebooks (wrapper)\", 0);\n",
       "  {\n",
       "    static PyObject **__pyx_pyargnames[] = {&amp;__pyx_n_s_M,&amp;__pyx_n_s_dtable,&amp;__pyx_n_s_pq_codes,0};\n",
       "    PyObject* values[3] = {0,0,0};\n",
       "    if (unlikely(__pyx_kwds)) {\n",
       "      Py_ssize_t kw_args;\n",
       "      const Py_ssize_t pos_args = <span class='py_macro_api'>PyTuple_GET_SIZE</span>(__pyx_args);\n",
       "      switch (pos_args) {\n",
       "        case  3: values[2] = <span class='py_macro_api'>PyTuple_GET_ITEM</span>(__pyx_args, 2);\n",
       "        CYTHON_FALLTHROUGH;\n",
       "        case  2: values[1] = <span class='py_macro_api'>PyTuple_GET_ITEM</span>(__pyx_args, 1);\n",
       "        CYTHON_FALLTHROUGH;\n",
       "        case  1: values[0] = <span class='py_macro_api'>PyTuple_GET_ITEM</span>(__pyx_args, 0);\n",
       "        CYTHON_FALLTHROUGH;\n",
       "        case  0: break;\n",
       "        default: goto __pyx_L5_argtuple_error;\n",
       "      }\n",
       "      kw_args = <span class='py_c_api'>PyDict_Size</span>(__pyx_kwds);\n",
       "      switch (pos_args) {\n",
       "        case  0:\n",
       "        if (likely((values[0] = <span class='pyx_c_api'>__Pyx_PyDict_GetItemStr</span>(__pyx_kwds, __pyx_n_s_M)) != 0)) kw_args--;\n",
       "        else goto __pyx_L5_argtuple_error;\n",
       "        CYTHON_FALLTHROUGH;\n",
       "        case  1:\n",
       "        if (likely((values[1] = <span class='pyx_c_api'>__Pyx_PyDict_GetItemStr</span>(__pyx_kwds, __pyx_n_s_dtable)) != 0)) kw_args--;\n",
       "        else {\n",
       "          <span class='pyx_c_api'>__Pyx_RaiseArgtupleInvalid</span>(\"dist_pqcodes_to_codebooks\", 1, 3, 3, 1); <span class='error_goto'>__PYX_ERR(0, 25, __pyx_L3_error)</span>\n",
       "        }\n",
       "        CYTHON_FALLTHROUGH;\n",
       "        case  2:\n",
       "        if (likely((values[2] = <span class='pyx_c_api'>__Pyx_PyDict_GetItemStr</span>(__pyx_kwds, __pyx_n_s_pq_codes)) != 0)) kw_args--;\n",
       "        else {\n",
       "          <span class='pyx_c_api'>__Pyx_RaiseArgtupleInvalid</span>(\"dist_pqcodes_to_codebooks\", 1, 3, 3, 2); <span class='error_goto'>__PYX_ERR(0, 25, __pyx_L3_error)</span>\n",
       "        }\n",
       "      }\n",
       "      if (unlikely(kw_args &gt; 0)) {\n",
       "        if (unlikely(<span class='pyx_c_api'>__Pyx_ParseOptionalKeywords</span>(__pyx_kwds, __pyx_pyargnames, 0, values, pos_args, \"dist_pqcodes_to_codebooks\") &lt; 0)) <span class='error_goto'>__PYX_ERR(0, 25, __pyx_L3_error)</span>\n",
       "      }\n",
       "    } else if (<span class='py_macro_api'>PyTuple_GET_SIZE</span>(__pyx_args) != 3) {\n",
       "      goto __pyx_L5_argtuple_error;\n",
       "    } else {\n",
       "      values[0] = <span class='py_macro_api'>PyTuple_GET_ITEM</span>(__pyx_args, 0);\n",
       "      values[1] = <span class='py_macro_api'>PyTuple_GET_ITEM</span>(__pyx_args, 1);\n",
       "      values[2] = <span class='py_macro_api'>PyTuple_GET_ITEM</span>(__pyx_args, 2);\n",
       "    }\n",
       "    __pyx_v_M = <span class='pyx_c_api'>__Pyx_PyInt_As_long</span>(values[0]); if (unlikely((__pyx_v_M == (long)-1) &amp;&amp; <span class='py_c_api'>PyErr_Occurred</span>())) <span class='error_goto'>__PYX_ERR(0, 25, __pyx_L3_error)</span>\n",
       "    __pyx_v_dtable = <span class='pyx_c_api'>__Pyx_PyObject_to_MemoryviewSlice_dsds_float</span>(values[1], PyBUF_WRITABLE);<span class='error_goto'> if (unlikely(!__pyx_v_dtable.memview)) __PYX_ERR(0, 25, __pyx_L3_error)</span>\n",
       "    __pyx_v_pq_codes = <span class='pyx_c_api'>__Pyx_PyObject_to_MemoryviewSlice_dsds_long</span>(values[2], PyBUF_WRITABLE);<span class='error_goto'> if (unlikely(!__pyx_v_pq_codes.memview)) __PYX_ERR(0, 25, __pyx_L3_error)</span>\n",
       "  }\n",
       "  goto __pyx_L4_argument_unpacking_done;\n",
       "  __pyx_L5_argtuple_error:;\n",
       "  <span class='pyx_c_api'>__Pyx_RaiseArgtupleInvalid</span>(\"dist_pqcodes_to_codebooks\", 1, 3, 3, <span class='py_macro_api'>PyTuple_GET_SIZE</span>(__pyx_args)); <span class='error_goto'>__PYX_ERR(0, 25, __pyx_L3_error)</span>\n",
       "  __pyx_L3_error:;\n",
       "  <span class='pyx_c_api'>__Pyx_AddTraceback</span>(\"_cython_magic_3b75e4a9e53a02e8c58a6c123a0a9526.dist_pqcodes_to_codebooks\", __pyx_clineno, __pyx_lineno, __pyx_filename);\n",
       "  <span class='refnanny'>__Pyx_RefNannyFinishContext</span>();\n",
       "  return NULL;\n",
       "  __pyx_L4_argument_unpacking_done:;\n",
       "  __pyx_r = __pyx_pf_46_cython_magic_3b75e4a9e53a02e8c58a6c123a0a9526_dist_pqcodes_to_codebooks(__pyx_self, __pyx_v_M, __pyx_v_dtable, __pyx_v_pq_codes);\n",
       "  int __pyx_lineno = 0;\n",
       "  const char *__pyx_filename = NULL;\n",
       "  int __pyx_clineno = 0;\n",
       "\n",
       "  /* function exit code */\n",
       "  <span class='refnanny'>__Pyx_RefNannyFinishContext</span>();\n",
       "  return __pyx_r;\n",
       "}\n",
       "\n",
       "static PyObject *__pyx_pf_46_cython_magic_3b75e4a9e53a02e8c58a6c123a0a9526_dist_pqcodes_to_codebooks(CYTHON_UNUSED PyObject *__pyx_self, long __pyx_v_M, __Pyx_memviewslice __pyx_v_dtable, __Pyx_memviewslice __pyx_v_pq_codes) {\n",
       "  PyObject *__pyx_r = NULL;\n",
       "  <span class='refnanny'>__Pyx_RefNannyDeclarations</span>\n",
       "  <span class='refnanny'>__Pyx_RefNannySetupContext</span>(\"dist_pqcodes_to_codebooks\", 0);\n",
       "  <span class='pyx_macro_api'>__Pyx_XDECREF</span>(__pyx_r);\n",
       "  if (unlikely(!__pyx_v_dtable.memview)) { <span class='pyx_c_api'>__Pyx_RaiseUnboundLocalError</span>(\"dtable\"); <span class='error_goto'>__PYX_ERR(0, 25, __pyx_L1_error)</span> }\n",
       "  if (unlikely(!__pyx_v_pq_codes.memview)) { <span class='pyx_c_api'>__Pyx_RaiseUnboundLocalError</span>(\"pq_codes\"); <span class='error_goto'>__PYX_ERR(0, 25, __pyx_L1_error)</span> }\n",
       "  __pyx_t_1 = __pyx_f_46_cython_magic_3b75e4a9e53a02e8c58a6c123a0a9526_dist_pqcodes_to_codebooks(__pyx_v_M, __pyx_v_dtable, __pyx_v_pq_codes, 0);<span class='error_goto'> if (unlikely(!__pyx_t_1)) __PYX_ERR(0, 25, __pyx_L1_error)</span>\n",
       "  <span class='refnanny'>__Pyx_GOTREF</span>(__pyx_t_1);\n",
       "  __pyx_r = __pyx_t_1;\n",
       "  __pyx_t_1 = 0;\n",
       "  goto __pyx_L0;\n",
       "\n",
       "  /* function exit code */\n",
       "  __pyx_L1_error:;\n",
       "  <span class='pyx_macro_api'>__Pyx_XDECREF</span>(__pyx_t_1);\n",
       "  <span class='pyx_c_api'>__Pyx_AddTraceback</span>(\"_cython_magic_3b75e4a9e53a02e8c58a6c123a0a9526.dist_pqcodes_to_codebooks\", __pyx_clineno, __pyx_lineno, __pyx_filename);\n",
       "  __pyx_r = NULL;\n",
       "  __pyx_L0:;\n",
       "  __PYX_XDEC_MEMVIEW(&amp;__pyx_v_dtable, 1);\n",
       "  __PYX_XDEC_MEMVIEW(&amp;__pyx_v_pq_codes, 1);\n",
       "  <span class='refnanny'>__Pyx_XGIVEREF</span>(__pyx_r);\n",
       "  <span class='refnanny'>__Pyx_RefNannyFinishContext</span>();\n",
       "  return __pyx_r;\n",
       "}\n",
       "</pre><pre class=\"cython line score-0\">&#xA0;<span class=\"\">26</span>:     <span class=\"k\">cdef</span><span class=\"p\">:</span></pre>\n",
       "<pre class=\"cython line score-0\">&#xA0;<span class=\"\">27</span>:         <span class=\"nb\">int</span> <span class=\"n\">m</span><span class=\"p\">,</span> <span class=\"n\">loops</span></pre>\n",
       "<pre class=\"cython line score-0\" onclick=\"(function(s){s.display=s.display==='block'?'none':'block'})(this.nextElementSibling.style)\">+<span class=\"\">28</span>:         <span class=\"nb\">int</span> <span class=\"n\">N</span> <span class=\"o\">=</span> <span class=\"n\">pq_codes</span><span class=\"o\">.</span><span class=\"n\">shape</span><span class=\"p\">[</span><span class=\"mf\">0</span><span class=\"p\">]</span></pre>\n",
       "<pre class='cython code score-0 '>  __pyx_v_N = (__pyx_v_pq_codes.shape[0]);\n",
       "</pre><pre class=\"cython line score-0\">&#xA0;<span class=\"\">29</span>:         <span class=\"c\">#float[:] dists = np.empty(N, dtype=np.float32)</span></pre>\n",
       "<pre class=\"cython line score-0\">&#xA0;<span class=\"\">30</span>:         <span class=\"n\">vector</span><span class=\"p\">[</span><span class=\"nb\">float</span><span class=\"p\">]</span> <span class=\"n\">dists</span></pre>\n",
       "<pre class=\"cython line score-0\">&#xA0;<span class=\"\">31</span>: </pre>\n",
       "<pre class=\"cython line score-0\" onclick=\"(function(s){s.display=s.display==='block'?'none':'block'})(this.nextElementSibling.style)\">+<span class=\"\">32</span>:     <span class=\"k\">for</span> <span class=\"n\">n</span> <span class=\"ow\">in</span> <span class=\"nb\">range</span><span class=\"p\">(</span><span class=\"n\">N</span><span class=\"p\">):</span></pre>\n",
       "<pre class='cython code score-0 '>  __pyx_t_1 = __pyx_v_N;\n",
       "  __pyx_t_2 = __pyx_t_1;\n",
       "  for (__pyx_t_3 = 0; __pyx_t_3 &lt; __pyx_t_2; __pyx_t_3+=1) {\n",
       "    __pyx_v_n = __pyx_t_3;\n",
       "</pre><pre class=\"cython line score-0\" onclick=\"(function(s){s.display=s.display==='block'?'none':'block'})(this.nextElementSibling.style)\">+<span class=\"\">33</span>:         <span class=\"n\">dists</span><span class=\"o\">.</span><span class=\"n\">push_back</span><span class=\"p\">(</span><span class=\"n\">dist_pqcode_to_codebook</span><span class=\"p\">(</span><span class=\"n\">M</span><span class=\"p\">,</span> <span class=\"n\">dtable</span><span class=\"p\">,</span> <span class=\"n\">pq_codes</span><span class=\"p\">[</span><span class=\"n\">n</span><span class=\"p\">,:]))</span></pre>\n",
       "<pre class='cython code score-0 '>    __pyx_t_4.data = __pyx_v_pq_codes.data;\n",
       "    __pyx_t_4.memview = __pyx_v_pq_codes.memview;\n",
       "    __PYX_INC_MEMVIEW(&amp;__pyx_t_4, 0);\n",
       "    {\n",
       "    Py_ssize_t __pyx_tmp_idx = __pyx_v_n;\n",
       "    Py_ssize_t __pyx_tmp_stride = __pyx_v_pq_codes.strides[0];\n",
       "        __pyx_t_4.data += __pyx_tmp_idx * __pyx_tmp_stride;\n",
       "}\n",
       "\n",
       "__pyx_t_4.shape[0] = __pyx_v_pq_codes.shape[1];\n",
       "__pyx_t_4.strides[0] = __pyx_v_pq_codes.strides[1];\n",
       "    __pyx_t_4.suboffsets[0] = -1;\n",
       "\n",
       "try {\n",
       "      __pyx_v_dists.push_back(__pyx_f_46_cython_magic_3b75e4a9e53a02e8c58a6c123a0a9526_dist_pqcode_to_codebook(__pyx_v_M, __pyx_v_dtable, __pyx_t_4));\n",
       "    } catch(...) {\n",
       "      __Pyx_CppExn2PyErr();\n",
       "      <span class='error_goto'>__PYX_ERR(0, 33, __pyx_L1_error)</span>\n",
       "    }\n",
       "    __PYX_XDEC_MEMVIEW(&amp;__pyx_t_4, 1);\n",
       "    __pyx_t_4.memview = NULL;\n",
       "    __pyx_t_4.data = NULL;\n",
       "  }\n",
       "</pre><pre class=\"cython line score-0\">&#xA0;<span class=\"\">34</span>: </pre>\n",
       "<pre class=\"cython line score-23\" onclick=\"(function(s){s.display=s.display==='block'?'none':'block'})(this.nextElementSibling.style)\">+<span class=\"\">35</span>:     <span class=\"k\">return</span> <span class=\"n\">np</span><span class=\"o\">.</span><span class=\"n\">asarray</span><span class=\"p\">(</span><span class=\"n\">dists</span><span class=\"p\">)</span></pre>\n",
       "<pre class='cython code score-23 '>  <span class='pyx_macro_api'>__Pyx_XDECREF</span>(__pyx_r);\n",
       "  <span class='pyx_c_api'>__Pyx_GetModuleGlobalName</span>(__pyx_t_6, __pyx_n_s_np);<span class='error_goto'> if (unlikely(!__pyx_t_6)) __PYX_ERR(0, 35, __pyx_L1_error)</span>\n",
       "  <span class='refnanny'>__Pyx_GOTREF</span>(__pyx_t_6);\n",
       "  __pyx_t_7 = <span class='pyx_c_api'>__Pyx_PyObject_GetAttrStr</span>(__pyx_t_6, __pyx_n_s_asarray);<span class='error_goto'> if (unlikely(!__pyx_t_7)) __PYX_ERR(0, 35, __pyx_L1_error)</span>\n",
       "  <span class='refnanny'>__Pyx_GOTREF</span>(__pyx_t_7);\n",
       "  <span class='pyx_macro_api'>__Pyx_DECREF</span>(__pyx_t_6); __pyx_t_6 = 0;\n",
       "  __pyx_t_6 = <span class='pyx_c_api'>__pyx_convert_vector_to_py_float</span>(__pyx_v_dists);<span class='error_goto'> if (unlikely(!__pyx_t_6)) __PYX_ERR(0, 35, __pyx_L1_error)</span>\n",
       "  <span class='refnanny'>__Pyx_GOTREF</span>(__pyx_t_6);\n",
       "  __pyx_t_8 = NULL;\n",
       "  if (CYTHON_UNPACK_METHODS &amp;&amp; unlikely(<span class='py_c_api'>PyMethod_Check</span>(__pyx_t_7))) {\n",
       "    __pyx_t_8 = <span class='py_macro_api'>PyMethod_GET_SELF</span>(__pyx_t_7);\n",
       "    if (likely(__pyx_t_8)) {\n",
       "      PyObject* function = <span class='py_macro_api'>PyMethod_GET_FUNCTION</span>(__pyx_t_7);\n",
       "      <span class='pyx_macro_api'>__Pyx_INCREF</span>(__pyx_t_8);\n",
       "      <span class='pyx_macro_api'>__Pyx_INCREF</span>(function);\n",
       "      <span class='pyx_macro_api'>__Pyx_DECREF_SET</span>(__pyx_t_7, function);\n",
       "    }\n",
       "  }\n",
       "  __pyx_t_5 = (__pyx_t_8) ? __Pyx_PyObject_Call2Args(__pyx_t_7, __pyx_t_8, __pyx_t_6) : <span class='pyx_c_api'>__Pyx_PyObject_CallOneArg</span>(__pyx_t_7, __pyx_t_6);\n",
       "  <span class='pyx_macro_api'>__Pyx_XDECREF</span>(__pyx_t_8); __pyx_t_8 = 0;\n",
       "  <span class='pyx_macro_api'>__Pyx_DECREF</span>(__pyx_t_6); __pyx_t_6 = 0;\n",
       "  if (unlikely(!__pyx_t_5)) <span class='error_goto'>__PYX_ERR(0, 35, __pyx_L1_error)</span>\n",
       "  <span class='refnanny'>__Pyx_GOTREF</span>(__pyx_t_5);\n",
       "  <span class='pyx_macro_api'>__Pyx_DECREF</span>(__pyx_t_7); __pyx_t_7 = 0;\n",
       "  __pyx_r = __pyx_t_5;\n",
       "  __pyx_t_5 = 0;\n",
       "  goto __pyx_L0;\n",
       "</pre><pre class=\"cython line score-0\">&#xA0;<span class=\"\">36</span>: </pre>\n",
       "</div></body></html>"
      ],
      "text/plain": [
       "<IPython.core.display.HTML object>"
      ]
     },
     "execution_count": 108,
     "metadata": {},
     "output_type": "execute_result"
    }
   ],
   "source": [
    "%%cython -a\n",
    "\n",
    "# distutils: language = c++\n",
    "\n",
    "from libcpp.vector cimport vector\n",
    "\n",
    "cimport numpy as np\n",
    "cimport cython\n",
    "import numpy as np\n",
    "\n",
    "from cpython.array cimport array, clone\n",
    "\n",
    "@cython.boundscheck(False)\n",
    "@cython.wraparound(False)\n",
    "cdef inline float dist_pqcode_to_codebook(long M, float[:,:] dtable,long[:] pq_code):\n",
    "    cdef float dist = 0\n",
    "    cdef int m\n",
    "    \n",
    "    for m in range(M):\n",
    "        dist += dtable[m, pq_code[m]]\n",
    "\n",
    "    return dist\n",
    "\n",
    "@cython.boundscheck(False)\n",
    "@cython.wraparound(False)\n",
    "cpdef dist_pqcodes_to_codebooks(long M, float[:,:] dtable, long[:,:] pq_codes):\n",
    "    cdef:\n",
    "        int m, loops\n",
    "        int N = pq_codes.shape[0] \n",
    "        #float[:] dists = np.empty(N, dtype=np.float32)\n",
    "        vector[float] dists\n",
    "    \n",
    "    for n in range(N):\n",
    "        dists.push_back(dist_pqcode_to_codebook(M, dtable, pq_codes[n,:]))\n",
    "\n",
    "    return np.asarray(dists)\n",
    "             "
   ]
  },
  {
   "cell_type": "code",
   "execution_count": 109,
   "metadata": {
    "ExecuteTime": {
     "end_time": "2021-11-18T18:11:49.354914Z",
     "start_time": "2021-11-18T18:11:49.351989Z"
    }
   },
   "outputs": [
    {
     "data": {
      "text/plain": [
       "array([17.40264702])"
      ]
     },
     "execution_count": 109,
     "metadata": {},
     "output_type": "execute_result"
    }
   ],
   "source": [
    "dist_pqcodes_to_codebooks(M, dtable, pq_codes_batch)"
   ]
  },
  {
   "cell_type": "code",
   "execution_count": 110,
   "metadata": {
    "ExecuteTime": {
     "end_time": "2021-11-18T18:12:05.880641Z",
     "start_time": "2021-11-18T18:11:50.870183Z"
    }
   },
   "outputs": [
    {
     "name": "stdout",
     "output_type": "stream",
     "text": [
      "1.85 µs ± 19.8 ns per loop (mean ± std. dev. of 7 runs, 1000000 loops each)\n"
     ]
    }
   ],
   "source": [
    "%timeit dist_pqcodes_to_codebooks(M, dtable, pq_codes_batch)"
   ]
  },
  {
   "cell_type": "code",
   "execution_count": 115,
   "metadata": {
    "ExecuteTime": {
     "end_time": "2021-11-18T18:12:45.649897Z",
     "start_time": "2021-11-18T18:12:45.647756Z"
    }
   },
   "outputs": [],
   "source": [
    "pq_codes_batch_50 = np.vstack([pq_codes_batch for i in range(50)])"
   ]
  },
  {
   "cell_type": "code",
   "execution_count": 116,
   "metadata": {
    "ExecuteTime": {
     "end_time": "2021-11-18T18:12:52.212505Z",
     "start_time": "2021-11-18T18:12:46.479124Z"
    }
   },
   "outputs": [
    {
     "name": "stdout",
     "output_type": "stream",
     "text": [
      "7.06 µs ± 102 ns per loop (mean ± std. dev. of 7 runs, 100000 loops each)\n"
     ]
    }
   ],
   "source": [
    "%timeit dist_pqcodes_to_codebooks(M, dtable, pq_codes_batch_50)"
   ]
  },
  {
   "cell_type": "code",
   "execution_count": 117,
   "metadata": {
    "ExecuteTime": {
     "end_time": "2021-11-18T18:13:04.108634Z",
     "start_time": "2021-11-18T18:12:52.223888Z"
    }
   },
   "outputs": [
    {
     "name": "stdout",
     "output_type": "stream",
     "text": [
      "14.6 µs ± 315 ns per loop (mean ± std. dev. of 7 runs, 100000 loops each)\n"
     ]
    }
   ],
   "source": [
    "%timeit dtable[range(M),pq_codes_batch_50].sum(axis=1)"
   ]
  },
  {
   "cell_type": "markdown",
   "metadata": {},
   "source": [
    "If we don't need an output as a numpy array (a list is fine) we can go with the following implementation which is 2x faster"
   ]
  },
  {
   "cell_type": "code",
   "execution_count": 120,
   "metadata": {
    "ExecuteTime": {
     "end_time": "2021-11-18T18:17:10.267049Z",
     "start_time": "2021-11-18T18:17:10.263269Z"
    }
   },
   "outputs": [],
   "source": [
    "%%cython\n",
    "\n",
    "# distutils: language = c++\n",
    "\n",
    "from libcpp.vector cimport vector\n",
    "\n",
    "cimport numpy as np\n",
    "cimport cython\n",
    "import numpy as np\n",
    "\n",
    "from cpython.array cimport array, clone\n",
    "\n",
    "@cython.boundscheck(False)\n",
    "@cython.wraparound(False)\n",
    "cdef inline float dist_pqcode_to_codebook(long M, float[:,:] dtable,long[:] pq_code):\n",
    "    cdef float dist = 0\n",
    "    cdef int m\n",
    "    \n",
    "    for m in range(M):\n",
    "        dist += dtable[m, pq_code[m]]\n",
    "\n",
    "    return dist\n",
    "\n",
    "@cython.boundscheck(False)\n",
    "@cython.wraparound(False)\n",
    "cpdef dist_pqcodes_to_codebooks(long M, float[:,:] dtable, long[:,:] pq_codes):\n",
    "    cdef:\n",
    "        int m, loops\n",
    "        int N = pq_codes.shape[0] \n",
    "        #float[:] dists = np.empty(N, dtype=np.float32)\n",
    "        vector[float] dists\n",
    "    \n",
    "    for n in range(N):\n",
    "        dists.push_back(dist_pqcode_to_codebook(M, dtable, pq_codes[n,:]))\n",
    "\n",
    "    return dists\n",
    "             "
   ]
  },
  {
   "cell_type": "code",
   "execution_count": 122,
   "metadata": {
    "ExecuteTime": {
     "end_time": "2021-11-18T18:17:24.391025Z",
     "start_time": "2021-11-18T18:17:19.071236Z"
    }
   },
   "outputs": [
    {
     "name": "stdout",
     "output_type": "stream",
     "text": [
      "653 ns ± 2.08 ns per loop (mean ± std. dev. of 7 runs, 1000000 loops each)\n"
     ]
    }
   ],
   "source": [
    "%timeit dist_pqcodes_to_codebooks(M, dtable, pq_codes_batch)"
   ]
  },
  {
   "cell_type": "code",
   "execution_count": 121,
   "metadata": {
    "ExecuteTime": {
     "end_time": "2021-11-18T18:17:17.317021Z",
     "start_time": "2021-11-18T18:17:14.447851Z"
    }
   },
   "outputs": [
    {
     "name": "stdout",
     "output_type": "stream",
     "text": [
      "3.54 µs ± 61.6 ns per loop (mean ± std. dev. of 7 runs, 100000 loops each)\n"
     ]
    }
   ],
   "source": [
    "%timeit dist_pqcodes_to_codebooks(M, dtable, pq_codes_batch_50)"
   ]
  },
  {
   "cell_type": "code",
   "execution_count": null,
   "metadata": {},
   "outputs": [],
   "source": []
  },
  {
   "cell_type": "code",
   "execution_count": null,
   "metadata": {},
   "outputs": [],
   "source": []
  },
  {
   "cell_type": "markdown",
   "metadata": {},
   "source": [
    "## Speed up `precompute_adc` function"
   ]
  },
  {
   "cell_type": "code",
   "execution_count": 87,
   "metadata": {
    "ExecuteTime": {
     "end_time": "2021-11-17T16:37:00.181878Z",
     "start_time": "2021-11-17T16:37:00.152685Z"
    }
   },
   "outputs": [],
   "source": [
    "\n",
    "import sklearn\n",
    "from sklearn.datasets import make_blobs\n",
    "from sklearn.model_selection import train_test_split\n",
    "\n",
    "from pqlite.core.codec.pq import PQCodec\n",
    "\n",
    "D = 128\n",
    "n_clusters = 256\n",
    "M = 32\n",
    "\n",
    "D = 128 # dimentionality / number of features\n",
    "top_k = 100\n",
    "n_cells = 18\n",
    "Nt = 5000\n",
    "d_subvector = int(D/M)\n",
    "n_subvectors = M\n",
    "\n",
    "\n",
    "np.random.seed(123)\n",
    "Xtr, Xte =train_test_split(make_blobs(n_samples = Nt, n_features = D)[0].astype(np.float32), test_size=20)\n",
    "\n",
    "pq = PQCodec(D, M, n_clusters)"
   ]
  },
  {
   "cell_type": "code",
   "execution_count": 88,
   "metadata": {
    "ExecuteTime": {
     "end_time": "2021-11-17T16:37:00.853937Z",
     "start_time": "2021-11-17T16:37:00.849972Z"
    }
   },
   "outputs": [
    {
     "data": {
      "text/plain": [
       "(128, 32, 4, 32)"
      ]
     },
     "execution_count": 88,
     "metadata": {},
     "output_type": "execute_result"
    }
   ],
   "source": [
    "D, M, d_subvector, n_subvectors"
   ]
  },
  {
   "cell_type": "code",
   "execution_count": 89,
   "metadata": {
    "ExecuteTime": {
     "end_time": "2021-11-17T16:37:11.427695Z",
     "start_time": "2021-11-17T16:37:01.502023Z"
    }
   },
   "outputs": [],
   "source": [
    "pq.fit(Xtr)"
   ]
  },
  {
   "cell_type": "code",
   "execution_count": 90,
   "metadata": {
    "ExecuteTime": {
     "end_time": "2021-11-17T16:37:11.446181Z",
     "start_time": "2021-11-17T16:37:11.443326Z"
    }
   },
   "outputs": [
    {
     "data": {
      "text/plain": [
       "(32, 256, 4)"
      ]
     },
     "execution_count": 90,
     "metadata": {},
     "output_type": "execute_result"
    }
   ],
   "source": [
    "codebooks = pq.codebooks\n",
    "codebooks.shape"
   ]
  },
  {
   "cell_type": "code",
   "execution_count": 91,
   "metadata": {
    "ExecuteTime": {
     "end_time": "2021-11-17T16:37:11.464583Z",
     "start_time": "2021-11-17T16:37:11.461801Z"
    }
   },
   "outputs": [
    {
     "data": {
      "text/plain": [
       "(256, 4)"
      ]
     },
     "execution_count": 91,
     "metadata": {},
     "output_type": "execute_result"
    }
   ],
   "source": [
    "codebooks[0].shape"
   ]
  },
  {
   "cell_type": "code",
   "execution_count": 77,
   "metadata": {
    "ExecuteTime": {
     "end_time": "2021-11-16T16:29:36.704177Z",
     "start_time": "2021-11-16T16:29:32.523892Z"
    }
   },
   "outputs": [
    {
     "name": "stdout",
     "output_type": "stream",
     "text": [
      "513 µs ± 5.48 µs per loop (mean ± std. dev. of 7 runs, 1000 loops each)\n"
     ]
    }
   ],
   "source": [
    "%timeit pq.precompute_adc(Xtr[4,:])"
   ]
  },
  {
   "cell_type": "code",
   "execution_count": 92,
   "metadata": {
    "ExecuteTime": {
     "end_time": "2021-11-17T16:37:11.488336Z",
     "start_time": "2021-11-17T16:37:11.486296Z"
    },
    "scrolled": false
   },
   "outputs": [],
   "source": [
    "query = Xtr[4,:]\n",
    "#distance_table_from_class = pq.precompute_adc(query)\n",
    "#distance_table_from_class.dtable.shape"
   ]
  },
  {
   "cell_type": "code",
   "execution_count": 93,
   "metadata": {
    "ExecuteTime": {
     "end_time": "2021-11-17T16:37:11.508571Z",
     "start_time": "2021-11-17T16:37:11.503858Z"
    }
   },
   "outputs": [
    {
     "data": {
      "text/plain": [
       "(32, 256)"
      ]
     },
     "execution_count": 93,
     "metadata": {},
     "output_type": "execute_result"
    }
   ],
   "source": [
    "dtable = pq.precompute_adc(Xtr[4,:])\n",
    "dtable.dtable.shape"
   ]
  },
  {
   "cell_type": "code",
   "execution_count": 179,
   "metadata": {
    "ExecuteTime": {
     "end_time": "2021-11-17T18:18:22.467109Z",
     "start_time": "2021-11-17T18:18:22.455197Z"
    }
   },
   "outputs": [
    {
     "name": "stdout",
     "output_type": "stream",
     "text": [
      "[ 5.7007833 -2.8085563  4.471332  -6.107677 ]\n",
      "[ 2.1323197  7.2024508 10.226158  -8.758023 ]\n",
      "[-0.9764044  -5.2295575  -0.61654216  1.1029097 ]\n",
      "[-6.669144 -4.418286  9.053021  2.149657]\n",
      "[-0.20022273  6.226501    4.7971654  -9.555226  ]\n",
      "[ 5.864654   8.026492  -7.0119166  6.246779 ]\n",
      "[-2.7369807 -5.6644206  3.464692  -9.996476 ]\n",
      "[ 4.0115952  8.87224    3.0414064 -2.5239882]\n",
      "[-0.89868146  5.2955227   1.101024   -8.345474  ]\n",
      "[ 2.6671724  6.4567213 -4.048157   8.562549 ]\n",
      "[ 4.8343267  2.780991   5.7438736 -7.9671087]\n",
      "[ 8.198433   6.8236904  8.358163  -8.474051 ]\n",
      "[-8.6224785 -5.8501544 -2.6554124 -2.8096726]\n",
      "[-0.15733108 -5.373121   -6.6942797   6.8998747 ]\n",
      "[ -2.203237     6.036231   -10.329724     0.59619546]\n",
      "[ 9.968843   0.6003177 -6.3680234  5.591793 ]\n",
      "[-3.0840025  3.7997324 -9.29037    3.2687526]\n",
      "[-10.0336895    5.4669385    0.23829271  -7.2484384 ]\n",
      "[-0.29932633 -9.099288    3.412477   11.089039  ]\n",
      "[ 6.5156407  1.5724932 -7.9759307  3.3829281]\n",
      "[ 3.6251895 -7.4156084  3.79495    0.7784265]\n",
      "[-2.5576801  6.0575724 -2.013469  -0.5058981]\n",
      "[-4.447029  -3.1622899  7.042103  -7.1508503]\n",
      "[-3.2163339 10.695849  -5.9205956  8.464346 ]\n",
      "[10.192387   -7.2008524  -2.3613672   0.45893186]\n",
      "[-3.3796659 -9.930908  -5.5330925 -6.3115096]\n",
      "[-7.7347255  4.951924   7.5867076 -7.749013 ]\n",
      "[-3.8819165  8.045136   0.4785305  3.4606361]\n",
      "[-10.5259905   1.5836174  10.480561   -0.9692833]\n",
      "[-9.585584    0.11316903  8.863224   -0.9133058 ]\n",
      "[ 6.8142715  5.6416483 -6.155755  -1.1280016]\n",
      "[ 4.258612  -2.09164   -6.9887824  8.332846 ]\n"
     ]
    },
    {
     "data": {
      "text/plain": [
       "(32, 256)"
      ]
     },
     "execution_count": 179,
     "metadata": {},
     "output_type": "execute_result"
    }
   ],
   "source": [
    "\n",
    "def precompute_adc3(query, \n",
    "                    d_subvector,\n",
    "                    n_clusters,\n",
    "                    codebooks):\n",
    "    n_subvectors = int(D/d_subvector)\n",
    "    dtable = np.empty((int(D/d_subvector), n_clusters), dtype=np.float32)\n",
    "\n",
    "    for m in range(n_subvectors):\n",
    "        query_sub = query[m * d_subvector : (m + 1) * d_subvector]\n",
    "        print(query_sub)\n",
    "        dtable[m, :] = np.linalg.norm(codebooks[m] - query_sub, axis=1) ** 2\n",
    "\n",
    "    return dtable\n",
    "\n",
    "dtable_custom = precompute_adc3(query, d_subvector, n_clusters, codebooks)\n",
    "dtable_custom.shape"
   ]
  },
  {
   "cell_type": "code",
   "execution_count": 115,
   "metadata": {
    "ExecuteTime": {
     "end_time": "2021-11-17T17:05:10.872007Z",
     "start_time": "2021-11-17T17:05:10.869575Z"
    }
   },
   "outputs": [],
   "source": [
    "np.testing.asserts_almost_equal(dtable_custom, dtable.dtable)"
   ]
  },
  {
   "cell_type": "code",
   "execution_count": 117,
   "metadata": {
    "ExecuteTime": {
     "end_time": "2021-11-17T17:07:57.469095Z",
     "start_time": "2021-11-17T17:07:57.466382Z"
    }
   },
   "outputs": [
    {
     "data": {
      "text/plain": [
       "(32, 256, 4)"
      ]
     },
     "execution_count": 117,
     "metadata": {},
     "output_type": "execute_result"
    }
   ],
   "source": [
    "codebooks.shape"
   ]
  },
  {
   "cell_type": "code",
   "execution_count": 132,
   "metadata": {
    "ExecuteTime": {
     "end_time": "2021-11-17T17:43:25.698855Z",
     "start_time": "2021-11-17T17:43:25.695948Z"
    }
   },
   "outputs": [
    {
     "data": {
      "text/plain": [
       "array([[ 5.5934744 , -3.1530006 ,  5.988966  , -8.190983  ],\n",
       "       [ 3.3398757 , -2.598072  , -4.629112  ,  1.2890896 ],\n",
       "       [ 2.0987072 ,  6.911557  , -9.568957  , -3.4636445 ],\n",
       "       ...,\n",
       "       [ 7.0042305 , -3.128198  ,  4.700182  , -7.6985955 ],\n",
       "       [ 2.3924043 , -4.9966908 , -4.1939397 ,  0.57079446],\n",
       "       [ 4.9000993 , -3.3311853 , -4.8454537 ,  1.0463784 ]],\n",
       "      dtype=float32)"
      ]
     },
     "execution_count": 132,
     "metadata": {},
     "output_type": "execute_result"
    }
   ],
   "source": [
    "codebooks[0][]"
   ]
  },
  {
   "cell_type": "markdown",
   "metadata": {},
   "source": [
    "We can avoid slices to use less memory and improve speed"
   ]
  },
  {
   "cell_type": "code",
   "execution_count": 150,
   "metadata": {
    "ExecuteTime": {
     "end_time": "2021-11-17T18:10:15.194782Z",
     "start_time": "2021-11-17T18:10:15.192079Z"
    }
   },
   "outputs": [
    {
     "data": {
      "text/plain": [
       "(256, 4)"
      ]
     },
     "execution_count": 150,
     "metadata": {},
     "output_type": "execute_result"
    }
   ],
   "source": [
    "codebooks[0].shape"
   ]
  },
  {
   "cell_type": "code",
   "execution_count": 154,
   "metadata": {
    "ExecuteTime": {
     "end_time": "2021-11-17T18:10:21.133305Z",
     "start_time": "2021-11-17T18:10:21.130861Z"
    },
    "scrolled": true
   },
   "outputs": [
    {
     "data": {
      "text/plain": [
       "((32, 256, 4), 32)"
      ]
     },
     "execution_count": 154,
     "metadata": {},
     "output_type": "execute_result"
    }
   ],
   "source": [
    "codebooks.shape, M"
   ]
  },
  {
   "cell_type": "code",
   "execution_count": 256,
   "metadata": {
    "ExecuteTime": {
     "end_time": "2021-11-17T18:33:43.816390Z",
     "start_time": "2021-11-17T18:33:43.775564Z"
    }
   },
   "outputs": [
    {
     "data": {
      "text/plain": [
       "(32, 256)"
      ]
     },
     "execution_count": 256,
     "metadata": {},
     "output_type": "execute_result"
    }
   ],
   "source": [
    "def precompute_adc3(query, \n",
    "                    d_subvector,\n",
    "                    n_clusters,\n",
    "                    codebooks):\n",
    "    \n",
    "    n_subvectors = int(D/d_subvector)\n",
    "    dtable = np.empty((int(D/d_subvector), n_clusters), dtype=np.float32)\n",
    "    query_subvec = np.empty(d_subvector, dtype=np.float32)\n",
    "    query_subcodeword = np.empty(d_subvector, dtype=np.float32)\n",
    "    \n",
    "    for m in range(n_subvectors):\n",
    "        \n",
    "        # load m'th subquery\n",
    "        i = 0\n",
    "        for k in range(m * d_subvector, (m + 1) * d_subvector):\n",
    "            query_subvec[i] = query[k]\n",
    "            i += 1\n",
    "            \n",
    "        for ind_prototype in range(n_clusters):\n",
    "            \n",
    "            # load prototype ind_prototype for the m'th subspace\n",
    "            for i in range(d_subvector):\n",
    "                query_subcodeword[i] = codebooks[m, ind_prototype, i]\n",
    "            \n",
    "            # load prototype ind_prototype for the m'th subspace\n",
    "            dist_subprototype_to_subquery = 0\n",
    "            for k in range(d_subvector):\n",
    "                coord_k = query_subcodeword[k] - query_subvec[k]\n",
    "                dist_subprototype_to_subquery += coord_k * coord_k\n",
    "            \n",
    "            dtable[m, ind_prototype] = dist_subprototype_to_subquery\n",
    "            \n",
    "    return dtable\n",
    "\n",
    "dtable_custom2 = precompute_adc3(query, d_subvector, n_clusters, codebooks)\n",
    "dtable_custom2.shape"
   ]
  },
  {
   "cell_type": "code",
   "execution_count": 183,
   "metadata": {
    "ExecuteTime": {
     "end_time": "2021-11-17T18:25:23.799452Z",
     "start_time": "2021-11-17T18:25:23.796419Z"
    }
   },
   "outputs": [
    {
     "data": {
      "text/plain": [
       "-1.3184126e-07"
      ]
     },
     "execution_count": 183,
     "metadata": {},
     "output_type": "execute_result"
    }
   ],
   "source": [
    "#np.testing.assert_array_almost_equal(dtable_custom, dtable_custom2)\n",
    "np.mean(dtable_custom - dtable_custom2)"
   ]
  },
  {
   "cell_type": "markdown",
   "metadata": {},
   "source": [
    "We can cythonize the previous function"
   ]
  },
  {
   "cell_type": "code",
   "execution_count": null,
   "metadata": {
    "ExecuteTime": {
     "start_time": "2021-11-17T18:56:48.761Z"
    },
    "scrolled": false
   },
   "outputs": [],
   "source": [
    "%%cython -a \n",
    "cimport numpy as cnp\n",
    "import numpy as np\n",
    "cimport cython\n",
    "from cython.cimports.libc.stdlib import malloc, free\n",
    "from cpython.mem cimport PyMem_Malloc, PyMem_Realloc, PyMem_Free\n",
    "\n",
    "             \n",
    "@cython.boundscheck(False)\n",
    "@cython.wraparound(False)\n",
    "cpdef float[:,:] precompute_adc_cy(float[:] query, \n",
    "                        long d_subvector,\n",
    "                        long n_clusters,\n",
    "                        float[::,:,:] codebooks):\n",
    "            \n",
    "    cdef int D = len(query)\n",
    "    cdef int M = int(D/d_subvector) \n",
    "    cdef int n_subvectors = int(D/d_subvector)\n",
    "    cdef int m,i,k,ind_prototype,j\n",
    "    \n",
    "    cdef float[::,:] dtable = np.empty((M, n_clusters), dtype=np.float32)\n",
    "    cdef float[::] query_subvec = np.empty(d_subvector, dtype=np.float32)\n",
    "    cdef float[::] query_subcodeword = np.empty(d_subvector, dtype=np.float32)\n",
    "    \n",
    "    #cdef double* query_subcodeword = <double*> PyMem_Malloc( d_subvector * sizeof(double))\n",
    "        \n",
    "    cdef float dist_subprototype_to_subquery, coord_j\n",
    "    \n",
    "    for m in range(n_subvectors):\n",
    "        \n",
    "        # load m'th subquery\n",
    "        i = 0\n",
    "        for k in range(m * d_subvector, (m + 1) * d_subvector):\n",
    "            query_subvec[i] = query[k]\n",
    "            i += 1\n",
    "            \n",
    "        for ind_prototype in range(n_clusters):\n",
    "            \n",
    "            # load prototype ind_prototype for the m'th subspace\n",
    "            for i in range(d_subvector):\n",
    "                query_subcodeword[i] = codebooks[m, ind_prototype, i]\n",
    "            \n",
    "            # load prototype ind_prototype for the m'th subspace\n",
    "            dist_subprototype_to_subquery = 0.\n",
    "            for j in range(d_subvector):\n",
    "                coord_j = query_subcodeword[j] - query_subvec[j]\n",
    "                dist_subprototype_to_subquery += coord_j * coord_j\n",
    "            \n",
    "            dtable[m, ind_prototype] = dist_subprototype_to_subquery\n",
    "    \n",
    "    free(query_subcodeword)\n",
    "    \n",
    "    return dtable\n"
   ]
  },
  {
   "cell_type": "code",
   "execution_count": 307,
   "metadata": {
    "ExecuteTime": {
     "end_time": "2021-11-17T18:48:53.313319Z",
     "start_time": "2021-11-17T18:48:49.426745Z"
    },
    "scrolled": false
   },
   "outputs": [
    {
     "name": "stdout",
     "output_type": "stream",
     "text": [
      "47.8 µs ± 191 ns per loop (mean ± std. dev. of 7 runs, 10000 loops each)\n"
     ]
    }
   ],
   "source": [
    "%timeit dtable_custom3 = precompute_adc_cy(query, d_subvector, n_clusters, codebooks)"
   ]
  },
  {
   "cell_type": "markdown",
   "metadata": {},
   "source": [
    "This is around a factor of 10x over the 'numpy vectorized' version"
   ]
  },
  {
   "cell_type": "code",
   "execution_count": 278,
   "metadata": {
    "ExecuteTime": {
     "end_time": "2021-11-17T18:39:24.839780Z",
     "start_time": "2021-11-17T18:39:21.023851Z"
    }
   },
   "outputs": [
    {
     "name": "stdout",
     "output_type": "stream",
     "text": [
      "470 µs ± 7.11 µs per loop (mean ± std. dev. of 7 runs, 1000 loops each)\n"
     ]
    }
   ],
   "source": [
    "%timeit pq.precompute_adc(Xtr[4,:])"
   ]
  },
  {
   "cell_type": "code",
   "execution_count": null,
   "metadata": {},
   "outputs": [],
   "source": []
  },
  {
   "cell_type": "code",
   "execution_count": null,
   "metadata": {},
   "outputs": [],
   "source": []
  },
  {
   "cell_type": "code",
   "execution_count": null,
   "metadata": {},
   "outputs": [],
   "source": []
  }
 ],
 "metadata": {
  "kernelspec": {
   "display_name": "Python 3 (ipykernel)",
   "language": "python",
   "name": "python3"
  },
  "language_info": {
   "codemirror_mode": {
    "name": "ipython",
    "version": 3
   },
   "file_extension": ".py",
   "mimetype": "text/x-python",
   "name": "python",
   "nbconvert_exporter": "python",
   "pygments_lexer": "ipython3",
   "version": "3.8.5"
  },
  "toc": {
   "base_numbering": 1,
   "nav_menu": {},
   "number_sections": true,
   "sideBar": true,
   "skip_h1_title": false,
   "title_cell": "Table of Contents",
   "title_sidebar": "Contents",
   "toc_cell": true,
   "toc_position": {},
   "toc_section_display": true,
   "toc_window_display": false
  },
  "varInspector": {
   "cols": {
    "lenName": 16,
    "lenType": 16,
    "lenVar": 40
   },
   "kernels_config": {
    "python": {
     "delete_cmd_postfix": "",
     "delete_cmd_prefix": "del ",
     "library": "var_list.py",
     "varRefreshCmd": "print(var_dic_list())"
    },
    "r": {
     "delete_cmd_postfix": ") ",
     "delete_cmd_prefix": "rm(",
     "library": "var_list.r",
     "varRefreshCmd": "cat(var_dic_list()) "
    }
   },
   "types_to_exclude": [
    "module",
    "function",
    "builtin_function_or_method",
    "instance",
    "_Feature"
   ],
   "window_display": false
  }
 },
 "nbformat": 4,
 "nbformat_minor": 5
}
